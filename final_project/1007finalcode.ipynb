{
 "cells": [
  {
   "cell_type": "markdown",
   "metadata": {},
   "source": [
    "## 1. Problem Background"
   ]
  },
  {
   "cell_type": "markdown",
   "metadata": {},
   "source": [
    "In  contemporary  society,  the  environment  prob-lems especially heavy air pollution become one ofthe most severe menace for peoples health in China.Within a typical year in China, the haze (also calledsmog) weather accounts for almost 80 percent daysin a year. In particular, the main pollution materialis  called  PM  2.5,  which  as  its  name  suggests  hasa  diameter  less  than2.5μmand  can  be  easilyinhaled into humans body and cause serious disease.Therefore, as a group of Chinese graduate studentsin NYU, our team tries to predict the future PM 2.5index and to design a simple web interface to helppeople to plan their activities healthily and wisely."
   ]
  },
  {
   "cell_type": "markdown",
   "metadata": {},
   "source": [
    "## 2. Data Cleaning"
   ]
  },
  {
   "cell_type": "code",
   "execution_count": null,
   "metadata": {
    "collapsed": true
   },
   "outputs": [],
   "source": [
    "#Loading library \n",
    "from matplotlib import pyplot as plt\n",
    "import numpy as np\n",
    "import pandas as pd\n",
    "import re\n",
    "import seaborn as sns\n",
    "from statistics import mode,mean\n",
    "import datetime\n",
    "from sklearn import preprocessing\n",
    "from numpy import genfromtxt\n",
    "from sklearn.preprocessing import MinMaxScaler"
   ]
  },
  {
   "cell_type": "code",
   "execution_count": null,
   "metadata": {
    "collapsed": false
   },
   "outputs": [],
   "source": [
    "\n",
    "\n",
    "#Dataset loading\n",
    "#https://archive.ics.uci.edu/ml/datasets/Beijing+PM2.5+Data#\n",
    "gz = pd.read_csv(\"GuangzhouPM20100101_20151231.csv\")\n",
    "gz.describe()"
   ]
  },
  {
   "cell_type": "code",
   "execution_count": null,
   "metadata": {
    "collapsed": false
   },
   "outputs": [],
   "source": [
    "print(\"NA count\\n\",gz.isnull().sum())\n",
    "print(\"gz shape\",gz.shape)\n",
    "print(\"NA percent\",max(gz.isnull().sum())/gz.shape[0])"
   ]
  },
  {
   "cell_type": "code",
   "execution_count": null,
   "metadata": {
    "collapsed": true
   },
   "outputs": [],
   "source": [
    "# #dataset Standardization and store information in dictionary for inversetransformation\n",
    "# statis = {}\n",
    "# def stands(x):\n",
    "#     statis[x.name] = {}\n",
    "#     statis[x.name][\"mean\"] = x.mean()\n",
    "#     statis[x.name][\"std\"] = x.std()\n",
    "#     x = (x-x.mean())/x.std()    \n",
    "#     return x\n",
    "# gz['DEWP'] = stands(gz['DEWP'])\n",
    "# gz['HUMI'] = stands(gz['HUMI'])\n",
    "# gz['PRES'] = stands(gz['PRES'])\n",
    "# gz['TEMP'] = stands(gz['TEMP'])\n",
    "# gz['Iws'] = stands(gz['Iws'])\n",
    "# gz['precipitation'] = stands(gz['precipitation'])\n",
    "# gz['Iprec'] = stands(gz['Iprec'])"
   ]
  },
  {
   "cell_type": "code",
   "execution_count": null,
   "metadata": {
    "collapsed": false
   },
   "outputs": [],
   "source": [
    "plt.figure(figsize=(15,12))\n",
    "plt.subplot(311)\n",
    "plt.scatter(gz['month'],gz['PM_City Station'], c='r', label = \"City Station\", marker=r'$\\clubsuit$')\n",
    "plt.legend(fontsize = 15)\n",
    "plt.subplot(312)\n",
    "plt.scatter(gz['month'],gz['PM_5th Middle School'],c='g', label = \"5th Middle School\", marker=(5, 2))\n",
    "plt.legend(fontsize = 15)\n",
    "plt.ylabel('PM2.5', fontsize=20)\n",
    "plt.subplot(313)\n",
    "plt.scatter(gz['month'],gz['PM_US Post'],c='b',label = \"US Post\", marker=(5, 0))\n",
    "plt.legend(fontsize = 15)\n",
    "\n",
    "plt.xlabel('month', fontsize=20)\n",
    "plt.show()"
   ]
  },
  {
   "cell_type": "code",
   "execution_count": null,
   "metadata": {
    "collapsed": true
   },
   "outputs": [],
   "source": [
    "gz = gz.drop(['PM_City Station','PM_US Post'],axis = 1)\n"
   ]
  },
  {
   "cell_type": "code",
   "execution_count": null,
   "metadata": {
    "collapsed": false
   },
   "outputs": [],
   "source": [
    "print(\"NA count\\n\",gz.isnull().sum())\n",
    "print(\"gz shape\",gz.shape)\n",
    "print(\"NA percent\",max(gz.isnull().sum())/gz.shape[0])"
   ]
  },
  {
   "cell_type": "code",
   "execution_count": null,
   "metadata": {
    "collapsed": false
   },
   "outputs": [],
   "source": [
    "plt.plot(gz['PM_5th Middle School'], 'g')\n",
    "plt.ylabel('PM2.5 reading', fontsize=15)\n",
    "plt.xlabel('record index', fontsize=15)\n",
    "plt.title('PM 2.5 at 5th Middle School',fontsize=20)\n",
    "plt.show()"
   ]
  },
  {
   "cell_type": "code",
   "execution_count": null,
   "metadata": {
    "collapsed": false
   },
   "outputs": [],
   "source": [
    "gz['PM_5th Middle School'].describe()"
   ]
  },
  {
   "cell_type": "code",
   "execution_count": null,
   "metadata": {
    "collapsed": false
   },
   "outputs": [],
   "source": [
    "# gz['PM_5th Middle School'] = stands(pd.rolling_median(gz['PM_5th Middle School'],30))"
   ]
  },
  {
   "cell_type": "code",
   "execution_count": null,
   "metadata": {
    "collapsed": false
   },
   "outputs": [],
   "source": [
    "#Because frist 350000 row of index has too many NAN, we drop first 35000 row. \n",
    "plt.plot(gz['PM_5th Middle School'], 'g')\n",
    "plt.ylabel('PM2.5 reading', fontsize=10)\n",
    "plt.xlabel('index', fontsize=10)\n",
    "plt.title('PM_5th Middle School',fontsize=20)\n",
    "plt.show()\n",
    "gz = gz.drop(gz.index[0:35000])"
   ]
  },
  {
   "cell_type": "code",
   "execution_count": null,
   "metadata": {
    "collapsed": false
   },
   "outputs": [],
   "source": [
    "plt.plot(gz['PM_5th Middle School'], 'g')\n",
    "plt.ylabel('PM2.5 reading', fontsize=15)\n",
    "plt.xlabel('Record index', fontsize=15)\n",
    "plt.title('PM2.5 at 5th Middle School after removing',fontsize=20)\n",
    "plt.show()"
   ]
  },
  {
   "cell_type": "code",
   "execution_count": null,
   "metadata": {
    "collapsed": false
   },
   "outputs": [],
   "source": [
    "gz['PM_5th Middle School'].describe()"
   ]
  },
  {
   "cell_type": "code",
   "execution_count": null,
   "metadata": {
    "collapsed": false
   },
   "outputs": [],
   "source": [
    "gz = gz.dropna(axis=0, how='any')\n",
    "print(\"gz NA count\\n\",gz.isnull().sum())\n",
    "print(\"gz shape\",gz.shape)\n",
    "print(\"NA percent\",sum(gz.isnull().sum())/gz.shape[0])"
   ]
  },
  {
   "cell_type": "code",
   "execution_count": null,
   "metadata": {
    "collapsed": true
   },
   "outputs": [],
   "source": [
    "gz.to_csv('gzpm_cleaned.csv')"
   ]
  },
  {
   "cell_type": "markdown",
   "metadata": {},
   "source": [
    "## 3.1 Data Modeling - Time Series"
   ]
  },
  {
   "cell_type": "code",
   "execution_count": null,
   "metadata": {
    "collapsed": false
   },
   "outputs": [],
   "source": [
    "data = pd.read_csv(\"gzpm_cleaned.csv\", index_col=0)\n",
    "data.head()"
   ]
  },
  {
   "cell_type": "markdown",
   "metadata": {},
   "source": [
    "### 3.1.1 Stability test"
   ]
  },
  {
   "cell_type": "code",
   "execution_count": null,
   "metadata": {
    "collapsed": false
   },
   "outputs": [],
   "source": [
    "pmdt = data[\"PM_5th Middle School\"]\n",
    "plt.plot(pmdt, 'g')\n",
    "plt.xlabel(\"label\")\n",
    "plt.ylabel(\"PM 2.5\")\n",
    "plt.show()"
   ]
  },
  {
   "cell_type": "code",
   "execution_count": null,
   "metadata": {
    "collapsed": false
   },
   "outputs": [],
   "source": [
    "import statsmodels.tsa.stattools as ts\n",
    "result = ts.adfuller(np.array(pmdt))\n",
    "result"
   ]
  },
  {
   "cell_type": "markdown",
   "metadata": {},
   "source": [
    "From the ADF test result, we can see the p-value is $3e-22$, which is strong enough to reject the original hypertheiss. Plus, the value of this test is $-11.9$, which is smaller than the three threshold in the levels of$1\\%, 10\\%, 5\\%$. So we can assume that our data is stationary."
   ]
  },
  {
   "cell_type": "markdown",
   "metadata": {},
   "source": [
    "### 3.1.2  Parameters Selection for ARIMA "
   ]
  },
  {
   "cell_type": "code",
   "execution_count": null,
   "metadata": {
    "collapsed": false
   },
   "outputs": [],
   "source": [
    "import itertools\n",
    "import warnings\n",
    "import statsmodels.api as sma\n",
    "p = d = q = range(0, 2)\n",
    "\n",
    "# Generate all different combinations of p, q and q triplets\n",
    "pdq = list(itertools.product(p, d, q))\n",
    "y = np.array(pmdt)\n",
    "# Generate all different combinations of seasonal p, q and q triplets\n",
    "seasonal_pdq = [(x[0], x[1], x[2], 12) for x in list(itertools.product(p, d, q))]\n",
    "\n",
    "warnings.filterwarnings(\"ignore\") # specify to ignore warning messages\n",
    "\n",
    "for param in pdq:\n",
    "    for param_seasonal in seasonal_pdq:\n",
    "        try:\n",
    "            mod = sma.tsa.statespace.SARIMAX(y,\n",
    "                                            order=param,\n",
    "                                            seasonal_order=param_seasonal,\n",
    "                                            enforce_stationarity=False,\n",
    "                                            enforce_invertibility=False)\n",
    "\n",
    "            results = mod.fit()\n",
    "\n",
    "            print('ARIMA{}x{}12 - AIC:{}'.format(param, param_seasonal, results.aic))\n",
    "        except:\n",
    "            continue"
   ]
  },
  {
   "cell_type": "markdown",
   "metadata": {},
   "source": [
    "According to the AIC results, we select $ARIMA(1, 0, 1)*(0, 1, 1, 12)$ as our model."
   ]
  },
  {
   "cell_type": "markdown",
   "metadata": {},
   "source": [
    "### 3.1.3 Model Fitting and Predicting"
   ]
  },
  {
   "cell_type": "code",
   "execution_count": null,
   "metadata": {
    "collapsed": false
   },
   "outputs": [],
   "source": [
    "mod = sma.tsa.statespace.SARIMAX(y,\n",
    "                                order=(1, 0, 1),\n",
    "                                seasonal_order=(0, 1, 1, 12),\n",
    "                                enforce_stationarity=False,\n",
    "                                enforce_invertibility=False)\n",
    "\n",
    "results = mod.fit()\n",
    "\n",
    "print(results.summary().tables[1])"
   ]
  },
  {
   "cell_type": "markdown",
   "metadata": {},
   "source": [
    "### 3.1.4 Visualization and Model Evaluation"
   ]
  },
  {
   "cell_type": "code",
   "execution_count": null,
   "metadata": {
    "collapsed": false
   },
   "outputs": [],
   "source": [
    "fig = plt.figure()\n",
    "results.plot_diagnostics(figsize=(15, 12))\n",
    "plt.show()"
   ]
  },
  {
   "cell_type": "markdown",
   "metadata": {},
   "source": [
    "## 3.2 Data Modeling - Multi-Linear Regression"
   ]
  },
  {
   "cell_type": "markdown",
   "metadata": {},
   "source": [
    "### 3.2.1 Correlation Analysis"
   ]
  },
  {
   "cell_type": "code",
   "execution_count": null,
   "metadata": {
    "collapsed": false
   },
   "outputs": [],
   "source": [
    "data.head()"
   ]
  },
  {
   "cell_type": "code",
   "execution_count": null,
   "metadata": {
    "collapsed": false
   },
   "outputs": [],
   "source": [
    "import seaborn as sns\n",
    "\n",
    "f, ax = plt.subplots(figsize=(10, 8))\n",
    "corr = data.corr()\n",
    "sns.heatmap(corr, mask=np.zeros_like(corr, dtype=np.bool), cmap=sns.diverging_palette(220, 10, as_cmap=True),\n",
    "            square=True, ax=ax)\n",
    "plt.show()"
   ]
  },
  {
   "cell_type": "markdown",
   "metadata": {},
   "source": [
    "From the above figure, we can't see significant correlation between the target variable(PM 2.5) and hour, year, month, day. So we decide to discard those features."
   ]
  },
  {
   "cell_type": "markdown",
   "metadata": {},
   "source": [
    "### 3.2.2 Data Modelling"
   ]
  },
  {
   "cell_type": "code",
   "execution_count": null,
   "metadata": {
    "collapsed": true
   },
   "outputs": [],
   "source": [
    "data = data.join(pd.get_dummies(data['cbwd'], prefix='cbwd'))\n",
    "data.drop('cbwd', axis=1, inplace=True)"
   ]
  },
  {
   "cell_type": "code",
   "execution_count": null,
   "metadata": {
    "collapsed": true
   },
   "outputs": [],
   "source": [
    "from sklearn.model_selection import train_test_split\n",
    "X = data.drop([\"PM_5th Middle School\", \"year\", \"month\", \"day\", \"hour\"], 1)\n",
    "y = pd.DataFrame(data[\"PM_5th Middle School\"])\n",
    "X_train, X_test, y_train, y_test = train_test_split(X, y, test_size=0.33, random_state=42)"
   ]
  },
  {
   "cell_type": "code",
   "execution_count": null,
   "metadata": {
    "collapsed": false
   },
   "outputs": [],
   "source": [
    "from sklearn.linear_model import LinearRegression\n",
    "lm = LinearRegression()\n",
    "lm.fit(X_train, y_train)\n"
   ]
  },
  {
   "cell_type": "markdown",
   "metadata": {},
   "source": [
    "### 3.2.3 Prediction and Visualization"
   ]
  },
  {
   "cell_type": "code",
   "execution_count": null,
   "metadata": {
    "collapsed": false
   },
   "outputs": [],
   "source": [
    "# Plot outputs\n",
    "\n",
    "y_pred = lm.predict(X_test)\n",
    "y_predtr = lm.predict(X_train)\n",
    "# plt.scatter(X_test, y_test,  color='black')\n",
    "plt.figure()\n",
    "ind = range(len(y_pred))\n",
    "plt.subplot(121)\n",
    "plt.plot(ind, list(y_pred), 'r', label = \"Prediction\")\n",
    "plt.legend()\n",
    "plt.xlabel(\"Index\")\n",
    "plt.ylabel(\"PM 2.5 Value\")\n",
    "plt.ylim((0,100))\n",
    "plt.title(\"Linear Regression Prediction\")\n",
    "plt.subplot(122)\n",
    "plt.plot(y_test.values, 'b',label = \"Actual\")\n",
    "plt.legend()\n",
    "plt.xlabel(\"Index\")\n",
    "plt.ylabel(\"PM 2.5 Value\")\n",
    "plt.ylim((0,300))\n",
    "plt.title(\"Actual PM 2.5 Values\")\n",
    "plt.show()"
   ]
  },
  {
   "cell_type": "code",
   "execution_count": null,
   "metadata": {
    "collapsed": false
   },
   "outputs": [],
   "source": [
    "from sklearn.metrics import mean_squared_error\n",
    "mean_squared_error(y_pred, y_test)"
   ]
  },
  {
   "cell_type": "markdown",
   "metadata": {},
   "source": [
    "## 3.3 Data Modeling - Tree-based Regressor"
   ]
  },
  {
   "cell_type": "markdown",
   "metadata": {},
   "source": [
    "### 3.3.1 Decision Tree Regressor"
   ]
  },
  {
   "cell_type": "code",
   "execution_count": null,
   "metadata": {
    "collapsed": false
   },
   "outputs": [],
   "source": [
    "from sklearn.tree import DecisionTreeRegressor\n",
    "from sklearn.metrics import mean_squared_error\n",
    "mse = []\n",
    "maxdp = [6,8,10,12,14,16,18,20,22,24,26,28]\n",
    "for dp in maxdp:\n",
    "    dt = DecisionTreeRegressor(max_depth=dp)\n",
    "    dt.fit(X_train, y_train)\n",
    "    y_hat_dt = dt.predict(X_test)\n",
    "    \n",
    "    mse.append(mean_squared_error(y_hat_dt, y_test))\n",
    "\n"
   ]
  },
  {
   "cell_type": "code",
   "execution_count": null,
   "metadata": {
    "collapsed": false
   },
   "outputs": [],
   "source": [
    "plt.figure()\n",
    "plt.plot(maxdp, mse, 'pink',linewidth = 3, marker=r'$\\clubsuit$', label = \"mse\" )\n",
    "plt.legend(fontsize = 15)\n",
    "plt.xlabel(\"Max Depth\")\n",
    "plt.ylabel(\"MSE\")\n",
    "plt.show()"
   ]
  },
  {
   "cell_type": "code",
   "execution_count": null,
   "metadata": {
    "collapsed": false
   },
   "outputs": [],
   "source": [
    "mse"
   ]
  },
  {
   "cell_type": "markdown",
   "metadata": {},
   "source": [
    "According to the figure above, we select 26 as the optimal max depth, and the MSE is 270.8."
   ]
  },
  {
   "cell_type": "markdown",
   "metadata": {},
   "source": [
    "### 3.3.2 Random Forest Regressor"
   ]
  },
  {
   "cell_type": "code",
   "execution_count": null,
   "metadata": {
    "collapsed": false
   },
   "outputs": [],
   "source": [
    "from sklearn.ensemble import RandomForestRegressor\n",
    "\n",
    "n_est = [50,100,150,200,250,300,350,400]\n",
    "mse_rf = []\n",
    "for n in n_est:\n",
    "    regr = RandomForestRegressor(max_depth=26, random_state=0, n_estimators = n)\n",
    "    regr.fit(X_train, y_train)\n",
    "    y_hat_rf = regr.predict(X_test)\n",
    "    print(n)\n",
    "    mse_rf.append(mean_squared_error(y_hat_rf, y_test))\n",
    "    \n",
    "plt.figure()\n",
    "plt.plot(n_est, mse_rf, 'orange',linewidth = 3, marker=r'$\\clubsuit$', label = \"mse\" )\n",
    "plt.legend(fontsize = 15)\n",
    "plt.xlabel(\"Number of Estimators\")\n",
    "plt.ylabel(\"MSE\")\n",
    "plt.show()"
   ]
  },
  {
   "cell_type": "code",
   "execution_count": null,
   "metadata": {
    "collapsed": false
   },
   "outputs": [],
   "source": [
    "mse_rf"
   ]
  },
  {
   "cell_type": "markdown",
   "metadata": {},
   "source": [
    "According to the figure above, we select 300 as the optimal number of estimators, and the MSE is 125.89. The performance of Random Forest Regressor is better than that of Decision Tree."
   ]
  },
  {
   "cell_type": "markdown",
   "metadata": {},
   "source": [
    "### 3.3.3 XGBoost Regressor"
   ]
  },
  {
   "cell_type": "markdown",
   "metadata": {},
   "source": [
    "XGBoost here. Instead of plotting the results and selectting parameters manually, we use the powerful GridSearchCV to help us select optimal solution."
   ]
  },
  {
   "cell_type": "code",
   "execution_count": null,
   "metadata": {
    "collapsed": false
   },
   "outputs": [],
   "source": [
    "import xgboost as xgb\n",
    "from sklearn.model_selection import KFold, train_test_split, GridSearchCV\n",
    "xgb_model = xgb.XGBRegressor()\n",
    "clf = GridSearchCV(xgb_model,\n",
    "                   {'max_depth': [5,10, 15,20],\n",
    "                    'n_estimators': [50,100,200,300]}, verbose=1)\n",
    "clf.fit(X_train,y_train)\n",
    "print(clf.best_score_)\n",
    "print(clf.best_params_)"
   ]
  },
  {
   "cell_type": "code",
   "execution_count": null,
   "metadata": {
    "collapsed": false
   },
   "outputs": [],
   "source": [
    "xgb_final = xgb.XGBRegressor(max_depth=10 ,n_estimators= 300 )\n",
    "xgb_final.fit(X_train,y_train)\n",
    "y_hat_xg = xgb_final.predict(X_test)\n",
    "print(\"MSE:\", mean_squared_error(y_hat_xg, y_test))"
   ]
  },
  {
   "cell_type": "markdown",
   "metadata": {},
   "source": [
    "XGBoost helps us improve model performance, which reduce the testing MSE to 108.  "
   ]
  },
  {
   "cell_type": "markdown",
   "metadata": {},
   "source": [
    "## 4. Data Preparation for Web Application Development"
   ]
  },
  {
   "cell_type": "code",
   "execution_count": 1,
   "metadata": {
    "collapsed": false
   },
   "outputs": [
    {
     "data": {
      "text/html": [
       "<div>\n",
       "<style>\n",
       "    .dataframe thead tr:only-child th {\n",
       "        text-align: right;\n",
       "    }\n",
       "\n",
       "    .dataframe thead th {\n",
       "        text-align: left;\n",
       "    }\n",
       "\n",
       "    .dataframe tbody tr th {\n",
       "        vertical-align: top;\n",
       "    }\n",
       "</style>\n",
       "<table border=\"1\" class=\"dataframe\">\n",
       "  <thead>\n",
       "    <tr style=\"text-align: right;\">\n",
       "      <th></th>\n",
       "      <th>Unnamed: 0</th>\n",
       "      <th>No</th>\n",
       "      <th>year</th>\n",
       "      <th>month</th>\n",
       "      <th>day</th>\n",
       "      <th>hour</th>\n",
       "      <th>season</th>\n",
       "      <th>PM_5th Middle School</th>\n",
       "      <th>DEWP</th>\n",
       "      <th>HUMI</th>\n",
       "      <th>PRES</th>\n",
       "      <th>TEMP</th>\n",
       "      <th>cbwd</th>\n",
       "      <th>Iws</th>\n",
       "      <th>precipitation</th>\n",
       "      <th>Iprec</th>\n",
       "    </tr>\n",
       "  </thead>\n",
       "  <tbody>\n",
       "    <tr>\n",
       "      <th>0</th>\n",
       "      <td>35000</td>\n",
       "      <td>35001</td>\n",
       "      <td>2013</td>\n",
       "      <td>12</td>\n",
       "      <td>29</td>\n",
       "      <td>8</td>\n",
       "      <td>4.0</td>\n",
       "      <td>45.0</td>\n",
       "      <td>-7.0</td>\n",
       "      <td>40.0</td>\n",
       "      <td>1016.8</td>\n",
       "      <td>5.5</td>\n",
       "      <td>NE</td>\n",
       "      <td>5.8</td>\n",
       "      <td>0.0</td>\n",
       "      <td>0.0</td>\n",
       "    </tr>\n",
       "    <tr>\n",
       "      <th>1</th>\n",
       "      <td>35001</td>\n",
       "      <td>35002</td>\n",
       "      <td>2013</td>\n",
       "      <td>12</td>\n",
       "      <td>29</td>\n",
       "      <td>9</td>\n",
       "      <td>4.0</td>\n",
       "      <td>41.0</td>\n",
       "      <td>-7.0</td>\n",
       "      <td>34.0</td>\n",
       "      <td>1017.5</td>\n",
       "      <td>7.8</td>\n",
       "      <td>NW</td>\n",
       "      <td>1.9</td>\n",
       "      <td>0.0</td>\n",
       "      <td>0.0</td>\n",
       "    </tr>\n",
       "    <tr>\n",
       "      <th>2</th>\n",
       "      <td>35002</td>\n",
       "      <td>35003</td>\n",
       "      <td>2013</td>\n",
       "      <td>12</td>\n",
       "      <td>29</td>\n",
       "      <td>10</td>\n",
       "      <td>4.0</td>\n",
       "      <td>39.0</td>\n",
       "      <td>-7.1</td>\n",
       "      <td>30.0</td>\n",
       "      <td>1017.8</td>\n",
       "      <td>9.6</td>\n",
       "      <td>NE</td>\n",
       "      <td>3.5</td>\n",
       "      <td>0.0</td>\n",
       "      <td>0.0</td>\n",
       "    </tr>\n",
       "  </tbody>\n",
       "</table>\n",
       "</div>"
      ],
      "text/plain": [
       "   Unnamed: 0     No  year  month  day  hour  season  PM_5th Middle School  \\\n",
       "0       35000  35001  2013     12   29     8     4.0                  45.0   \n",
       "1       35001  35002  2013     12   29     9     4.0                  41.0   \n",
       "2       35002  35003  2013     12   29    10     4.0                  39.0   \n",
       "\n",
       "   DEWP  HUMI    PRES  TEMP cbwd  Iws  precipitation  Iprec  \n",
       "0  -7.0  40.0  1016.8   5.5   NE  5.8            0.0    0.0  \n",
       "1  -7.0  34.0  1017.5   7.8   NW  1.9            0.0    0.0  \n",
       "2  -7.1  30.0  1017.8   9.6   NE  3.5            0.0    0.0  "
      ]
     },
     "execution_count": 1,
     "metadata": {},
     "output_type": "execute_result"
    }
   ],
   "source": [
    "import numpy as np\n",
    "import pandas as pd\n",
    "import datetime\n",
    "total_data = pd.read_csv('gzpm_cleaned.csv')\n",
    "total_data.head(3)"
   ]
  },
  {
   "cell_type": "code",
   "execution_count": null,
   "metadata": {
    "collapsed": true
   },
   "outputs": [],
   "source": [
    "def find_data(year, month, day, hour):\n",
    "    try:\n",
    "        #print(year, month, day, hour)\n",
    "        data_found = total_data.query('year == '+str(year)+' & day=='+str(day)+' \\\n",
    "                                      & hour=='+str(hour)+' & month=='+str(month))\n",
    "        #print(data_found)\n",
    "        if len(data_found)==1:\n",
    "            return data_found\n",
    "        else:\n",
    "            return 'No Data'\n",
    "    except:\n",
    "        print('Worng Date')\n",
    "        return 'No Data'"
   ]
  },
  {
   "cell_type": "code",
   "execution_count": null,
   "metadata": {
    "collapsed": false
   },
   "outputs": [],
   "source": [
    "find_data('2013','12','29','20')"
   ]
  },
  {
   "cell_type": "code",
   "execution_count": null,
   "metadata": {
    "collapsed": true
   },
   "outputs": [],
   "source": [
    "# The demo uses MLR to calculate the PM2.5 value, because it is easy to implement.\n",
    "def calculate_PM25(df):\n",
    "    #print(df)\n",
    "    if len(df)>1:\n",
    "        return 0\n",
    "    coe1 = df['season'].values[0]\n",
    "    coe2 = df['DEWP'].values[0]\n",
    "    coe3 = df['HUMI'].values[0]\n",
    "    coe4 = df['TEMP'].values[0]\n",
    "    coe5 = df['cbwd'].values[0]\n",
    "    coe6 = df['Iws'].values[0]\n",
    "    coe7 = df['Iprec'].values[0]\n",
    "    if coe1 == 1:\n",
    "        coe1_value = -0.60931\n",
    "    elif coe1 == 2:\n",
    "        coe1_value = -1.083711\n",
    "    elif coe1 == 3:\n",
    "        coe1_value= -0.620802\n",
    "    else:\n",
    "        coe1_value = 0\n",
    "    if coe5 == 'cv':\n",
    "        coe5_value = 0.201879\n",
    "    elif coe5 == 'NW':\n",
    "        coe5_value = 0.250275\n",
    "    else:\n",
    "        coe5_value = 0\n",
    "    PM25 = int(0.509180+coe1_value+(-10.348965)*coe2+2.006098*coe3+\\\n",
    "               0.778131*coe4+coe5_value+(-0.077538)*coe6+(-0.061016)*coe7) + 1\n",
    "    if PM25 < 0:\n",
    "        return 0\n",
    "    else:\n",
    "        return PM25\n",
    "    "
   ]
  },
  {
   "cell_type": "code",
   "execution_count": null,
   "metadata": {
    "collapsed": true
   },
   "outputs": [],
   "source": [
    "def delete_zero(string):\n",
    "    if string[0]=='0':\n",
    "        return string[1:]\n",
    "    else:\n",
    "        return string\n",
    "    \n",
    "def find_next_day(year, month, day):\n",
    "    next_day = datetime.date(int(year),int(month),int(day))+datetime.timedelta(days=+1)\n",
    "    next_day = str(next_day).split('-')\n",
    "    return next_day[0], delete_zero(next_day[1]), delete_zero(next_day[2]) \n",
    "\n",
    "#def calculate(year, month, day, hour):\n",
    "#    current_data = find_data(year, month, day, hour)\n",
    "#    next_year, next_month, next_day = find_next_day(year, month, day)\n",
    "    #print(next_day)\n",
    "#    next_data = find_data(next_year, next_month, next_day, hour)\n",
    "#    next_year, next_month, next_day  = find_next_day(next_year, next_month, next_day )\n",
    "#    next_next_data = find_data(next_year, next_month, next_day, hour)\n",
    "    #print(current_data, next_data, next_next_day)\n",
    "#    if len(current_data) != 1 or len(next_data) != 1 or len(next_next_data) != 1:\n",
    "#        return\n",
    "    \n",
    "    #a = current_data['PRES'].values[0]\n",
    "    #b = current_data['Iws'].values[0]\n",
    "    #return 1.8*a+7*b\n",
    "#calculate(2012,2,29,1)"
   ]
  },
  {
   "cell_type": "code",
   "execution_count": null,
   "metadata": {
    "collapsed": false
   },
   "outputs": [],
   "source": [
    "calculate_PM25(find_data('2013','12','29','20'))"
   ]
  },
  {
   "cell_type": "markdown",
   "metadata": {},
   "source": [
    "## 5. Web Interface Development"
   ]
  },
  {
   "cell_type": "code",
   "execution_count": null,
   "metadata": {
    "collapsed": true
   },
   "outputs": [],
   "source": [
    "#Thepart generate the HTML page, the content will be different based on the url(date) entered\n",
    "def html_header_generator():\n",
    "    text = '''<!DOCTYPE html>\n",
    "<html>\n",
    "<head>\n",
    "<title>PM2.5 in Guang Zhou</title>\n",
    "<link rel=\"stylesheet\" type=\"text/css\" href=\"https://maxcdn.bootstrapcdn.com/bootstrap/3.3.5/css/bootstrap.min.css\">\n",
    "<link rel=\"stylesheet\" type=\"text/css\" href=\"https://maxcdn.bootstrapcdn.com/font-awesome/4.4.0/css/font-awesome.min.css\">\n",
    "<link rel=\"stylesheet\" type=\"text/css\" href=\"css/style.css\" />\n",
    "<link href=\"http://fonts.googleapis.com/css?family=Dosis:200,300,400,500,600\" rel=\"stylesheet\">\n",
    "<link href=\"http://fonts.googleapis.com/css?family=Open+Sans:300,300i,400,400i,600,600i,700,700i\" rel=\"stylesheet\">\n",
    "</head>\n",
    "<body>\n",
    "\t\t\t<div class=\"container\">\n",
    "\t\t\t\t <h3>PM2.5 In Guang Zhou</h3>\n",
    "\t\t\t\t\t\t<div class=\"container\">'''\n",
    "    return text\n",
    "\n",
    "def html_data_generator(year, month, day, hour, index):\n",
    "    if index == 0:\n",
    "        try: pm_25 = int(find_data(year, month, day, hour)['PM_5th Middle School'].values[0])\n",
    "        except:return ''\n",
    "    else:\n",
    "        try: pm_25 = calculate_PM25(find_data(year, month, day, hour))\n",
    "        except:return ''\n",
    "    current_day = datetime.date(int(year),int(month),int(day))\n",
    "    if index == 0:\n",
    "        Day = 'Today'\n",
    "    if index == 1:\n",
    "        Day = 'Tomorrow'\n",
    "    if index == 2:\n",
    "        Day = '2 Days Later'\n",
    "    if index == 3:\n",
    "        Day = '3 Days Later'\n",
    "    if pm_25<100:\n",
    "        identifier = '''<div class=\"col-md-3\">\n",
    "\t\t\t\t\t\n",
    "\t\t\t\t\t\t\n",
    "\t\t\t\t\t\t\t<h4>'''+Day+'''</h4>\n",
    "\t\t\t\t\t\t\t<h3>'''+str(pm_25)+'''</h3>\n",
    "\t\t\t\t\t\t\t<h5>'''+str(current_day)+'''</h5>\n",
    "\t\t\t\t\t\t\n",
    "\t\t\t\t\t\t<div class=\"value-gd-bottom\">\n",
    "\t\t\t\t\t\t\t<button type=\"button\" class=\"btn btn-success\" onclick=\"location.href = 'https://www.tripadvisor.com/Tourism-g298555-Guangzhou_Guangdong-Vacations.html'\">Outdoor</button>\n",
    "\t\t\t\t\t\t</div>\n",
    "\t\t\t\t</div>'''\n",
    "    else:\n",
    "        identifier = '''<div class=\"col-md-3\">\n",
    "\t\t\t\t\t\n",
    "\t\t\t\t\t\t<div class=\"value\">\n",
    "\t\t\t\t\t\t\t<h4>'''+Day+'''</h4>\n",
    "\t\t\t\t\t\t\t<h3>'''+str(pm_25)+'''</h3>\n",
    "\t\t\t\t\t\t\t<h5>'''+str(current_day)+'''</h5>\n",
    "\t\t\t\t\t\t\n",
    "\t\t\t\t\t\t<div class=\"value-gd-bottom\">\n",
    "                            <button type=\"button\" class=\"btn btn-danger\" onclick=\"location.href = 'https://www.amazon.com/s/ref=nb_sb_noss_2?url=search-alias%3Daps&field-keywords=PM2.5&rh=i%3Aaps%2Ck%3APM2.5'\">Indoor</button>\n",
    "\t\t\t\t\t\t</div>\n",
    "                        \n",
    "\t\t\t\t\t</div>\n",
    "\t\t\t\t</div>'''\n",
    "    return identifier\n",
    "        \n",
    "def html_foot_generator():\n",
    "    text = '''\n",
    "\t\t\t</div>\n",
    "\t\t</div>\n",
    "\t\t\t<div>\n",
    "\t\t\t\t    <p>Copyright &copy; 2017. NYU CDS DS-GA-1007.</p>\n",
    "\t\t\t</div>\n",
    "<script src=\"https://code.jquery.com/jquery-2.1.4.js\"></script>\n",
    "<script src=\"https://maxcdn.bootstrapcdn.com/bootstrap/3.3.5/js/bootstrap.min.js\"></script>\n",
    "</body>\n",
    "</html>\n",
    "'''\n",
    "    return text\n",
    "  "
   ]
  },
  {
   "cell_type": "code",
   "execution_count": null,
   "metadata": {
    "collapsed": false
   },
   "outputs": [],
   "source": [
    "#This part generate the Server\n",
    "import http.server\n",
    "import socketserver\n",
    "\n",
    "#PORT = 8000\n",
    "\n",
    "#Handler = http.server.SimpleHTTPRequestHandler\n",
    "\n",
    "\n",
    "\n",
    "\n",
    "#import BaseHTTPServer\n",
    "from socketserver import BaseServer, ThreadingTCPServer, TCPServer\n",
    "import threading\n",
    "from socketserver import ThreadingMixIn\n",
    "import urllib\n",
    "import os\n",
    "\n",
    "class WebRequestHandler(http.server.SimpleHTTPRequestHandler):\n",
    "\n",
    "    def do_GET(self):\n",
    "        if \"ico\" in self.path:\n",
    "            return\n",
    "        thread = threading.currentThread()\n",
    "        self.send_response(200)\n",
    "        print(self.path)\n",
    "        \n",
    "        if \"?\" in self.path:\n",
    "            self.send_header(\"Content-type\",\"text/html\")\n",
    "            self.end_headers()\n",
    "            if '?' not in self.path or '-' not in self.path:\n",
    "                self.wfile.write('Worong Format'.encode())\n",
    "            elif len(self.path.split('?')[1].split('-'))!=3 and len(self.path.split('?')[1].split('-'))!=4  :\n",
    "                self.wfile.write('Worong Format'.encode())\n",
    "                #current_date\n",
    "            else:\n",
    "                today = self.path.split('?')[1].split('-')\n",
    "                today_1 = today[0]\n",
    "                today_2 = delete_zero(today[1])\n",
    "                today_3 = delete_zero(today[2])\n",
    "                if len(today) ==4:\n",
    "                    hour = delete_zero(today[3])\n",
    "                else:\n",
    "                    hour = 0\n",
    "                tomorrow_1, tomorrow_2, tomorrow_3 = find_next_day(today_1, today_2, today_3)\n",
    "                two_days_later_1, two_days_later_2, two_days_later_3 = find_next_day(tomorrow_1, tomorrow_2, tomorrow_3)\n",
    "                three_days_later_1, three_days_later_2, three_days_later_3 = find_next_day(two_days_later_1, two_days_later_2, two_days_later_3)\n",
    "                text_1 = html_header_generator()\n",
    "                #print(text_1)\n",
    "                text_2 = html_data_generator(today_1, today_2, today_3, hour, 0)\n",
    "                #print(text_2)\n",
    "                text_3 = html_data_generator(tomorrow_1, tomorrow_2, tomorrow_3 , hour, 1)\n",
    "                #print(text_3)\n",
    "                text_4 = html_data_generator(two_days_later_1, two_days_later_2, two_days_later_3, hour, 2)\n",
    "                #print(text_4)\n",
    "                text_5 = html_data_generator(three_days_later_1, three_days_later_2, three_days_later_3, hour, 3)\n",
    "                #print(text_5)\n",
    "                text_6 = html_foot_generator()\n",
    "                #print(text_6)\n",
    "                final_text = text_1 + text_2 + text_3 + text_4 + text_5 + text_6\n",
    "                self.wfile.write(final_text.encode())\n",
    "                \n",
    "                \n",
    "        elif 'css' in self.path:\n",
    "            self.send_header(\"Content-type\",\"text/css\")\n",
    "            self.end_headers()\n",
    "        #self.send_header(“href”,”css/style.css”)\n",
    "            html_object = open(self.path[1:])\n",
    "            try:\n",
    "                all_the_text = html_object.read()\n",
    "            finally:\n",
    "                html_object.close()\n",
    "        #output = \"<html><head><title>PM2.5</title></head><body><p>Three days PM2.5: 56, 78, 91</p></body></html>\"\n",
    "        #print(all_the_text)    \n",
    "            self.wfile.write(all_the_text.encode())\n",
    "\n",
    "\n",
    "\n",
    "\n",
    "class ThreadingServer(ThreadingMixIn, TCPServer):\n",
    "    pass\n",
    "\n",
    "if __name__ == '__main__':\n",
    "    #server = TCPServer(('127.0.0.1', 6689), WebRequestHandler)\n",
    "    #try:\n",
    "    #    server.serve_forever()\n",
    "    #except:\n",
    "    #    pass\n",
    "    #server.server_close()\n",
    "    server = ThreadingServer(('127.0.0.1', 6671), WebRequestHandler)\n",
    "    thread = threading.Thread(target=server.serve_forever)\n",
    "    thread.start()\n",
    "    print (\"Server Starts\")\n",
    "    while True:\n",
    "        try:\n",
    "            continue\n",
    "        except:\n",
    "            print('Server Stops')\n",
    "            break"
   ]
  },
  {
   "cell_type": "markdown",
   "metadata": {},
   "source": [
    "Access by entering the URL with following format:localhost:6671/?year-month-day or localhost:6671/?year-month-day-hour\n",
    "* For example: [localhost:6671/?2013-01-16-4](127.0.0.1:6671/?2013-01-16-4)\n",
    "* To clearly see the performance, another two css files are needed."
   ]
  },
  {
   "cell_type": "code",
   "execution_count": null,
   "metadata": {
    "collapsed": true
   },
   "outputs": [],
   "source": []
  }
 ],
 "metadata": {
  "kernelspec": {
   "display_name": "Python 3",
   "language": "python",
   "name": "python3"
  },
  "language_info": {
   "codemirror_mode": {
    "name": "ipython",
    "version": 3
   },
   "file_extension": ".py",
   "mimetype": "text/x-python",
   "name": "python",
   "nbconvert_exporter": "python",
   "pygments_lexer": "ipython3",
   "version": "3.6.0"
  }
 },
 "nbformat": 4,
 "nbformat_minor": 1
}
