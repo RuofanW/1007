{
 "cells": [
  {
   "cell_type": "markdown",
   "metadata": {},
   "source": [
    "## 1. Problem Background"
   ]
  },
  {
   "cell_type": "markdown",
   "metadata": {},
   "source": [
    "In  contemporary  society,  the  environment  prob-lems especially heavy air pollution become one ofthe most severe menace for peoples health in China.Within a typical year in China, the haze (also calledsmog) weather accounts for almost 80 percent daysin a year. In particular, the main pollution materialis  called  PM  2.5,  which  as  its  name  suggests  hasa  diameter  less  than2.5μmand  can  be  easilyinhaled into humans body and cause serious disease.Therefore, as a group of Chinese graduate studentsin NYU, our team tries to predict the future PM 2.5index and to design a simple web interface to helppeople to plan their activities healthily and wisely."
   ]
  },
  {
   "cell_type": "markdown",
   "metadata": {},
   "source": [
    "## 2. Data Cleaning"
   ]
  },
  {
   "cell_type": "code",
   "execution_count": 9,
   "metadata": {
    "collapsed": true
   },
   "outputs": [],
   "source": [
    "#Loading library \n",
    "from matplotlib import pyplot as plt\n",
    "import numpy as np\n",
    "import pandas as pd\n",
    "import re\n",
    "import seaborn as sns\n",
    "from statistics import mode,mean\n",
    "import datetime\n",
    "from sklearn import preprocessing\n",
    "from numpy import genfromtxt\n",
    "from sklearn.preprocessing import MinMaxScaler"
   ]
  },
  {
   "cell_type": "code",
   "execution_count": 10,
   "metadata": {
    "collapsed": false
   },
   "outputs": [
    {
     "data": {
      "text/html": [
       "<div>\n",
       "<style>\n",
       "    .dataframe thead tr:only-child th {\n",
       "        text-align: right;\n",
       "    }\n",
       "\n",
       "    .dataframe thead th {\n",
       "        text-align: left;\n",
       "    }\n",
       "\n",
       "    .dataframe tbody tr th {\n",
       "        vertical-align: top;\n",
       "    }\n",
       "</style>\n",
       "<table border=\"1\" class=\"dataframe\">\n",
       "  <thead>\n",
       "    <tr style=\"text-align: right;\">\n",
       "      <th></th>\n",
       "      <th>No</th>\n",
       "      <th>year</th>\n",
       "      <th>month</th>\n",
       "      <th>day</th>\n",
       "      <th>hour</th>\n",
       "      <th>season</th>\n",
       "      <th>PM_City Station</th>\n",
       "      <th>PM_5th Middle School</th>\n",
       "      <th>PM_US Post</th>\n",
       "      <th>DEWP</th>\n",
       "      <th>HUMI</th>\n",
       "      <th>PRES</th>\n",
       "      <th>TEMP</th>\n",
       "      <th>Iws</th>\n",
       "      <th>precipitation</th>\n",
       "      <th>Iprec</th>\n",
       "    </tr>\n",
       "  </thead>\n",
       "  <tbody>\n",
       "    <tr>\n",
       "      <th>count</th>\n",
       "      <td>52584.000000</td>\n",
       "      <td>52584.000000</td>\n",
       "      <td>52584.000000</td>\n",
       "      <td>52584.000000</td>\n",
       "      <td>52584.000000</td>\n",
       "      <td>52583.000000</td>\n",
       "      <td>32352.000000</td>\n",
       "      <td>21095.000000</td>\n",
       "      <td>32352.000000</td>\n",
       "      <td>52583.000000</td>\n",
       "      <td>52583.000000</td>\n",
       "      <td>52583.000000</td>\n",
       "      <td>52583.000000</td>\n",
       "      <td>52583.000000</td>\n",
       "      <td>52583.000000</td>\n",
       "      <td>52583.000000</td>\n",
       "    </tr>\n",
       "    <tr>\n",
       "      <th>mean</th>\n",
       "      <td>26292.500000</td>\n",
       "      <td>2012.499772</td>\n",
       "      <td>6.523962</td>\n",
       "      <td>15.726609</td>\n",
       "      <td>11.500000</td>\n",
       "      <td>2.491071</td>\n",
       "      <td>50.803938</td>\n",
       "      <td>49.064138</td>\n",
       "      <td>50.803938</td>\n",
       "      <td>16.472691</td>\n",
       "      <td>75.846776</td>\n",
       "      <td>1005.369260</td>\n",
       "      <td>21.996151</td>\n",
       "      <td>7.633037</td>\n",
       "      <td>0.241240</td>\n",
       "      <td>1.086764</td>\n",
       "    </tr>\n",
       "    <tr>\n",
       "      <th>std</th>\n",
       "      <td>15179.837614</td>\n",
       "      <td>1.707485</td>\n",
       "      <td>3.448452</td>\n",
       "      <td>8.798896</td>\n",
       "      <td>6.922252</td>\n",
       "      <td>1.116979</td>\n",
       "      <td>36.927474</td>\n",
       "      <td>30.677967</td>\n",
       "      <td>36.927474</td>\n",
       "      <td>87.665141</td>\n",
       "      <td>89.510026</td>\n",
       "      <td>6.917953</td>\n",
       "      <td>6.782722</td>\n",
       "      <td>11.965554</td>\n",
       "      <td>1.941028</td>\n",
       "      <td>7.441679</td>\n",
       "    </tr>\n",
       "    <tr>\n",
       "      <th>min</th>\n",
       "      <td>1.000000</td>\n",
       "      <td>2010.000000</td>\n",
       "      <td>1.000000</td>\n",
       "      <td>1.000000</td>\n",
       "      <td>0.000000</td>\n",
       "      <td>1.000000</td>\n",
       "      <td>1.000000</td>\n",
       "      <td>2.000000</td>\n",
       "      <td>1.000000</td>\n",
       "      <td>-9999.000000</td>\n",
       "      <td>-9999.000000</td>\n",
       "      <td>975.000000</td>\n",
       "      <td>1.700000</td>\n",
       "      <td>0.000000</td>\n",
       "      <td>0.000000</td>\n",
       "      <td>0.000000</td>\n",
       "    </tr>\n",
       "    <tr>\n",
       "      <th>25%</th>\n",
       "      <td>13146.750000</td>\n",
       "      <td>2011.000000</td>\n",
       "      <td>4.000000</td>\n",
       "      <td>8.000000</td>\n",
       "      <td>5.750000</td>\n",
       "      <td>1.000000</td>\n",
       "      <td>24.000000</td>\n",
       "      <td>28.000000</td>\n",
       "      <td>24.000000</td>\n",
       "      <td>12.400000</td>\n",
       "      <td>66.000000</td>\n",
       "      <td>1000.100000</td>\n",
       "      <td>17.300000</td>\n",
       "      <td>1.800000</td>\n",
       "      <td>0.000000</td>\n",
       "      <td>0.000000</td>\n",
       "    </tr>\n",
       "    <tr>\n",
       "      <th>50%</th>\n",
       "      <td>26292.500000</td>\n",
       "      <td>2012.000000</td>\n",
       "      <td>7.000000</td>\n",
       "      <td>16.000000</td>\n",
       "      <td>11.500000</td>\n",
       "      <td>2.000000</td>\n",
       "      <td>43.000000</td>\n",
       "      <td>42.000000</td>\n",
       "      <td>43.000000</td>\n",
       "      <td>19.100000</td>\n",
       "      <td>81.000000</td>\n",
       "      <td>1005.200012</td>\n",
       "      <td>23.500000</td>\n",
       "      <td>3.800000</td>\n",
       "      <td>0.000000</td>\n",
       "      <td>0.000000</td>\n",
       "    </tr>\n",
       "    <tr>\n",
       "      <th>75%</th>\n",
       "      <td>39438.250000</td>\n",
       "      <td>2014.000000</td>\n",
       "      <td>10.000000</td>\n",
       "      <td>23.000000</td>\n",
       "      <td>17.250000</td>\n",
       "      <td>3.000000</td>\n",
       "      <td>68.000000</td>\n",
       "      <td>62.000000</td>\n",
       "      <td>68.000000</td>\n",
       "      <td>23.600000</td>\n",
       "      <td>91.000000</td>\n",
       "      <td>1010.600000</td>\n",
       "      <td>26.800000</td>\n",
       "      <td>8.600000</td>\n",
       "      <td>0.000000</td>\n",
       "      <td>0.000000</td>\n",
       "    </tr>\n",
       "    <tr>\n",
       "      <th>max</th>\n",
       "      <td>52584.000000</td>\n",
       "      <td>2015.000000</td>\n",
       "      <td>12.000000</td>\n",
       "      <td>31.000000</td>\n",
       "      <td>23.000000</td>\n",
       "      <td>4.000000</td>\n",
       "      <td>526.000000</td>\n",
       "      <td>940.000000</td>\n",
       "      <td>526.000000</td>\n",
       "      <td>27.500000</td>\n",
       "      <td>100.000000</td>\n",
       "      <td>1027.800000</td>\n",
       "      <td>37.400002</td>\n",
       "      <td>214.300000</td>\n",
       "      <td>99.100000</td>\n",
       "      <td>271.900000</td>\n",
       "    </tr>\n",
       "  </tbody>\n",
       "</table>\n",
       "</div>"
      ],
      "text/plain": [
       "                 No          year         month           day          hour  \\\n",
       "count  52584.000000  52584.000000  52584.000000  52584.000000  52584.000000   \n",
       "mean   26292.500000   2012.499772      6.523962     15.726609     11.500000   \n",
       "std    15179.837614      1.707485      3.448452      8.798896      6.922252   \n",
       "min        1.000000   2010.000000      1.000000      1.000000      0.000000   \n",
       "25%    13146.750000   2011.000000      4.000000      8.000000      5.750000   \n",
       "50%    26292.500000   2012.000000      7.000000     16.000000     11.500000   \n",
       "75%    39438.250000   2014.000000     10.000000     23.000000     17.250000   \n",
       "max    52584.000000   2015.000000     12.000000     31.000000     23.000000   \n",
       "\n",
       "             season  PM_City Station  PM_5th Middle School    PM_US Post  \\\n",
       "count  52583.000000     32352.000000          21095.000000  32352.000000   \n",
       "mean       2.491071        50.803938             49.064138     50.803938   \n",
       "std        1.116979        36.927474             30.677967     36.927474   \n",
       "min        1.000000         1.000000              2.000000      1.000000   \n",
       "25%        1.000000        24.000000             28.000000     24.000000   \n",
       "50%        2.000000        43.000000             42.000000     43.000000   \n",
       "75%        3.000000        68.000000             62.000000     68.000000   \n",
       "max        4.000000       526.000000            940.000000    526.000000   \n",
       "\n",
       "               DEWP          HUMI          PRES          TEMP           Iws  \\\n",
       "count  52583.000000  52583.000000  52583.000000  52583.000000  52583.000000   \n",
       "mean      16.472691     75.846776   1005.369260     21.996151      7.633037   \n",
       "std       87.665141     89.510026      6.917953      6.782722     11.965554   \n",
       "min    -9999.000000  -9999.000000    975.000000      1.700000      0.000000   \n",
       "25%       12.400000     66.000000   1000.100000     17.300000      1.800000   \n",
       "50%       19.100000     81.000000   1005.200012     23.500000      3.800000   \n",
       "75%       23.600000     91.000000   1010.600000     26.800000      8.600000   \n",
       "max       27.500000    100.000000   1027.800000     37.400002    214.300000   \n",
       "\n",
       "       precipitation         Iprec  \n",
       "count   52583.000000  52583.000000  \n",
       "mean        0.241240      1.086764  \n",
       "std         1.941028      7.441679  \n",
       "min         0.000000      0.000000  \n",
       "25%         0.000000      0.000000  \n",
       "50%         0.000000      0.000000  \n",
       "75%         0.000000      0.000000  \n",
       "max        99.100000    271.900000  "
      ]
     },
     "execution_count": 10,
     "metadata": {},
     "output_type": "execute_result"
    }
   ],
   "source": [
    "\n",
    "\n",
    "#Dataset loading\n",
    "#https://archive.ics.uci.edu/ml/datasets/Beijing+PM2.5+Data#\n",
    "gz = pd.read_csv(\"GuangzhouPM20100101_20151231.csv\")\n",
    "gz.describe()"
   ]
  },
  {
   "cell_type": "code",
   "execution_count": 11,
   "metadata": {
    "collapsed": false
   },
   "outputs": [
    {
     "name": "stdout",
     "output_type": "stream",
     "text": [
      "NA count\n",
      " No                          0\n",
      "year                        0\n",
      "month                       0\n",
      "day                         0\n",
      "hour                        0\n",
      "season                      1\n",
      "PM_City Station         20232\n",
      "PM_5th Middle School    31489\n",
      "PM_US Post              20232\n",
      "DEWP                        1\n",
      "HUMI                        1\n",
      "PRES                        1\n",
      "TEMP                        1\n",
      "cbwd                        1\n",
      "Iws                         1\n",
      "precipitation               1\n",
      "Iprec                       1\n",
      "dtype: int64\n",
      "gz shape (52584, 17)\n",
      "NA percent 0.598832344439\n"
     ]
    }
   ],
   "source": [
    "print(\"NA count\\n\",gz.isnull().sum())\n",
    "print(\"gz shape\",gz.shape)\n",
    "print(\"NA percent\",max(gz.isnull().sum())/gz.shape[0])"
   ]
  },
  {
   "cell_type": "code",
   "execution_count": 12,
   "metadata": {
    "collapsed": true
   },
   "outputs": [],
   "source": [
    "# #dataset Standardization and store information in dictionary for inversetransformation\n",
    "# statis = {}\n",
    "# def stands(x):\n",
    "#     statis[x.name] = {}\n",
    "#     statis[x.name][\"mean\"] = x.mean()\n",
    "#     statis[x.name][\"std\"] = x.std()\n",
    "#     x = (x-x.mean())/x.std()    \n",
    "#     return x\n",
    "# gz['DEWP'] = stands(gz['DEWP'])\n",
    "# gz['HUMI'] = stands(gz['HUMI'])\n",
    "# gz['PRES'] = stands(gz['PRES'])\n",
    "# gz['TEMP'] = stands(gz['TEMP'])\n",
    "# gz['Iws'] = stands(gz['Iws'])\n",
    "# gz['precipitation'] = stands(gz['precipitation'])\n",
    "# gz['Iprec'] = stands(gz['Iprec'])"
   ]
  },
  {
   "cell_type": "code",
   "execution_count": 13,
   "metadata": {
    "collapsed": false
   },
   "outputs": [
    {
     "data": {
      "image/png": "[encoded data removed]",
      "text/plain": [
       "<matplotlib.figure.Figure at 0x119a99cf8>"
      ]
     },
     "metadata": {},
     "output_type": "display_data"
    }
   ],
   "source": [
    "plt.figure(figsize=(15,12))\n",
    "plt.subplot(311)\n",
    "plt.scatter(gz['month'],gz['PM_City Station'], c='r', label = \"City Station\", marker=r'$\\clubsuit$')\n",
    "plt.legend(fontsize = 15)\n",
    "plt.subplot(312)\n",
    "plt.scatter(gz['month'],gz['PM_5th Middle School'],c='g', label = \"5th Middle School\", marker=(5, 2))\n",
    "plt.legend(fontsize = 15)\n",
    "plt.ylabel('PM2.5', fontsize=20)\n",
    "plt.subplot(313)\n",
    "plt.scatter(gz['month'],gz['PM_US Post'],c='b',label = \"US Post\", marker=(5, 0))\n",
    "plt.legend(fontsize = 15)\n",
    "\n",
    "plt.xlabel('month', fontsize=20)\n",
    "plt.show()"
   ]
  },
  {
   "cell_type": "code",
   "execution_count": 14,
   "metadata": {
    "collapsed": true
   },
   "outputs": [],
   "source": [
    "gz = gz.drop(['PM_City Station','PM_US Post'],axis = 1)\n"
   ]
  },
  {
   "cell_type": "code",
   "execution_count": 15,
   "metadata": {
    "collapsed": false
   },
   "outputs": [
    {
     "name": "stdout",
     "output_type": "stream",
     "text": [
      "NA count\n",
      " No                          0\n",
      "year                        0\n",
      "month                       0\n",
      "day                         0\n",
      "hour                        0\n",
      "season                      1\n",
      "PM_5th Middle School    31489\n",
      "DEWP                        1\n",
      "HUMI                        1\n",
      "PRES                        1\n",
      "TEMP                        1\n",
      "cbwd                        1\n",
      "Iws                         1\n",
      "precipitation               1\n",
      "Iprec                       1\n",
      "dtype: int64\n",
      "gz shape (52584, 15)\n",
      "NA percent 0.598832344439\n"
     ]
    }
   ],
   "source": [
    "print(\"NA count\\n\",gz.isnull().sum())\n",
    "print(\"gz shape\",gz.shape)\n",
    "print(\"NA percent\",max(gz.isnull().sum())/gz.shape[0])"
   ]
  },
  {
   "cell_type": "code",
   "execution_count": 16,
   "metadata": {
    "collapsed": false
   },
   "outputs": [
    {
     "data": {
      "image/png": "[encoded data removed]",
      "text/plain": [
       "<matplotlib.figure.Figure at 0x119b39208>"
      ]
     },
     "metadata": {},
     "output_type": "display_data"
    }
   ],
   "source": [
    "plt.plot(gz['PM_5th Middle School'], 'g')\n",
    "plt.ylabel('PM2.5 reading', fontsize=15)\n",
    "plt.xlabel('record index', fontsize=15)\n",
    "plt.title('PM 2.5 at 5th Middle School',fontsize=20)\n",
    "plt.show()"
   ]
  },
  {
   "cell_type": "code",
   "execution_count": 17,
   "metadata": {
    "collapsed": false
   },
   "outputs": [
    {
     "data": {
      "text/plain": [
       "count    21095.000000\n",
       "mean        49.064138\n",
       "std         30.677967\n",
       "min          2.000000\n",
       "25%         28.000000\n",
       "50%         42.000000\n",
       "75%         62.000000\n",
       "max        940.000000\n",
       "Name: PM_5th Middle School, dtype: float64"
      ]
     },
     "execution_count": 17,
     "metadata": {},
     "output_type": "execute_result"
    }
   ],
   "source": [
    "gz['PM_5th Middle School'].describe()"
   ]
  },
  {
   "cell_type": "code",
   "execution_count": 18,
   "metadata": {
    "collapsed": false
   },
   "outputs": [],
   "source": [
    "# gz['PM_5th Middle School'] = stands(pd.rolling_median(gz['PM_5th Middle School'],30))"
   ]
  },
  {
   "cell_type": "code",
   "execution_count": 19,
   "metadata": {
    "collapsed": false
   },
   "outputs": [
    {
     "data": {
      "image/png": "[encoded data removed]",
      "text/plain": [
       "<matplotlib.figure.Figure at 0x11ad64b38>"
      ]
     },
     "metadata": {},
     "output_type": "display_data"
    }
   ],
   "source": [
    "#Because frist 350000 row of index has too many NAN, we drop first 35000 row. \n",
    "plt.plot(gz['PM_5th Middle School'], 'g')\n",
    "plt.ylabel('PM2.5 reading', fontsize=10)\n",
    "plt.xlabel('index', fontsize=10)\n",
    "plt.title('PM_5th Middle School',fontsize=20)\n",
    "plt.show()\n",
    "gz = gz.drop(gz.index[0:35000])"
   ]
  },
  {
   "cell_type": "code",
   "execution_count": 20,
   "metadata": {
    "collapsed": false
   },
   "outputs": [
    {
     "data": {
      "image/png": "[encoded data removed]",
      "text/plain": [
       "<matplotlib.figure.Figure at 0x11f0e29b0>"
      ]
     },
     "metadata": {},
     "output_type": "display_data"
    }
   ],
   "source": [
    "plt.plot(gz['PM_5th Middle School'], 'g')\n",
    "plt.ylabel('PM2.5 reading', fontsize=15)\n",
    "plt.xlabel('Record index', fontsize=15)\n",
    "plt.title('PM2.5 at 5th Middle School after removing',fontsize=20)\n",
    "plt.show()"
   ]
  },
  {
   "cell_type": "code",
   "execution_count": 21,
   "metadata": {
    "collapsed": false
   },
   "outputs": [
    {
     "data": {
      "text/plain": [
       "count    17182.000000\n",
       "mean        47.481841\n",
       "std         28.553692\n",
       "min          2.000000\n",
       "25%         27.000000\n",
       "50%         41.000000\n",
       "75%         60.000000\n",
       "max        292.000000\n",
       "Name: PM_5th Middle School, dtype: float64"
      ]
     },
     "execution_count": 21,
     "metadata": {},
     "output_type": "execute_result"
    }
   ],
   "source": [
    "gz['PM_5th Middle School'].describe()"
   ]
  },
  {
   "cell_type": "code",
   "execution_count": 22,
   "metadata": {
    "collapsed": false
   },
   "outputs": [
    {
     "name": "stdout",
     "output_type": "stream",
     "text": [
      "gz NA count\n",
      " No                      0\n",
      "year                    0\n",
      "month                   0\n",
      "day                     0\n",
      "hour                    0\n",
      "season                  0\n",
      "PM_5th Middle School    0\n",
      "DEWP                    0\n",
      "HUMI                    0\n",
      "PRES                    0\n",
      "TEMP                    0\n",
      "cbwd                    0\n",
      "Iws                     0\n",
      "precipitation           0\n",
      "Iprec                   0\n",
      "dtype: int64\n",
      "gz shape (17182, 15)\n",
      "NA percent 0.0\n"
     ]
    }
   ],
   "source": [
    "gz = gz.dropna(axis=0, how='any')\n",
    "print(\"gz NA count\\n\",gz.isnull().sum())\n",
    "print(\"gz shape\",gz.shape)\n",
    "print(\"NA percent\",sum(gz.isnull().sum())/gz.shape[0])"
   ]
  },
  {
   "cell_type": "code",
   "execution_count": 23,
   "metadata": {
    "collapsed": true
   },
   "outputs": [],
   "source": [
    "gz.to_csv('gzpm_cleaned.csv')"
   ]
  },
  {
   "cell_type": "markdown",
   "metadata": {},
   "source": [
    "## 3.1 Data Modeling - Time Series"
   ]
  },
  {
   "cell_type": "code",
   "execution_count": 24,
   "metadata": {
    "collapsed": false
   },
   "outputs": [
    {
     "data": {
      "text/html": [
       "<div>\n",
       "<style>\n",
       "    .dataframe thead tr:only-child th {\n",
       "        text-align: right;\n",
       "    }\n",
       "\n",
       "    .dataframe thead th {\n",
       "        text-align: left;\n",
       "    }\n",
       "\n",
       "    .dataframe tbody tr th {\n",
       "        vertical-align: top;\n",
       "    }\n",
       "</style>\n",
       "<table border=\"1\" class=\"dataframe\">\n",
       "  <thead>\n",
       "    <tr style=\"text-align: right;\">\n",
       "      <th></th>\n",
       "      <th>No</th>\n",
       "      <th>year</th>\n",
       "      <th>month</th>\n",
       "      <th>day</th>\n",
       "      <th>hour</th>\n",
       "      <th>season</th>\n",
       "      <th>PM_5th Middle School</th>\n",
       "      <th>DEWP</th>\n",
       "      <th>HUMI</th>\n",
       "      <th>PRES</th>\n",
       "      <th>TEMP</th>\n",
       "      <th>cbwd</th>\n",
       "      <th>Iws</th>\n",
       "      <th>precipitation</th>\n",
       "      <th>Iprec</th>\n",
       "    </tr>\n",
       "  </thead>\n",
       "  <tbody>\n",
       "    <tr>\n",
       "      <th>35000</th>\n",
       "      <td>35001</td>\n",
       "      <td>2013</td>\n",
       "      <td>12</td>\n",
       "      <td>29</td>\n",
       "      <td>8</td>\n",
       "      <td>4.0</td>\n",
       "      <td>45.0</td>\n",
       "      <td>-7.0</td>\n",
       "      <td>40.0</td>\n",
       "      <td>1016.8</td>\n",
       "      <td>5.5</td>\n",
       "      <td>NE</td>\n",
       "      <td>5.8</td>\n",
       "      <td>0.0</td>\n",
       "      <td>0.0</td>\n",
       "    </tr>\n",
       "    <tr>\n",
       "      <th>35001</th>\n",
       "      <td>35002</td>\n",
       "      <td>2013</td>\n",
       "      <td>12</td>\n",
       "      <td>29</td>\n",
       "      <td>9</td>\n",
       "      <td>4.0</td>\n",
       "      <td>41.0</td>\n",
       "      <td>-7.0</td>\n",
       "      <td>34.0</td>\n",
       "      <td>1017.5</td>\n",
       "      <td>7.8</td>\n",
       "      <td>NW</td>\n",
       "      <td>1.9</td>\n",
       "      <td>0.0</td>\n",
       "      <td>0.0</td>\n",
       "    </tr>\n",
       "    <tr>\n",
       "      <th>35002</th>\n",
       "      <td>35003</td>\n",
       "      <td>2013</td>\n",
       "      <td>12</td>\n",
       "      <td>29</td>\n",
       "      <td>10</td>\n",
       "      <td>4.0</td>\n",
       "      <td>39.0</td>\n",
       "      <td>-7.1</td>\n",
       "      <td>30.0</td>\n",
       "      <td>1017.8</td>\n",
       "      <td>9.6</td>\n",
       "      <td>NE</td>\n",
       "      <td>3.5</td>\n",
       "      <td>0.0</td>\n",
       "      <td>0.0</td>\n",
       "    </tr>\n",
       "    <tr>\n",
       "      <th>35003</th>\n",
       "      <td>35004</td>\n",
       "      <td>2013</td>\n",
       "      <td>12</td>\n",
       "      <td>29</td>\n",
       "      <td>11</td>\n",
       "      <td>4.0</td>\n",
       "      <td>40.0</td>\n",
       "      <td>-8.5</td>\n",
       "      <td>24.0</td>\n",
       "      <td>1017.5</td>\n",
       "      <td>11.3</td>\n",
       "      <td>NE</td>\n",
       "      <td>6.2</td>\n",
       "      <td>0.0</td>\n",
       "      <td>0.0</td>\n",
       "    </tr>\n",
       "    <tr>\n",
       "      <th>35004</th>\n",
       "      <td>35005</td>\n",
       "      <td>2013</td>\n",
       "      <td>12</td>\n",
       "      <td>29</td>\n",
       "      <td>12</td>\n",
       "      <td>4.0</td>\n",
       "      <td>46.0</td>\n",
       "      <td>-8.4</td>\n",
       "      <td>23.0</td>\n",
       "      <td>1016.3</td>\n",
       "      <td>12.1</td>\n",
       "      <td>NE</td>\n",
       "      <td>9.6</td>\n",
       "      <td>0.0</td>\n",
       "      <td>0.0</td>\n",
       "    </tr>\n",
       "  </tbody>\n",
       "</table>\n",
       "</div>"
      ],
      "text/plain": [
       "          No  year  month  day  hour  season  PM_5th Middle School  DEWP  \\\n",
       "35000  35001  2013     12   29     8     4.0                  45.0  -7.0   \n",
       "35001  35002  2013     12   29     9     4.0                  41.0  -7.0   \n",
       "35002  35003  2013     12   29    10     4.0                  39.0  -7.1   \n",
       "35003  35004  2013     12   29    11     4.0                  40.0  -8.5   \n",
       "35004  35005  2013     12   29    12     4.0                  46.0  -8.4   \n",
       "\n",
       "       HUMI    PRES  TEMP cbwd  Iws  precipitation  Iprec  \n",
       "35000  40.0  1016.8   5.5   NE  5.8            0.0    0.0  \n",
       "35001  34.0  1017.5   7.8   NW  1.9            0.0    0.0  \n",
       "35002  30.0  1017.8   9.6   NE  3.5            0.0    0.0  \n",
       "35003  24.0  1017.5  11.3   NE  6.2            0.0    0.0  \n",
       "35004  23.0  1016.3  12.1   NE  9.6            0.0    0.0  "
      ]
     },
     "execution_count": 24,
     "metadata": {},
     "output_type": "execute_result"
    }
   ],
   "source": [
    "data = pd.read_csv(\"gzpm_cleaned.csv\", index_col=0)\n",
    "data.head()"
   ]
  },
  {
   "cell_type": "markdown",
   "metadata": {},
   "source": [
    "### 3.1.1 Stability test"
   ]
  },
  {
   "cell_type": "code",
   "execution_count": 25,
   "metadata": {
    "collapsed": false
   },
   "outputs": [
    {
     "data": {
      "image/png": "[encoded data removed]",
      "text/plain": [
       "<matplotlib.figure.Figure at 0x11f3c5c18>"
      ]
     },
     "metadata": {},
     "output_type": "display_data"
    }
   ],
   "source": [
    "pmdt = data[\"PM_5th Middle School\"]\n",
    "plt.plot(pmdt, 'g')\n",
    "plt.xlabel(\"label\")\n",
    "plt.ylabel(\"PM 2.5\")\n",
    "plt.show()"
   ]
  },
  {
   "cell_type": "code",
   "execution_count": 26,
   "metadata": {
    "collapsed": false
   },
   "outputs": [
    {
     "name": "stderr",
     "output_type": "stream",
     "text": [
      "/Users/wangruofan/anaconda/lib/python3.6/site-packages/statsmodels/compat/pandas.py:56: FutureWarning: The pandas.core.datetools module is deprecated and will be removed in a future version. Please use the pandas.tseries module instead.\n",
      "  from pandas.core import datetools\n"
     ]
    },
    {
     "data": {
      "text/plain": [
       "(-9.8362055402098942,\n",
       " 4.887886365938075e-17,\n",
       " 44,\n",
       " 17137,\n",
       " {'1%': -3.4307316467169562,\n",
       "  '10%': -2.5668597802365838,\n",
       "  '5%': -2.861708672883474},\n",
       " 120628.23914596783)"
      ]
     },
     "execution_count": 26,
     "metadata": {},
     "output_type": "execute_result"
    }
   ],
   "source": [
    "import statsmodels.tsa.stattools as ts\n",
    "result = ts.adfuller(np.array(pmdt))\n",
    "result"
   ]
  },
  {
   "cell_type": "markdown",
   "metadata": {},
   "source": [
    "From the ADF test result, we can see the p-value is $3e-22$, which is strong enough to reject the original hypertheiss. Plus, the value of this test is $-11.9$, which is smaller than the three threshold in the levels of$1\\%, 10\\%, 5\\%$. So we can assume that our data is stationary."
   ]
  },
  {
   "cell_type": "markdown",
   "metadata": {},
   "source": [
    "### 3.1.2  Parameters Selection for ARIMA "
   ]
  },
  {
   "cell_type": "code",
   "execution_count": 27,
   "metadata": {
    "collapsed": false
   },
   "outputs": [
    {
     "name": "stdout",
     "output_type": "stream",
     "text": [
      "ARIMA(0, 0, 0)x(0, 0, 1, 12)12 - AIC:175070.00373565833\n",
      "ARIMA(0, 0, 0)x(0, 1, 1, 12)12 - AIC:155777.30970264602\n",
      "ARIMA(0, 0, 0)x(1, 0, 0, 12)12 - AIC:158591.9215697533\n",
      "ARIMA(0, 0, 0)x(1, 0, 1, 12)12 - AIC:155751.7280361059\n",
      "ARIMA(0, 0, 0)x(1, 1, 0, 12)12 - AIC:156691.97932368438\n",
      "ARIMA(0, 0, 0)x(1, 1, 1, 12)12 - AIC:154691.28001909947\n",
      "ARIMA(0, 0, 1)x(0, 0, 0, 12)12 - AIC:166195.71962234977\n",
      "ARIMA(0, 0, 1)x(0, 0, 1, 12)12 - AIC:156422.16253653844\n",
      "ARIMA(0, 0, 1)x(0, 1, 0, 12)12 - AIC:145339.368997327\n",
      "ARIMA(0, 0, 1)x(0, 1, 1, 12)12 - AIC:140437.35500802414\n",
      "ARIMA(0, 0, 1)x(1, 0, 0, 12)12 - AIC:144150.15400840773\n",
      "ARIMA(0, 0, 1)x(1, 0, 1, 12)12 - AIC:140434.77771402922\n",
      "ARIMA(0, 0, 1)x(1, 1, 0, 12)12 - AIC:142027.7632405115\n",
      "ARIMA(0, 0, 1)x(1, 1, 1, 12)12 - AIC:139582.1036276755\n",
      "ARIMA(0, 1, 0)x(0, 0, 1, 12)12 - AIC:121585.32076533113\n",
      "ARIMA(0, 1, 0)x(0, 1, 1, 12)12 - AIC:121576.16541058043\n",
      "ARIMA(0, 1, 0)x(1, 0, 0, 12)12 - AIC:121591.88443299054\n",
      "ARIMA(0, 1, 0)x(1, 0, 1, 12)12 - AIC:121489.8842815357\n",
      "ARIMA(0, 1, 0)x(1, 1, 0, 12)12 - AIC:127786.13125639649\n",
      "ARIMA(0, 1, 0)x(1, 1, 1, 12)12 - AIC:121576.38715326773\n",
      "ARIMA(0, 1, 1)x(0, 0, 0, 12)12 - AIC:121608.21907890795\n",
      "ARIMA(0, 1, 1)x(0, 0, 1, 12)12 - AIC:121524.45106595088\n",
      "ARIMA(0, 1, 1)x(0, 1, 0, 12)12 - AIC:133731.3244026338\n",
      "ARIMA(0, 1, 1)x(0, 1, 1, 12)12 - AIC:121515.4576212707\n",
      "ARIMA(0, 1, 1)x(1, 0, 0, 12)12 - AIC:121538.50181436019\n",
      "ARIMA(0, 1, 1)x(1, 0, 1, 12)12 - AIC:121440.46734039088\n",
      "ARIMA(0, 1, 1)x(1, 1, 0, 12)12 - AIC:127761.94852762666\n",
      "ARIMA(0, 1, 1)x(1, 1, 1, 12)12 - AIC:121516.03681657766\n",
      "ARIMA(1, 0, 0)x(0, 0, 0, 12)12 - AIC:121580.23543384056\n",
      "ARIMA(1, 0, 0)x(0, 0, 1, 12)12 - AIC:121499.06686647132\n",
      "ARIMA(1, 0, 0)x(0, 1, 0, 12)12 - AIC:132850.55440132835\n",
      "ARIMA(1, 0, 0)x(0, 1, 1, 12)12 - AIC:121151.03844525121\n",
      "ARIMA(1, 0, 0)x(1, 0, 0, 12)12 - AIC:121498.68048101559\n",
      "ARIMA(1, 0, 0)x(1, 0, 1, 12)12 - AIC:121218.18231015168\n",
      "ARIMA(1, 0, 0)x(1, 1, 0, 12)12 - AIC:126997.09924538608\n",
      "ARIMA(1, 0, 0)x(1, 1, 1, 12)12 - AIC:121151.98113966956\n",
      "ARIMA(1, 0, 1)x(0, 0, 0, 12)12 - AIC:121506.89932700212\n",
      "ARIMA(1, 0, 1)x(0, 0, 1, 12)12 - AIC:121426.37112655964\n",
      "ARIMA(1, 0, 1)x(0, 1, 0, 12)12 - AIC:132561.74037391826\n",
      "ARIMA(1, 0, 1)x(0, 1, 1, 12)12 - AIC:121031.08776145068\n",
      "ARIMA(1, 0, 1)x(1, 0, 0, 12)12 - AIC:121433.47766365645\n",
      "ARIMA(1, 0, 1)x(1, 0, 1, 12)12 - AIC:121098.44910038551\n",
      "ARIMA(1, 0, 1)x(1, 1, 0, 12)12 - AIC:126876.69790033187\n",
      "ARIMA(1, 0, 1)x(1, 1, 1, 12)12 - AIC:121032.61225040513\n",
      "ARIMA(1, 1, 0)x(0, 0, 0, 12)12 - AIC:121616.47847171637\n",
      "ARIMA(1, 1, 0)x(0, 0, 1, 12)12 - AIC:121534.05553609971\n",
      "ARIMA(1, 1, 0)x(0, 1, 0, 12)12 - AIC:133735.3764939605\n",
      "ARIMA(1, 1, 0)x(0, 1, 1, 12)12 - AIC:121524.20470327396\n",
      "ARIMA(1, 1, 0)x(1, 0, 0, 12)12 - AIC:121533.58286037967\n",
      "ARIMA(1, 1, 0)x(1, 0, 1, 12)12 - AIC:121449.80943811871\n",
      "ARIMA(1, 1, 0)x(1, 1, 0, 12)12 - AIC:127755.8255205783\n",
      "ARIMA(1, 1, 0)x(1, 1, 1, 12)12 - AIC:121524.88668852448\n",
      "ARIMA(1, 1, 1)x(0, 0, 0, 12)12 - AIC:121608.95127521522\n",
      "ARIMA(1, 1, 1)x(0, 0, 1, 12)12 - AIC:121524.90896515458\n",
      "ARIMA(1, 1, 1)x(0, 1, 0, 12)12 - AIC:133728.2987959386\n",
      "ARIMA(1, 1, 1)x(0, 1, 1, 12)12 - AIC:121516.05314064104\n",
      "ARIMA(1, 1, 1)x(1, 0, 0, 12)12 - AIC:121531.7264214998\n",
      "ARIMA(1, 1, 1)x(1, 0, 1, 12)12 - AIC:121440.07339447454\n",
      "ARIMA(1, 1, 1)x(1, 1, 0, 12)12 - AIC:127757.07250349077\n",
      "ARIMA(1, 1, 1)x(1, 1, 1, 12)12 - AIC:121516.58430112716\n"
     ]
    }
   ],
   "source": [
    "import itertools\n",
    "import warnings\n",
    "import statsmodels.api as sma\n",
    "p = d = q = range(0, 2)\n",
    "\n",
    "# Generate all different combinations of p, q and q triplets\n",
    "pdq = list(itertools.product(p, d, q))\n",
    "y = np.array(pmdt)\n",
    "# Generate all different combinations of seasonal p, q and q triplets\n",
    "seasonal_pdq = [(x[0], x[1], x[2], 12) for x in list(itertools.product(p, d, q))]\n",
    "\n",
    "warnings.filterwarnings(\"ignore\") # specify to ignore warning messages\n",
    "\n",
    "for param in pdq:\n",
    "    for param_seasonal in seasonal_pdq:\n",
    "        try:\n",
    "            mod = sma.tsa.statespace.SARIMAX(y,\n",
    "                                            order=param,\n",
    "                                            seasonal_order=param_seasonal,\n",
    "                                            enforce_stationarity=False,\n",
    "                                            enforce_invertibility=False)\n",
    "\n",
    "            results = mod.fit()\n",
    "\n",
    "            print('ARIMA{}x{}12 - AIC:{}'.format(param, param_seasonal, results.aic))\n",
    "        except:\n",
    "            continue"
   ]
  },
  {
   "cell_type": "markdown",
   "metadata": {},
   "source": [
    "According to the AIC results, we select $ARIMA(1, 0, 1)*(0, 1, 1, 12)$ as our model."
   ]
  },
  {
   "cell_type": "markdown",
   "metadata": {},
   "source": [
    "### 3.1.3 Model Fitting and Predicting"
   ]
  },
  {
   "cell_type": "code",
   "execution_count": 28,
   "metadata": {
    "collapsed": false
   },
   "outputs": [
    {
     "name": "stdout",
     "output_type": "stream",
     "text": [
      "==============================================================================\n",
      "                 coef    std err          z      P>|z|      [0.025      0.975]\n",
      "------------------------------------------------------------------------------\n",
      "ar.L1          0.9386      0.002    534.112      0.000       0.935       0.942\n",
      "ma.L1          0.0852      0.004     22.670      0.000       0.078       0.093\n",
      "ma.S.L12      -1.0168      0.001   -690.111      0.000      -1.020      -1.014\n",
      "sigma2        65.4380      0.355    184.155      0.000      64.742      66.135\n",
      "==============================================================================\n"
     ]
    }
   ],
   "source": [
    "mod = sma.tsa.statespace.SARIMAX(y,\n",
    "                                order=(1, 0, 1),\n",
    "                                seasonal_order=(0, 1, 1, 12),\n",
    "                                enforce_stationarity=False,\n",
    "                                enforce_invertibility=False)\n",
    "\n",
    "results = mod.fit()\n",
    "\n",
    "print(results.summary().tables[1])"
   ]
  },
  {
   "cell_type": "markdown",
   "metadata": {},
   "source": [
    "### 3.1.4 Visualization and Model Evaluation"
   ]
  },
  {
   "cell_type": "code",
   "execution_count": 29,
   "metadata": {
    "collapsed": false
   },
   "outputs": [
    {
     "data": {
      "text/plain": [
       "<matplotlib.figure.Figure at 0x11a48dcc0>"
      ]
     },
     "metadata": {},
     "output_type": "display_data"
    },
    {
     "data": {
      "image/png": "[encoded data removed]",
      "text/plain": [
       "<matplotlib.figure.Figure at 0x116d084a8>"
      ]
     },
     "metadata": {},
     "output_type": "display_data"
    }
   ],
   "source": [
    "fig = plt.figure()\n",
    "results.plot_diagnostics(figsize=(15, 12))\n",
    "plt.show()"
   ]
  },
  {
   "cell_type": "markdown",
   "metadata": {},
   "source": [
    "## 3.2 Data Modeling - Multi-Linear Regression"
   ]
  },
  {
   "cell_type": "markdown",
   "metadata": {},
   "source": [
    "### 3.2.1 Correlation Analysis"
   ]
  },
  {
   "cell_type": "code",
   "execution_count": 30,
   "metadata": {
    "collapsed": false
   },
   "outputs": [
    {
     "data": {
      "text/html": [
       "<div>\n",
       "<style>\n",
       "    .dataframe thead tr:only-child th {\n",
       "        text-align: right;\n",
       "    }\n",
       "\n",
       "    .dataframe thead th {\n",
       "        text-align: left;\n",
       "    }\n",
       "\n",
       "    .dataframe tbody tr th {\n",
       "        vertical-align: top;\n",
       "    }\n",
       "</style>\n",
       "<table border=\"1\" class=\"dataframe\">\n",
       "  <thead>\n",
       "    <tr style=\"text-align: right;\">\n",
       "      <th></th>\n",
       "      <th>No</th>\n",
       "      <th>year</th>\n",
       "      <th>month</th>\n",
       "      <th>day</th>\n",
       "      <th>hour</th>\n",
       "      <th>season</th>\n",
       "      <th>PM_5th Middle School</th>\n",
       "      <th>DEWP</th>\n",
       "      <th>HUMI</th>\n",
       "      <th>PRES</th>\n",
       "      <th>TEMP</th>\n",
       "      <th>cbwd</th>\n",
       "      <th>Iws</th>\n",
       "      <th>precipitation</th>\n",
       "      <th>Iprec</th>\n",
       "    </tr>\n",
       "  </thead>\n",
       "  <tbody>\n",
       "    <tr>\n",
       "      <th>35000</th>\n",
       "      <td>35001</td>\n",
       "      <td>2013</td>\n",
       "      <td>12</td>\n",
       "      <td>29</td>\n",
       "      <td>8</td>\n",
       "      <td>4.0</td>\n",
       "      <td>45.0</td>\n",
       "      <td>-7.0</td>\n",
       "      <td>40.0</td>\n",
       "      <td>1016.8</td>\n",
       "      <td>5.5</td>\n",
       "      <td>NE</td>\n",
       "      <td>5.8</td>\n",
       "      <td>0.0</td>\n",
       "      <td>0.0</td>\n",
       "    </tr>\n",
       "    <tr>\n",
       "      <th>35001</th>\n",
       "      <td>35002</td>\n",
       "      <td>2013</td>\n",
       "      <td>12</td>\n",
       "      <td>29</td>\n",
       "      <td>9</td>\n",
       "      <td>4.0</td>\n",
       "      <td>41.0</td>\n",
       "      <td>-7.0</td>\n",
       "      <td>34.0</td>\n",
       "      <td>1017.5</td>\n",
       "      <td>7.8</td>\n",
       "      <td>NW</td>\n",
       "      <td>1.9</td>\n",
       "      <td>0.0</td>\n",
       "      <td>0.0</td>\n",
       "    </tr>\n",
       "    <tr>\n",
       "      <th>35002</th>\n",
       "      <td>35003</td>\n",
       "      <td>2013</td>\n",
       "      <td>12</td>\n",
       "      <td>29</td>\n",
       "      <td>10</td>\n",
       "      <td>4.0</td>\n",
       "      <td>39.0</td>\n",
       "      <td>-7.1</td>\n",
       "      <td>30.0</td>\n",
       "      <td>1017.8</td>\n",
       "      <td>9.6</td>\n",
       "      <td>NE</td>\n",
       "      <td>3.5</td>\n",
       "      <td>0.0</td>\n",
       "      <td>0.0</td>\n",
       "    </tr>\n",
       "    <tr>\n",
       "      <th>35003</th>\n",
       "      <td>35004</td>\n",
       "      <td>2013</td>\n",
       "      <td>12</td>\n",
       "      <td>29</td>\n",
       "      <td>11</td>\n",
       "      <td>4.0</td>\n",
       "      <td>40.0</td>\n",
       "      <td>-8.5</td>\n",
       "      <td>24.0</td>\n",
       "      <td>1017.5</td>\n",
       "      <td>11.3</td>\n",
       "      <td>NE</td>\n",
       "      <td>6.2</td>\n",
       "      <td>0.0</td>\n",
       "      <td>0.0</td>\n",
       "    </tr>\n",
       "    <tr>\n",
       "      <th>35004</th>\n",
       "      <td>35005</td>\n",
       "      <td>2013</td>\n",
       "      <td>12</td>\n",
       "      <td>29</td>\n",
       "      <td>12</td>\n",
       "      <td>4.0</td>\n",
       "      <td>46.0</td>\n",
       "      <td>-8.4</td>\n",
       "      <td>23.0</td>\n",
       "      <td>1016.3</td>\n",
       "      <td>12.1</td>\n",
       "      <td>NE</td>\n",
       "      <td>9.6</td>\n",
       "      <td>0.0</td>\n",
       "      <td>0.0</td>\n",
       "    </tr>\n",
       "  </tbody>\n",
       "</table>\n",
       "</div>"
      ],
      "text/plain": [
       "          No  year  month  day  hour  season  PM_5th Middle School  DEWP  \\\n",
       "35000  35001  2013     12   29     8     4.0                  45.0  -7.0   \n",
       "35001  35002  2013     12   29     9     4.0                  41.0  -7.0   \n",
       "35002  35003  2013     12   29    10     4.0                  39.0  -7.1   \n",
       "35003  35004  2013     12   29    11     4.0                  40.0  -8.5   \n",
       "35004  35005  2013     12   29    12     4.0                  46.0  -8.4   \n",
       "\n",
       "       HUMI    PRES  TEMP cbwd  Iws  precipitation  Iprec  \n",
       "35000  40.0  1016.8   5.5   NE  5.8            0.0    0.0  \n",
       "35001  34.0  1017.5   7.8   NW  1.9            0.0    0.0  \n",
       "35002  30.0  1017.8   9.6   NE  3.5            0.0    0.0  \n",
       "35003  24.0  1017.5  11.3   NE  6.2            0.0    0.0  \n",
       "35004  23.0  1016.3  12.1   NE  9.6            0.0    0.0  "
      ]
     },
     "execution_count": 30,
     "metadata": {},
     "output_type": "execute_result"
    }
   ],
   "source": [
    "data.head()"
   ]
  },
  {
   "cell_type": "code",
   "execution_count": 31,
   "metadata": {
    "collapsed": false
   },
   "outputs": [
    {
     "data": {
      "image/png": "[encoded data removed]",
      "text/plain": [
       "<matplotlib.figure.Figure at 0x11a192358>"
      ]
     },
     "metadata": {},
     "output_type": "display_data"
    }
   ],
   "source": [
    "import seaborn as sns\n",
    "\n",
    "f, ax = plt.subplots(figsize=(10, 8))\n",
    "corr = data.corr()\n",
    "sns.heatmap(corr, mask=np.zeros_like(corr, dtype=np.bool), cmap=sns.diverging_palette(220, 10, as_cmap=True),\n",
    "            square=True, ax=ax)\n",
    "plt.show()"
   ]
  },
  {
   "cell_type": "markdown",
   "metadata": {},
   "source": [
    "From the above figure, we can't see significant correlation between the target variable(PM 2.5) and hour, year, month, day. So we decide to discard those features."
   ]
  },
  {
   "cell_type": "markdown",
   "metadata": {},
   "source": [
    "### 3.2.2 Data Modelling"
   ]
  },
  {
   "cell_type": "code",
   "execution_count": 32,
   "metadata": {
    "collapsed": true
   },
   "outputs": [],
   "source": [
    "data = data.join(pd.get_dummies(data['cbwd'], prefix='cbwd'))\n",
    "data.drop('cbwd', axis=1, inplace=True)"
   ]
  },
  {
   "cell_type": "code",
   "execution_count": 33,
   "metadata": {
    "collapsed": true
   },
   "outputs": [],
   "source": [
    "from sklearn.model_selection import train_test_split\n",
    "X = data.drop([\"PM_5th Middle School\", \"year\", \"month\", \"day\", \"hour\"], 1)\n",
    "y = pd.DataFrame(data[\"PM_5th Middle School\"])\n",
    "X_train, X_test, y_train, y_test = train_test_split(X, y, test_size=0.33, random_state=42)"
   ]
  },
  {
   "cell_type": "code",
   "execution_count": 34,
   "metadata": {
    "collapsed": false
   },
   "outputs": [
    {
     "data": {
      "text/plain": [
       "LinearRegression(copy_X=True, fit_intercept=True, n_jobs=1, normalize=False)"
      ]
     },
     "execution_count": 34,
     "metadata": {},
     "output_type": "execute_result"
    }
   ],
   "source": [
    "from sklearn.linear_model import LinearRegression\n",
    "lm = LinearRegression()\n",
    "lm.fit(X_train, y_train)\n"
   ]
  },
  {
   "cell_type": "markdown",
   "metadata": {},
   "source": [
    "### 3.2.3 Prediction and Visualization"
   ]
  },
  {
   "cell_type": "code",
   "execution_count": 35,
   "metadata": {
    "collapsed": false
   },
   "outputs": [
    {
     "data": {
      "image/png": "[encoded data removed]",
      "text/plain": [
       "<matplotlib.figure.Figure at 0x11a49dc18>"
      ]
     },
     "metadata": {},
     "output_type": "display_data"
    }
   ],
   "source": [
    "# Plot outputs\n",
    "\n",
    "y_pred = lm.predict(X_test)\n",
    "y_predtr = lm.predict(X_train)\n",
    "# plt.scatter(X_test, y_test,  color='black')\n",
    "plt.figure()\n",
    "ind = range(len(y_pred))\n",
    "plt.subplot(121)\n",
    "plt.plot(ind, list(y_pred), 'r', label = \"Prediction\")\n",
    "plt.legend()\n",
    "plt.xlabel(\"Index\")\n",
    "plt.ylabel(\"PM 2.5 Value\")\n",
    "plt.ylim((0,100))\n",
    "plt.title(\"Linear Regression Prediction\")\n",
    "plt.subplot(122)\n",
    "plt.plot(y_test.values, 'b',label = \"Actual\")\n",
    "plt.legend()\n",
    "plt.xlabel(\"Index\")\n",
    "plt.ylabel(\"PM 2.5 Value\")\n",
    "plt.ylim((0,300))\n",
    "plt.title(\"Actual PM 2.5 Values\")\n",
    "plt.show()"
   ]
  },
  {
   "cell_type": "code",
   "execution_count": 49,
   "metadata": {
    "collapsed": false
   },
   "outputs": [
    {
     "data": {
      "text/plain": [
       "622.93577168478237"
      ]
     },
     "execution_count": 49,
     "metadata": {},
     "output_type": "execute_result"
    }
   ],
   "source": [
    "from sklearn.metrics import mean_squared_error\n",
    "mean_squared_error(y_pred, y_test)"
   ]
  },
  {
   "cell_type": "markdown",
   "metadata": {},
   "source": [
    "## 3.3 Data Modeling - Tree-based Regressor"
   ]
  },
  {
   "cell_type": "markdown",
   "metadata": {},
   "source": [
    "### 3.3.1 Decision Tree Regressor"
   ]
  },
  {
   "cell_type": "code",
   "execution_count": 36,
   "metadata": {
    "collapsed": false
   },
   "outputs": [],
   "source": [
    "from sklearn.tree import DecisionTreeRegressor\n",
    "from sklearn.metrics import mean_squared_error\n",
    "mse = []\n",
    "maxdp = [6,8,10,12,14,16,18,20,22,24,26,28]\n",
    "for dp in maxdp:\n",
    "    dt = DecisionTreeRegressor(max_depth=dp)\n",
    "    dt.fit(X_train, y_train)\n",
    "    y_hat_dt = dt.predict(X_test)\n",
    "    \n",
    "    mse.append(mean_squared_error(y_hat_dt, y_test))\n",
    "\n"
   ]
  },
  {
   "cell_type": "code",
   "execution_count": 37,
   "metadata": {
    "collapsed": false
   },
   "outputs": [
    {
     "data": {
      "image/png": "[encoded data removed]",
      "text/plain": [
       "<matplotlib.figure.Figure at 0x1211252e8>"
      ]
     },
     "metadata": {},
     "output_type": "display_data"
    }
   ],
   "source": [
    "plt.figure()\n",
    "plt.plot(maxdp, mse, 'pink',linewidth = 3, marker=r'$\\clubsuit$', label = \"mse\" )\n",
    "plt.legend(fontsize = 15)\n",
    "plt.xlabel(\"Max Depth\")\n",
    "plt.ylabel(\"MSE\")\n",
    "plt.show()"
   ]
  },
  {
   "cell_type": "code",
   "execution_count": 38,
   "metadata": {
    "collapsed": false
   },
   "outputs": [
    {
     "data": {
      "text/plain": [
       "[446.19229159177399,\n",
       " 370.10499332186168,\n",
       " 321.67819959976947,\n",
       " 304.45779578634136,\n",
       " 287.1441722919991,\n",
       " 276.84421386142128,\n",
       " 279.87105878123919,\n",
       " 275.30981197675277,\n",
       " 279.75562381474589,\n",
       " 273.68266776270605,\n",
       " 284.11175317003904,\n",
       " 280.02262288063349]"
      ]
     },
     "execution_count": 38,
     "metadata": {},
     "output_type": "execute_result"
    }
   ],
   "source": [
    "mse"
   ]
  },
  {
   "cell_type": "markdown",
   "metadata": {},
   "source": [
    "According to the figure above, we select 26 as the optimal max depth, and the MSE is 270.8."
   ]
  },
  {
   "cell_type": "markdown",
   "metadata": {},
   "source": [
    "### 3.3.2 Random Forest Regressor"
   ]
  },
  {
   "cell_type": "code",
   "execution_count": 39,
   "metadata": {
    "collapsed": false
   },
   "outputs": [
    {
     "name": "stdout",
     "output_type": "stream",
     "text": [
      "50\n",
      "100\n",
      "150\n",
      "200\n",
      "250\n",
      "300\n",
      "350\n",
      "400\n"
     ]
    },
    {
     "data": {
      "image/png": "[encoded data removed]",
      "text/plain": [
       "<matplotlib.figure.Figure at 0x122e05860>"
      ]
     },
     "metadata": {},
     "output_type": "display_data"
    }
   ],
   "source": [
    "from sklearn.ensemble import RandomForestRegressor\n",
    "\n",
    "n_est = [50,100,150,200,250,300,350,400]\n",
    "mse_rf = []\n",
    "for n in n_est:\n",
    "    regr = RandomForestRegressor(max_depth=26, random_state=0, n_estimators = n)\n",
    "    regr.fit(X_train, y_train)\n",
    "    y_hat_rf = regr.predict(X_test)\n",
    "    print(n)\n",
    "    mse_rf.append(mean_squared_error(y_hat_rf, y_test))\n",
    "    \n",
    "plt.figure()\n",
    "plt.plot(n_est, mse_rf, 'orange',linewidth = 3, marker=r'$\\clubsuit$', label = \"mse\" )\n",
    "plt.legend(fontsize = 15)\n",
    "plt.xlabel(\"Number of Estimators\")\n",
    "plt.ylabel(\"MSE\")\n",
    "plt.show()"
   ]
  },
  {
   "cell_type": "code",
   "execution_count": 40,
   "metadata": {
    "collapsed": false
   },
   "outputs": [
    {
     "data": {
      "text/plain": [
       "[131.29983711967066,\n",
       " 129.42496404124554,\n",
       " 126.75108867812655,\n",
       " 127.03989401516836,\n",
       " 126.64154692899066,\n",
       " 125.89064709494326,\n",
       " 126.33684450897481,\n",
       " 125.93899014479173]"
      ]
     },
     "execution_count": 40,
     "metadata": {},
     "output_type": "execute_result"
    }
   ],
   "source": [
    "mse_rf"
   ]
  },
  {
   "cell_type": "markdown",
   "metadata": {},
   "source": [
    "According to the figure above, we select 300 as the optimal number of estimators, and the MSE is 125.89. The performance of Random Forest Regressor is better than that of Decision Tree."
   ]
  },
  {
   "cell_type": "markdown",
   "metadata": {},
   "source": [
    "### 3.3.3 XGBoost Regressor"
   ]
  },
  {
   "cell_type": "markdown",
   "metadata": {},
   "source": [
    "XGBoost here. Instead of plotting the results and selectting parameters manually, we use the powerful GridSearchCV to help us select optimal solution."
   ]
  },
  {
   "cell_type": "code",
   "execution_count": 41,
   "metadata": {
    "collapsed": false
   },
   "outputs": [
    {
     "name": "stdout",
     "output_type": "stream",
     "text": [
      "Fitting 3 folds for each of 16 candidates, totalling 48 fits\n"
     ]
    },
    {
     "name": "stderr",
     "output_type": "stream",
     "text": [
      "[Parallel(n_jobs=1)]: Done  48 out of  48 | elapsed:  2.4min finished\n"
     ]
    },
    {
     "name": "stdout",
     "output_type": "stream",
     "text": [
      "0.818665611553\n",
      "{'max_depth': 10, 'n_estimators': 300}\n"
     ]
    }
   ],
   "source": [
    "import xgboost as xgb\n",
    "from sklearn.model_selection import KFold, train_test_split, GridSearchCV\n",
    "xgb_model = xgb.XGBRegressor()\n",
    "clf = GridSearchCV(xgb_model,\n",
    "                   {'max_depth': [5,10, 15,20],\n",
    "                    'n_estimators': [50,100,200,300]}, verbose=1)\n",
    "clf.fit(X_train,y_train)\n",
    "print(clf.best_score_)\n",
    "print(clf.best_params_)"
   ]
  },
  {
   "cell_type": "code",
   "execution_count": 42,
   "metadata": {
    "collapsed": false
   },
   "outputs": [
    {
     "name": "stdout",
     "output_type": "stream",
     "text": [
      "MSE: 108.762952297\n"
     ]
    }
   ],
   "source": [
    "xgb_final = xgb.XGBRegressor(max_depth=10 ,n_estimators= 300 )\n",
    "xgb_final.fit(X_train,y_train)\n",
    "y_hat_xg = xgb_final.predict(X_test)\n",
    "print(\"MSE:\", mean_squared_error(y_hat_xg, y_test))"
   ]
  },
  {
   "cell_type": "markdown",
   "metadata": {},
   "source": [
    "XGBoost helps us improve model performance, which reduce the testing MSE to 108.  "
   ]
  },
  {
   "cell_type": "markdown",
   "metadata": {},
   "source": [
    "## 4. Data Preparation for Web Application Development"
   ]
  },
  {
   "cell_type": "code",
   "execution_count": 43,
   "metadata": {
    "collapsed": false
   },
   "outputs": [
    {
     "data": {
      "text/html": [
       "<div>\n",
       "<style>\n",
       "    .dataframe thead tr:only-child th {\n",
       "        text-align: right;\n",
       "    }\n",
       "\n",
       "    .dataframe thead th {\n",
       "        text-align: left;\n",
       "    }\n",
       "\n",
       "    .dataframe tbody tr th {\n",
       "        vertical-align: top;\n",
       "    }\n",
       "</style>\n",
       "<table border=\"1\" class=\"dataframe\">\n",
       "  <thead>\n",
       "    <tr style=\"text-align: right;\">\n",
       "      <th></th>\n",
       "      <th>Unnamed: 0</th>\n",
       "      <th>No</th>\n",
       "      <th>year</th>\n",
       "      <th>month</th>\n",
       "      <th>day</th>\n",
       "      <th>hour</th>\n",
       "      <th>season</th>\n",
       "      <th>PM_5th Middle School</th>\n",
       "      <th>DEWP</th>\n",
       "      <th>HUMI</th>\n",
       "      <th>PRES</th>\n",
       "      <th>TEMP</th>\n",
       "      <th>cbwd</th>\n",
       "      <th>Iws</th>\n",
       "      <th>precipitation</th>\n",
       "      <th>Iprec</th>\n",
       "    </tr>\n",
       "  </thead>\n",
       "  <tbody>\n",
       "    <tr>\n",
       "      <th>0</th>\n",
       "      <td>35000</td>\n",
       "      <td>35001</td>\n",
       "      <td>2013</td>\n",
       "      <td>12</td>\n",
       "      <td>29</td>\n",
       "      <td>8</td>\n",
       "      <td>4.0</td>\n",
       "      <td>45.0</td>\n",
       "      <td>-7.0</td>\n",
       "      <td>40.0</td>\n",
       "      <td>1016.8</td>\n",
       "      <td>5.5</td>\n",
       "      <td>NE</td>\n",
       "      <td>5.8</td>\n",
       "      <td>0.0</td>\n",
       "      <td>0.0</td>\n",
       "    </tr>\n",
       "    <tr>\n",
       "      <th>1</th>\n",
       "      <td>35001</td>\n",
       "      <td>35002</td>\n",
       "      <td>2013</td>\n",
       "      <td>12</td>\n",
       "      <td>29</td>\n",
       "      <td>9</td>\n",
       "      <td>4.0</td>\n",
       "      <td>41.0</td>\n",
       "      <td>-7.0</td>\n",
       "      <td>34.0</td>\n",
       "      <td>1017.5</td>\n",
       "      <td>7.8</td>\n",
       "      <td>NW</td>\n",
       "      <td>1.9</td>\n",
       "      <td>0.0</td>\n",
       "      <td>0.0</td>\n",
       "    </tr>\n",
       "    <tr>\n",
       "      <th>2</th>\n",
       "      <td>35002</td>\n",
       "      <td>35003</td>\n",
       "      <td>2013</td>\n",
       "      <td>12</td>\n",
       "      <td>29</td>\n",
       "      <td>10</td>\n",
       "      <td>4.0</td>\n",
       "      <td>39.0</td>\n",
       "      <td>-7.1</td>\n",
       "      <td>30.0</td>\n",
       "      <td>1017.8</td>\n",
       "      <td>9.6</td>\n",
       "      <td>NE</td>\n",
       "      <td>3.5</td>\n",
       "      <td>0.0</td>\n",
       "      <td>0.0</td>\n",
       "    </tr>\n",
       "  </tbody>\n",
       "</table>\n",
       "</div>"
      ],
      "text/plain": [
       "   Unnamed: 0     No  year  month  day  hour  season  PM_5th Middle School  \\\n",
       "0       35000  35001  2013     12   29     8     4.0                  45.0   \n",
       "1       35001  35002  2013     12   29     9     4.0                  41.0   \n",
       "2       35002  35003  2013     12   29    10     4.0                  39.0   \n",
       "\n",
       "   DEWP  HUMI    PRES  TEMP cbwd  Iws  precipitation  Iprec  \n",
       "0  -7.0  40.0  1016.8   5.5   NE  5.8            0.0    0.0  \n",
       "1  -7.0  34.0  1017.5   7.8   NW  1.9            0.0    0.0  \n",
       "2  -7.1  30.0  1017.8   9.6   NE  3.5            0.0    0.0  "
      ]
     },
     "execution_count": 43,
     "metadata": {},
     "output_type": "execute_result"
    }
   ],
   "source": [
    "import numpy as np\n",
    "import pandas as pd\n",
    "import datetime\n",
    "total_data = pd.read_csv('gzpm_cleaned.csv')\n",
    "total_data.head(3)"
   ]
  },
  {
   "cell_type": "code",
   "execution_count": 44,
   "metadata": {
    "collapsed": true
   },
   "outputs": [],
   "source": [
    "def find_data(year, month, day, hour):\n",
    "    try:\n",
    "        #print(year, month, day, hour)\n",
    "        data_found = total_data.query('year == '+str(year)+' & day=='+str(day)+' \\\n",
    "                                      & hour=='+str(hour)+' & month=='+str(month))\n",
    "        #print(data_found)\n",
    "        if len(data_found)==1:\n",
    "            return data_found\n",
    "        else:\n",
    "            return 'No Data'\n",
    "    except:\n",
    "        print('Worng Date')\n",
    "        return 'No Data'"
   ]
  },
  {
   "cell_type": "code",
   "execution_count": 45,
   "metadata": {
    "collapsed": false
   },
   "outputs": [
    {
     "data": {
      "text/html": [
       "<div>\n",
       "<style>\n",
       "    .dataframe thead tr:only-child th {\n",
       "        text-align: right;\n",
       "    }\n",
       "\n",
       "    .dataframe thead th {\n",
       "        text-align: left;\n",
       "    }\n",
       "\n",
       "    .dataframe tbody tr th {\n",
       "        vertical-align: top;\n",
       "    }\n",
       "</style>\n",
       "<table border=\"1\" class=\"dataframe\">\n",
       "  <thead>\n",
       "    <tr style=\"text-align: right;\">\n",
       "      <th></th>\n",
       "      <th>Unnamed: 0</th>\n",
       "      <th>No</th>\n",
       "      <th>year</th>\n",
       "      <th>month</th>\n",
       "      <th>day</th>\n",
       "      <th>hour</th>\n",
       "      <th>season</th>\n",
       "      <th>PM_5th Middle School</th>\n",
       "      <th>DEWP</th>\n",
       "      <th>HUMI</th>\n",
       "      <th>PRES</th>\n",
       "      <th>TEMP</th>\n",
       "      <th>cbwd</th>\n",
       "      <th>Iws</th>\n",
       "      <th>precipitation</th>\n",
       "      <th>Iprec</th>\n",
       "    </tr>\n",
       "  </thead>\n",
       "  <tbody>\n",
       "    <tr>\n",
       "      <th>12</th>\n",
       "      <td>35012</td>\n",
       "      <td>35013</td>\n",
       "      <td>2013</td>\n",
       "      <td>12</td>\n",
       "      <td>29</td>\n",
       "      <td>20</td>\n",
       "      <td>4.0</td>\n",
       "      <td>81.0</td>\n",
       "      <td>2.1</td>\n",
       "      <td>74.0</td>\n",
       "      <td>1014.1</td>\n",
       "      <td>6.4</td>\n",
       "      <td>NW</td>\n",
       "      <td>5.8</td>\n",
       "      <td>0.0</td>\n",
       "      <td>0.0</td>\n",
       "    </tr>\n",
       "  </tbody>\n",
       "</table>\n",
       "</div>"
      ],
      "text/plain": [
       "    Unnamed: 0     No  year  month  day  hour  season  PM_5th Middle School  \\\n",
       "12       35012  35013  2013     12   29    20     4.0                  81.0   \n",
       "\n",
       "    DEWP  HUMI    PRES  TEMP cbwd  Iws  precipitation  Iprec  \n",
       "12   2.1  74.0  1014.1   6.4   NW  5.8            0.0    0.0  "
      ]
     },
     "execution_count": 45,
     "metadata": {},
     "output_type": "execute_result"
    }
   ],
   "source": [
    "find_data('2013','12','29','20')"
   ]
  },
  {
   "cell_type": "code",
   "execution_count": 46,
   "metadata": {
    "collapsed": true
   },
   "outputs": [],
   "source": [
    "# The demo uses MLR to calculate the PM2.5 value, because it is easy to implement.\n",
    "def calculate_PM25(df):\n",
    "    #print(df)\n",
    "    if len(df)>1:\n",
    "        return 0\n",
    "    coe1 = df['season'].values[0]\n",
    "    coe2 = df['DEWP'].values[0]\n",
    "    coe3 = df['HUMI'].values[0]\n",
    "    coe4 = df['TEMP'].values[0]\n",
    "    coe5 = df['cbwd'].values[0]\n",
    "    coe6 = df['Iws'].values[0]\n",
    "    coe7 = df['Iprec'].values[0]\n",
    "    if coe1 == 1:\n",
    "        coe1_value = -0.60931\n",
    "    elif coe1 == 2:\n",
    "        coe1_value = -1.083711\n",
    "    elif coe1 == 3:\n",
    "        coe1_value= -0.620802\n",
    "    else:\n",
    "        coe1_value = 0\n",
    "    if coe5 == 'cv':\n",
    "        coe5_value = 0.201879\n",
    "    elif coe5 == 'NW':\n",
    "        coe5_value = 0.250275\n",
    "    else:\n",
    "        coe5_value = 0\n",
    "    PM25 = int(0.509180+coe1_value+(-10.348965)*coe2+2.006098*coe3+\\\n",
    "               0.778131*coe4+coe5_value+(-0.077538)*coe6+(-0.061016)*coe7) + 1\n",
    "    if PM25 < 0:\n",
    "        return 0\n",
    "    else:\n",
    "        return PM25\n",
    "    "
   ]
  },
  {
   "cell_type": "code",
   "execution_count": 47,
   "metadata": {
    "collapsed": true
   },
   "outputs": [],
   "source": [
    "def delete_zero(string):\n",
    "    if string[0]=='0':\n",
    "        return string[1:]\n",
    "    else:\n",
    "        return string\n",
    "    \n",
    "def find_next_day(year, month, day):\n",
    "    next_day = datetime.date(int(year),int(month),int(day))+datetime.timedelta(days=+1)\n",
    "    next_day = str(next_day).split('-')\n",
    "    return next_day[0], delete_zero(next_day[1]), delete_zero(next_day[2]) \n",
    "\n",
    "#def calculate(year, month, day, hour):\n",
    "#    current_data = find_data(year, month, day, hour)\n",
    "#    next_year, next_month, next_day = find_next_day(year, month, day)\n",
    "    #print(next_day)\n",
    "#    next_data = find_data(next_year, next_month, next_day, hour)\n",
    "#    next_year, next_month, next_day  = find_next_day(next_year, next_month, next_day )\n",
    "#    next_next_data = find_data(next_year, next_month, next_day, hour)\n",
    "    #print(current_data, next_data, next_next_day)\n",
    "#    if len(current_data) != 1 or len(next_data) != 1 or len(next_next_data) != 1:\n",
    "#        return\n",
    "    \n",
    "    #a = current_data['PRES'].values[0]\n",
    "    #b = current_data['Iws'].values[0]\n",
    "    #return 1.8*a+7*b\n",
    "#calculate(2012,2,29,1)"
   ]
  },
  {
   "cell_type": "code",
   "execution_count": 48,
   "metadata": {
    "collapsed": false
   },
   "outputs": [
    {
     "data": {
      "text/plain": [
       "133"
      ]
     },
     "execution_count": 48,
     "metadata": {},
     "output_type": "execute_result"
    }
   ],
   "source": [
    "calculate_PM25(find_data('2013','12','29','20'))"
   ]
  },
  {
   "cell_type": "markdown",
   "metadata": {},
   "source": [
    "## 5. Web Interface Development"
   ]
  },
  {
   "cell_type": "code",
   "execution_count": 7,
   "metadata": {
    "collapsed": true
   },
   "outputs": [],
   "source": [
    "#Thepart generate the HTML page, the content will be different based on the url(date) entered\n",
    "def html_header_generator():\n",
    "    text = '''<!DOCTYPE html>\n",
    "<html>\n",
    "<head>\n",
    "<title>PM2.5 in Guang Zhou</title>\n",
    "<link rel=\"stylesheet\" type=\"text/css\" href=\"https://maxcdn.bootstrapcdn.com/bootstrap/3.3.5/css/bootstrap.min.css\">\n",
    "<link rel=\"stylesheet\" type=\"text/css\" href=\"https://maxcdn.bootstrapcdn.com/font-awesome/4.4.0/css/font-awesome.min.css\">\n",
    "<link rel=\"stylesheet\" type=\"text/css\" href=\"css/style.css\" />\n",
    "<link href=\"http://fonts.googleapis.com/css?family=Dosis:200,300,400,500,600\" rel=\"stylesheet\">\n",
    "<link href=\"http://fonts.googleapis.com/css?family=Open+Sans:300,300i,400,400i,600,600i,700,700i\" rel=\"stylesheet\">\n",
    "</head>\n",
    "<body>\n",
    "\t\t\t<div class=\"container\">\n",
    "\t\t\t\t <h3>PM2.5 In Guang Zhou</h3>\n",
    "\t\t\t\t\t\t<div class=\"container\">'''\n",
    "    return text\n",
    "\n",
    "def html_data_generator(year, month, day, hour, index):\n",
    "    if index == 0:\n",
    "        try: pm_25 = int(find_data(year, month, day, hour)['PM_5th Middle School'].values[0])\n",
    "        except:return ''\n",
    "    else:\n",
    "        try: pm_25 = calculate_PM25(find_data(year, month, day, hour))\n",
    "        except:return ''\n",
    "    current_day = datetime.date(int(year),int(month),int(day))\n",
    "    if index == 0:\n",
    "        Day = 'Today'\n",
    "    if index == 1:\n",
    "        Day = 'Tomorrow'\n",
    "    if index == 2:\n",
    "        Day = '2 Days Later'\n",
    "    if index == 3:\n",
    "        Day = '3 Days Later'\n",
    "    if pm_25<100:\n",
    "        identifier = '''<div class=\"col-md-3\">\n",
    "\t\t\t\t\t\n",
    "\t\t\t\t\t\t\n",
    "\t\t\t\t\t\t\t<h4>'''+Day+'''</h4>\n",
    "\t\t\t\t\t\t\t<h3>'''+str(pm_25)+'''</h3>\n",
    "\t\t\t\t\t\t\t<h5>'''+str(current_day)+'''</h5>\n",
    "\t\t\t\t\t\t\n",
    "\t\t\t\t\t\t<div class=\"value-gd-bottom\">\n",
    "\t\t\t\t\t\t\t<button type=\"button\" class=\"btn btn-success\" onclick=\"location.href = 'https://www.tripadvisor.com/Tourism-g298555-Guangzhou_Guangdong-Vacations.html'\">Outdoor</button>\n",
    "\t\t\t\t\t\t</div>\n",
    "\t\t\t\t</div>'''\n",
    "    else:\n",
    "        identifier = '''<div class=\"col-md-3\">\n",
    "\t\t\t\t\t\n",
    "\t\t\t\t\t\t<div class=\"value\">\n",
    "\t\t\t\t\t\t\t<h4>'''+Day+'''</h4>\n",
    "\t\t\t\t\t\t\t<h3>'''+str(pm_25)+'''</h3>\n",
    "\t\t\t\t\t\t\t<h5>'''+str(current_day)+'''</h5>\n",
    "\t\t\t\t\t\t\n",
    "\t\t\t\t\t\t<div class=\"value-gd-bottom\">\n",
    "                            <button type=\"button\" class=\"btn btn-danger\" onclick=\"location.href = 'https://www.amazon.com/s/ref=nb_sb_noss_2?url=search-alias%3Daps&field-keywords=PM2.5&rh=i%3Aaps%2Ck%3APM2.5'\">Indoor</button>\n",
    "\t\t\t\t\t\t</div>\n",
    "                        \n",
    "\t\t\t\t\t</div>\n",
    "\t\t\t\t</div>'''\n",
    "    return identifier\n",
    "        \n",
    "def html_foot_generator():\n",
    "    text = '''\n",
    "\t\t\t</div>\n",
    "\t\t</div>\n",
    "\t\t\t<div>\n",
    "\t\t\t\t    <p>Copyright &copy; 2017. NYU CDS DS-GA-1007.</p>\n",
    "\t\t\t</div>\n",
    "<script src=\"https://code.jquery.com/jquery-2.1.4.js\"></script>\n",
    "<script src=\"https://maxcdn.bootstrapcdn.com/bootstrap/3.3.5/js/bootstrap.min.js\"></script>\n",
    "</body>\n",
    "</html>\n",
    "'''\n",
    "    return text\n",
    "  "
   ]
  },
  {
   "cell_type": "code",
   "execution_count": 8,
   "metadata": {
    "collapsed": false
   },
   "outputs": [
    {
     "name": "stdout",
     "output_type": "stream",
     "text": [
      "Server Starts\n"
     ]
    },
    {
     "name": "stderr",
     "output_type": "stream",
     "text": [
      "127.0.0.1 - - [13/Dec/2017 20:43:33] \"GET /?2013-01-16-4 HTTP/1.1\" 200 -\n"
     ]
    },
    {
     "name": "stdout",
     "output_type": "stream",
     "text": [
      "/?2013-01-16-4\n"
     ]
    },
    {
     "name": "stderr",
     "output_type": "stream",
     "text": [
      "127.0.0.1 - - [13/Dec/2017 20:43:34] \"GET /css/style.css HTTP/1.1\" 200 -\n"
     ]
    },
    {
     "name": "stdout",
     "output_type": "stream",
     "text": [
      "/css/style.css\n"
     ]
    },
    {
     "name": "stderr",
     "output_type": "stream",
     "text": [
      "127.0.0.1 - - [13/Dec/2017 20:44:35] \"GET /?2013-01-16-4 HTTP/1.1\" 200 -\n"
     ]
    },
    {
     "name": "stdout",
     "output_type": "stream",
     "text": [
      "/?2013-01-16-4\n"
     ]
    },
    {
     "name": "stderr",
     "output_type": "stream",
     "text": [
      "127.0.0.1 - - [13/Dec/2017 20:44:36] \"GET /css/style.css HTTP/1.1\" 200 -\n"
     ]
    },
    {
     "name": "stdout",
     "output_type": "stream",
     "text": [
      "/css/style.css\n"
     ]
    },
    {
     "name": "stderr",
     "output_type": "stream",
     "text": [
      "127.0.0.1 - - [13/Dec/2017 20:44:37] \"GET /?2013-01-16-4 HTTP/1.1\" 200 -\n"
     ]
    },
    {
     "name": "stdout",
     "output_type": "stream",
     "text": [
      "/?2013-01-16-4\n"
     ]
    },
    {
     "name": "stderr",
     "output_type": "stream",
     "text": [
      "127.0.0.1 - - [13/Dec/2017 20:44:37] \"GET /css/style.css HTTP/1.1\" 200 -\n"
     ]
    },
    {
     "name": "stdout",
     "output_type": "stream",
     "text": [
      "/css/style.css\n"
     ]
    },
    {
     "name": "stderr",
     "output_type": "stream",
     "text": [
      "127.0.0.1 - - [13/Dec/2017 20:45:28] \"GET /?2013-01-16-4 HTTP/1.1\" 200 -\n"
     ]
    },
    {
     "name": "stdout",
     "output_type": "stream",
     "text": [
      "/?2013-01-16-4\n"
     ]
    },
    {
     "name": "stderr",
     "output_type": "stream",
     "text": [
      "127.0.0.1 - - [13/Dec/2017 20:45:28] \"GET /css/style.css HTTP/1.1\" 200 -\n"
     ]
    },
    {
     "name": "stdout",
     "output_type": "stream",
     "text": [
      "/css/style.css\n"
     ]
    },
    {
     "name": "stderr",
     "output_type": "stream",
     "text": [
      "127.0.0.1 - - [13/Dec/2017 20:45:43] \"GET /?2013-01-16-4 HTTP/1.1\" 200 -\n"
     ]
    },
    {
     "name": "stdout",
     "output_type": "stream",
     "text": [
      "/?2013-01-16-4\n"
     ]
    },
    {
     "name": "stderr",
     "output_type": "stream",
     "text": [
      "127.0.0.1 - - [13/Dec/2017 20:45:43] \"GET /css/style.css HTTP/1.1\" 200 -\n",
      "127.0.0.1 - - [13/Dec/2017 20:47:15] \"GET /?2013-01-16-4 HTTP/1.1\" 200 -\n"
     ]
    },
    {
     "name": "stdout",
     "output_type": "stream",
     "text": [
      "/css/style.css\n",
      "/?2013-01-16-4\n"
     ]
    },
    {
     "name": "stderr",
     "output_type": "stream",
     "text": [
      "127.0.0.1 - - [13/Dec/2017 20:47:15] \"GET /css/style.css HTTP/1.1\" 200 -\n"
     ]
    },
    {
     "name": "stdout",
     "output_type": "stream",
     "text": [
      "/css/style.css\n"
     ]
    },
    {
     "name": "stderr",
     "output_type": "stream",
     "text": [
      "127.0.0.1 - - [13/Dec/2017 20:47:25] \"GET /?2013-01-16-4 HTTP/1.1\" 200 -\n"
     ]
    },
    {
     "name": "stdout",
     "output_type": "stream",
     "text": [
      "/?2013-01-16-4\n"
     ]
    },
    {
     "name": "stderr",
     "output_type": "stream",
     "text": [
      "127.0.0.1 - - [13/Dec/2017 20:47:26] \"GET /css/style.css HTTP/1.1\" 200 -\n"
     ]
    },
    {
     "name": "stdout",
     "output_type": "stream",
     "text": [
      "/css/style.css\n"
     ]
    },
    {
     "name": "stderr",
     "output_type": "stream",
     "text": [
      "127.0.0.1 - - [13/Dec/2017 20:47:35] \"GET /?2013-01-16-4 HTTP/1.1\" 200 -\n"
     ]
    },
    {
     "name": "stdout",
     "output_type": "stream",
     "text": [
      "/?2013-01-16-4\n"
     ]
    },
    {
     "name": "stderr",
     "output_type": "stream",
     "text": [
      "127.0.0.1 - - [13/Dec/2017 20:47:35] \"GET /css/style.css HTTP/1.1\" 200 -\n",
      "127.0.0.1 - - [13/Dec/2017 20:47:44] \"GET /?2013-12-27-4 HTTP/1.1\" 200 -\n",
      "127.0.0.1 - - [13/Dec/2017 20:47:45] \"GET /css/style.css HTTP/1.1\" 200 -\n"
     ]
    },
    {
     "name": "stdout",
     "output_type": "stream",
     "text": [
      "/css/style.css\n",
      "/?2013-12-27-4\n",
      "/css/style.css\n"
     ]
    },
    {
     "name": "stderr",
     "output_type": "stream",
     "text": [
      "127.0.0.1 - - [13/Dec/2017 20:47:51] \"GET /?2013-12-28-4 HTTP/1.1\" 200 -\n",
      "127.0.0.1 - - [13/Dec/2017 20:47:51] \"GET /css/style.css HTTP/1.1\" 200 -\n"
     ]
    },
    {
     "name": "stdout",
     "output_type": "stream",
     "text": [
      "/?2013-12-28-4\n",
      "/css/style.css\n"
     ]
    },
    {
     "name": "stderr",
     "output_type": "stream",
     "text": [
      "127.0.0.1 - - [13/Dec/2017 20:49:21] \"GET /?2013-12-28-4 HTTP/1.1\" 200 -\n"
     ]
    },
    {
     "name": "stdout",
     "output_type": "stream",
     "text": [
      "/?2013-12-28-4\n"
     ]
    },
    {
     "name": "stderr",
     "output_type": "stream",
     "text": [
      "127.0.0.1 - - [13/Dec/2017 20:49:21] \"GET /css/style.css HTTP/1.1\" 200 -\n"
     ]
    },
    {
     "name": "stdout",
     "output_type": "stream",
     "text": [
      "/css/style.css\n"
     ]
    },
    {
     "name": "stderr",
     "output_type": "stream",
     "text": [
      "127.0.0.1 - - [13/Dec/2017 20:49:45] \"GET /?2013-12-28-4 HTTP/1.1\" 200 -\n"
     ]
    },
    {
     "name": "stdout",
     "output_type": "stream",
     "text": [
      "/?2013-12-28-4\n"
     ]
    },
    {
     "name": "stderr",
     "output_type": "stream",
     "text": [
      "127.0.0.1 - - [13/Dec/2017 20:49:46] \"GET /css/style.css HTTP/1.1\" 200 -\n"
     ]
    },
    {
     "name": "stdout",
     "output_type": "stream",
     "text": [
      "/css/style.css\n"
     ]
    },
    {
     "name": "stderr",
     "output_type": "stream",
     "text": [
      "127.0.0.1 - - [13/Dec/2017 20:49:47] \"GET /?2013-12-28-4 HTTP/1.1\" 200 -\n"
     ]
    },
    {
     "name": "stdout",
     "output_type": "stream",
     "text": [
      "/?2013-12-28-4\n"
     ]
    },
    {
     "name": "stderr",
     "output_type": "stream",
     "text": [
      "127.0.0.1 - - [13/Dec/2017 20:49:47] \"GET /css/style.css HTTP/1.1\" 200 -\n"
     ]
    },
    {
     "name": "stdout",
     "output_type": "stream",
     "text": [
      "/css/style.css\n"
     ]
    },
    {
     "name": "stderr",
     "output_type": "stream",
     "text": [
      "127.0.0.1 - - [13/Dec/2017 20:50:48] \"GET /?2013-12-28-4 HTTP/1.1\" 200 -\n"
     ]
    },
    {
     "name": "stdout",
     "output_type": "stream",
     "text": [
      "/?2013-12-28-4\n"
     ]
    },
    {
     "name": "stderr",
     "output_type": "stream",
     "text": [
      "127.0.0.1 - - [13/Dec/2017 20:50:49] \"GET /css/style.css HTTP/1.1\" 200 -\n",
      "127.0.0.1 - - [13/Dec/2017 20:52:08] \"GET /?2013-12-28-4 HTTP/1.1\" 200 -\n",
      "127.0.0.1 - - [13/Dec/2017 20:52:08] \"GET /css/style.css HTTP/1.1\" 200 -\n"
     ]
    },
    {
     "name": "stdout",
     "output_type": "stream",
     "text": [
      "/css/style.css\n",
      "/?2013-12-28-4\n",
      "/css/style.css\n"
     ]
    },
    {
     "name": "stderr",
     "output_type": "stream",
     "text": [
      "127.0.0.1 - - [13/Dec/2017 20:53:50] \"GET /?2013-12-28-4 HTTP/1.1\" 200 -\n",
      "127.0.0.1 - - [13/Dec/2017 20:53:50] \"GET /css/style.css HTTP/1.1\" 200 -\n"
     ]
    },
    {
     "name": "stdout",
     "output_type": "stream",
     "text": [
      "/?2013-12-28-4\n",
      "/css/style.css\n",
      "Server Stops\n"
     ]
    }
   ],
   "source": [
    "#This part generate the Server\n",
    "import http.server\n",
    "import socketserver\n",
    "\n",
    "#PORT = 8000\n",
    "\n",
    "#Handler = http.server.SimpleHTTPRequestHandler\n",
    "\n",
    "\n",
    "\n",
    "\n",
    "#import BaseHTTPServer\n",
    "from socketserver import BaseServer, ThreadingTCPServer, TCPServer\n",
    "import threading\n",
    "from socketserver import ThreadingMixIn\n",
    "import urllib\n",
    "import os\n",
    "\n",
    "class WebRequestHandler(http.server.SimpleHTTPRequestHandler):\n",
    "\n",
    "    def do_GET(self):\n",
    "        if \"ico\" in self.path:\n",
    "            return\n",
    "        thread = threading.currentThread()\n",
    "        self.send_response(200)\n",
    "        print(self.path)\n",
    "        \n",
    "        if \"?\" in self.path:\n",
    "            self.send_header(\"Content-type\",\"text/html\")\n",
    "            self.end_headers()\n",
    "            if '?' not in self.path or '-' not in self.path:\n",
    "                self.wfile.write('Worong Format'.encode())\n",
    "            elif len(self.path.split('?')[1].split('-'))!=3 and len(self.path.split('?')[1].split('-'))!=4  :\n",
    "                self.wfile.write('Worong Format'.encode())\n",
    "                #current_date\n",
    "            else:\n",
    "                today = self.path.split('?')[1].split('-')\n",
    "                today_1 = today[0]\n",
    "                today_2 = delete_zero(today[1])\n",
    "                today_3 = delete_zero(today[2])\n",
    "                if len(today) ==4:\n",
    "                    hour = delete_zero(today[3])\n",
    "                else:\n",
    "                    hour = 0\n",
    "                tomorrow_1, tomorrow_2, tomorrow_3 = find_next_day(today_1, today_2, today_3)\n",
    "                two_days_later_1, two_days_later_2, two_days_later_3 = find_next_day(tomorrow_1, tomorrow_2, tomorrow_3)\n",
    "                three_days_later_1, three_days_later_2, three_days_later_3 = find_next_day(two_days_later_1, two_days_later_2, two_days_later_3)\n",
    "                text_1 = html_header_generator()\n",
    "                #print(text_1)\n",
    "                text_2 = html_data_generator(today_1, today_2, today_3, hour, 0)\n",
    "                #print(text_2)\n",
    "                text_3 = html_data_generator(tomorrow_1, tomorrow_2, tomorrow_3 , hour, 1)\n",
    "                #print(text_3)\n",
    "                text_4 = html_data_generator(two_days_later_1, two_days_later_2, two_days_later_3, hour, 2)\n",
    "                #print(text_4)\n",
    "                text_5 = html_data_generator(three_days_later_1, three_days_later_2, three_days_later_3, hour, 3)\n",
    "                #print(text_5)\n",
    "                text_6 = html_foot_generator()\n",
    "                #print(text_6)\n",
    "                final_text = text_1 + text_2 + text_3 + text_4 + text_5 + text_6\n",
    "                self.wfile.write(final_text.encode())\n",
    "                \n",
    "                \n",
    "        elif 'css' in self.path:\n",
    "            self.send_header(\"Content-type\",\"text/css\")\n",
    "            self.end_headers()\n",
    "        #self.send_header(“href”,”css/style.css”)\n",
    "            html_object = open(self.path[1:])\n",
    "            try:\n",
    "                all_the_text = html_object.read()\n",
    "            finally:\n",
    "                html_object.close()\n",
    "        #output = \"<html><head><title>PM2.5</title></head><body><p>Three days PM2.5: 56, 78, 91</p></body></html>\"\n",
    "        #print(all_the_text)    \n",
    "            self.wfile.write(all_the_text.encode())\n",
    "\n",
    "\n",
    "\n",
    "\n",
    "class ThreadingServer(ThreadingMixIn, TCPServer):\n",
    "    pass\n",
    "\n",
    "if __name__ == '__main__':\n",
    "    #server = TCPServer(('127.0.0.1', 6689), WebRequestHandler)\n",
    "    #try:\n",
    "    #    server.serve_forever()\n",
    "    #except:\n",
    "    #    pass\n",
    "    #server.server_close()\n",
    "    server = ThreadingServer(('127.0.0.1', 6671), WebRequestHandler)\n",
    "    thread = threading.Thread(target=server.serve_forever)\n",
    "    thread.start()\n",
    "    print (\"Server Starts\")\n",
    "    while True:\n",
    "        try:\n",
    "            continue\n",
    "        except:\n",
    "            print('Server Stops')\n",
    "            break"
   ]
  },
  {
   "cell_type": "markdown",
   "metadata": {},
   "source": [
    "Access by entering the URL with following format:localhost:6671/?year-month-day or localhost:6671/?year-month-day-hour\n",
    "* For example: [localhost:6671/?2013-01-16-4](127.0.0.1:6671/?2013-01-16-4)\n",
    "* To clearly see the performance, another two css files are needed."
   ]
  },
  {
   "cell_type": "code",
   "execution_count": null,
   "metadata": {
    "collapsed": true
   },
   "outputs": [],
   "source": []
  }
 ],
 "metadata": {
  "kernelspec": {
   "display_name": "Python 3",
   "language": "python",
   "name": "python3"
  },
  "language_info": {
   "codemirror_mode": {
    "name": "ipython",
    "version": 3
   },
   "file_extension": ".py",
   "mimetype": "text/x-python",
   "name": "python",
   "nbconvert_exporter": "python",
   "pygments_lexer": "ipython3",
   "version": "3.6.0"
  }
 },
 "nbformat": 4,
 "nbformat_minor": 1
}
