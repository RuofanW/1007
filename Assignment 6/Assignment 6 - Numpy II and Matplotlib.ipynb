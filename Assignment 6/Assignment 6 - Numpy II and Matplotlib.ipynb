{
 "cells": [
  {
   "cell_type": "markdown",
   "metadata": {},
   "source": [
    "# Assignment 6: Numpy II and Matplotlib\n",
    "\n",
    "***\n",
    "\n",
    "__Question 1:__ (2.0 points) \n",
    "\n",
    "1. (0.5 point) Create a two-dimensional numpy array called <font color='blue'>A</font> with six rows and three columns by broadcasting the array [1 2 3 4 5 6].\n",
    "2. (0.5 point) Create arrays <font color='blue'>B</font> and <font color='blue'>C</font> where <font color='blue'>B</font> is copy and <font color='blue'>C</font> is a view of <font color='blue'>A</font>, respectively. Use the method \"id()\" to make sure <font color='blue'>B</font> and <font color='blue'>C</font> do not reference to the same location as <font color='blue'>A</font>. \n",
    "3. (1.0 point) Reshape <font color='blue'>C</font> to have nine rows and two columns and create a new variable <font color='blue'>D</font> by copying the rows 3,6, and 8 from <font color='blue'>D</font>. "
   ]
  },
  {
   "cell_type": "code",
   "execution_count": 2,
   "metadata": {
    "collapsed": true
   },
   "outputs": [],
   "source": [
    "# solution \n",
    "\n",
    "import numpy as np\n"
   ]
  },
  {
   "cell_type": "code",
   "execution_count": 3,
   "metadata": {
    "collapsed": false
   },
   "outputs": [
    {
     "data": {
      "text/plain": [
       "array([[ 1.,  1.,  1.],\n",
       "       [ 2.,  2.,  2.],\n",
       "       [ 3.,  3.,  3.],\n",
       "       [ 4.,  4.,  4.],\n",
       "       [ 5.,  5.,  5.],\n",
       "       [ 6.,  6.,  6.]])"
      ]
     },
     "execution_count": 3,
     "metadata": {},
     "output_type": "execute_result"
    }
   ],
   "source": [
    "A = np.zeros((6, 3))\n",
    "l = np.array([1, 2, 3, 4, 5, 6])\n",
    "A[:] = l[:, np.newaxis]\n",
    "A"
   ]
  },
  {
   "cell_type": "code",
   "execution_count": 4,
   "metadata": {
    "collapsed": false
   },
   "outputs": [
    {
     "name": "stdout",
     "output_type": "stream",
     "text": [
      "id of A: 4613966784\n",
      "id of B: 4613967664\n",
      "id of C: 4614063488\n"
     ]
    }
   ],
   "source": [
    "B = A.copy()\n",
    "C = A.view()\n",
    "print(\"id of A:\", id(A))\n",
    "print(\"id of B:\", id(B))\n",
    "print(\"id of C:\", id(C))"
   ]
  },
  {
   "cell_type": "code",
   "execution_count": 10,
   "metadata": {
    "collapsed": false
   },
   "outputs": [
    {
     "data": {
      "text/plain": [
       "array([[ 1.,  1.],\n",
       "       [ 1.,  2.],\n",
       "       [ 2.,  2.],\n",
       "       [ 3.,  3.],\n",
       "       [ 3.,  4.],\n",
       "       [ 4.,  4.],\n",
       "       [ 5.,  5.],\n",
       "       [ 5.,  6.],\n",
       "       [ 6.,  6.]])"
      ]
     },
     "execution_count": 10,
     "metadata": {},
     "output_type": "execute_result"
    }
   ],
   "source": [
    "C = C.reshape((9, 2))\n",
    "C"
   ]
  },
  {
   "cell_type": "code",
   "execution_count": 9,
   "metadata": {
    "collapsed": false
   },
   "outputs": [
    {
     "data": {
      "text/plain": [
       "array([[ 3.,  3.],\n",
       "       [ 5.,  5.],\n",
       "       [ 6.,  6.]])"
      ]
     },
     "execution_count": 9,
     "metadata": {},
     "output_type": "execute_result"
    }
   ],
   "source": [
    "D = C[[3, 6, 8],:]\n",
    "D"
   ]
  },
  {
   "cell_type": "markdown",
   "metadata": {},
   "source": [
    "***\n",
    "\n",
    "__Question 2:__ (2.0 points) Consider an $n\\times n,\\, n\\geq 2$ array <font color='blue'>A</font>. For instance, with $n=4$:\n",
    "$$\n",
    "A=\\left(\\begin{array}[cccc]\\\\\n",
    "1 & 3 & 2 & 6 \\\\\n",
    "3 & 5 & 1 & {7} \\\\\n",
    "{0} & 4 & {2} & {6} \\\\\n",
    "6 & 1 & 3 & {1} \n",
    "\\end{array}\\right)\n",
    "$$\n",
    "Create a 2$\\times$2 array <font color='blue'>B</font> where the first row corresponds to the minimal and maximal elements in the upper triangluar part of <font color='blue'>A</font> and the second row corresponds to the minimal and maximal elements in the lower triangluar part of <font color='blue'>A</font>. The main diagonal should be considered as belonging to both the upper and lower triangular part of <font color='blue'>A</font>. In the above example the solution would be \n",
    "$$\n",
    "B=\\left(\\begin{array}[cc]\\\\\n",
    "1 & 7  \\\\\n",
    "0 & 6  \n",
    "\\end{array}\\right)\n",
    "$$\n",
    "Your solution (the python code) should work for any $n\\times n,\\, n\\geq 2$ array.<br>\n",
    "__Hint__: Use the numpy methods \"triu_indices\" and \"tril_indices\" combined with \"max\" and \"min\"."
   ]
  },
  {
   "cell_type": "code",
   "execution_count": 5,
   "metadata": {
    "collapsed": false
   },
   "outputs": [
    {
     "name": "stdout",
     "output_type": "stream",
     "text": [
      "A =  [[ 0.90342095  0.94209136  0.75350637  0.81194707]\n",
      " [ 0.25686357  0.68720402  0.60828614  0.26946181]\n",
      " [ 0.86863163  0.80369384  0.16902058  0.88968612]\n",
      " [ 0.35780011  0.74401059  0.53274211  0.11930222]]\n",
      "B =  [[ 0.11930222  0.94209136]\n",
      " [ 0.11930222  0.90342095]]\n"
     ]
    }
   ],
   "source": [
    "# solution\n",
    "\n",
    "# Run you code in the example to make sure it is working. \n",
    "\n",
    "n = 4\n",
    "A = np.random.rand(n,n)\n",
    "# A = np.array([[1,3,2,6],[3,5,1,7],[0,4,2,6],[6,1,3,1]])\n",
    "print(\"A = \",A)\n",
    "# Au = np.triu(A, 0)\n",
    "# Al = np.tril(A, 0)\n",
    "max1 = np.max(A[np.triu_indices(n, 0)])\n",
    "max2 = np.max(A[np.tril_indices(n, 0)])\n",
    "min1 = np.min(A[np.triu_indices(n, 0)])\n",
    "min2 = np.min(A[np.tril_indices(n, 0)])\n",
    "B = np.array([[min1, max1], [min2, max2]])\n",
    "# n = 5\n",
    "print(\"B = \", B)\n",
    "# print(A)\n"
   ]
  },
  {
   "cell_type": "markdown",
   "metadata": {
    "collapsed": true
   },
   "source": [
    "__Question 3:__ (3.0 points) Given a set of points $(x_0,y_0),(x_1,y_1),\\ldots,(x_n,y_n)$, we can fit a line $y=\\alpha_0+\\alpha_1 x$ to the points by solving a linear system of the form:\n",
    "\n",
    "$$\n",
    "A^\\top A\\alpha = A^\\top b\n",
    "$$\n",
    "\n",
    "where $A^\\top$ is the transpose of $A$ and \n",
    "\n",
    "$$\n",
    "A=\\left(\\begin{array}{cc}\n",
    "1 & x_0 \\\\\n",
    "1 & x_1 \\\\\n",
    "\\vdots & \\vdots \\\\\n",
    "1 & x_n \n",
    "\\end{array}\\right),\n",
    "\\qquad\n",
    "\\alpha = \\left(\\begin{array}{c}\n",
    "\\alpha_0 \\\\\n",
    "\\alpha_1 \n",
    "\\end{array}\\right),\n",
    "\\qquad\n",
    "b = \\left(\\begin{array}{c}\n",
    "y_0 \\\\\n",
    "y_1 \\\\\n",
    "\\vdots \\\\\n",
    "y_n\n",
    "\\end{array}\\right)\n",
    "$$\n",
    "\n",
    "Supposing the points $(x_i,y_i)$ are generated by the code:\n",
    "\n",
    "```python\n",
    "x = np.random.uniform(0,1,100)\n",
    "y = 1.0-x+np.random.uniform(-0.3,0.3,100)\n",
    "```\n",
    "\n",
    "1. (1.5 points) Build the matrix (array) $A$\n",
    "2. (1.5 points) Solve the linear system $A^\\top A\\alpha = A^\\top b$ using \"numpy.linalg.solve\" and print the value of $\\alpha_0$ and $\\alpha_1$.\n"
   ]
  },
  {
   "cell_type": "code",
   "execution_count": 48,
   "metadata": {
    "collapsed": false
   },
   "outputs": [
    {
     "name": "stdout",
     "output_type": "stream",
     "text": [
      "alpha_0:[ 1.03650839] alpha_1:[-1.07014801]\n"
     ]
    }
   ],
   "source": [
    "# Solution\n",
    "x = np.random.uniform(0,1,100)\n",
    "\n",
    "y = 1.0-x+np.random.uniform(-0.3,0.3,100)\n",
    "a1 = np.array([1]*100).reshape((100,1))\n",
    "a2 = np.array(x).reshape((100,1))\n",
    "A = np.hstack((a1, a2))\n",
    "b = np.array(y).reshape((100,1))\n",
    "left = np.dot(A.T, A)\n",
    "right = np.dot(A.T, b)\n",
    "alpha = np.linalg.solve(left, right)\n",
    "print(\"alpha_0:{} alpha_1:{}\".format(alpha[0],alpha[1]))"
   ]
  },
  {
   "cell_type": "markdown",
   "metadata": {},
   "source": [
    "__Question 4:__ (1.5 points) Using the result from question 3, plot the points $(x_i,y_i)$ and the fitted line. Your code should produce a figure like this:\n",
    "\n",
    "![title](linefit.png)"
   ]
  },
  {
   "cell_type": "code",
   "execution_count": 60,
   "metadata": {
    "collapsed": false
   },
   "outputs": [
    {
     "data": {
      "image/png": "[encoded data removed]",
      "text/plain": [
       "<matplotlib.figure.Figure at 0x1174136a0>"
      ]
     },
     "metadata": {},
     "output_type": "display_data"
    }
   ],
   "source": [
    "# Solution\n",
    "import matplotlib.pyplot as plt\n",
    "fig = plt.figure()\n",
    "plt.plot(x, alpha[1] * x + alpha[0], color='orange')\n",
    "plt.scatter(x, y, marker=\"*\")\n",
    "plt.show()"
   ]
  },
  {
   "cell_type": "markdown",
   "metadata": {},
   "source": [
    "__Question 5:__ (1.5 points) Enrich the plot genereted in question 4 by incorporating a legend and an annotation indicating the fitted line, similar to the following figure:\n",
    "\n",
    "![title](annotation.png)"
   ]
  },
  {
   "cell_type": "code",
   "execution_count": 65,
   "metadata": {
    "collapsed": false
   },
   "outputs": [
    {
     "data": {
      "image/png": "[encoded data removed]",
      "text/plain": [
       "<matplotlib.figure.Figure at 0x1121ee710>"
      ]
     },
     "metadata": {},
     "output_type": "display_data"
    }
   ],
   "source": [
    "# Solution\n",
    "fig = plt.figure()\n",
    "plt.plot(x, alpha[1] * x + alpha[0], color=\"#ff7f0e\", label = \"fitted line\")\n",
    "plt.scatter(x, y, marker=\"*\", label=\"points\")\n",
    "plt.legend()\n",
    "plt.annotate(\"fitted line\", xy=(0.5,0.5),xytext=(0.2, 0.05),arrowprops=dict(facecolor='black', shrink=0.05))\n",
    "plt.show()"
   ]
  }
 ],
 "metadata": {
  "kernelspec": {
   "display_name": "Python 3",
   "language": "python",
   "name": "python3"
  },
  "language_info": {
   "codemirror_mode": {
    "name": "ipython",
    "version": 3
   },
   "file_extension": ".py",
   "mimetype": "text/x-python",
   "name": "python",
   "nbconvert_exporter": "python",
   "pygments_lexer": "ipython3",
   "version": "3.6.0"
  }
 },
 "nbformat": 4,
 "nbformat_minor": 2
}
