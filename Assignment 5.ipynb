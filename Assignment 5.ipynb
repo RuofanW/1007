{
 "cells": [
  {
   "cell_type": "markdown",
   "metadata": {},
   "source": [
    "# Assignment 5: Reference, Dictionaries, Comprehensions, File I/O, and Unit Tests\n",
    "\n",
    "***\n",
    "\n",
    "__Question 1:__ (1.0 point) \n",
    "- Write a python code that creates a list called _listN_ with the numbers 0,1,2,3,4,5,6,7,8,9. \n",
    "- Make a copy of the content of _listN_ to a new list called _listM_ and append the numbers 10,11,12,13 to the ende of _listM_. \n",
    "- Creat another variable called _listO_ that is a reference to _listM_ and remove the number 4 from _listO_.\n",
    "- Print the content of the three lists and explain what you are observing."
   ]
  },
  {
   "cell_type": "code",
   "execution_count": 39,
   "metadata": {
    "collapsed": false
   },
   "outputs": [
    {
     "name": "stdout",
     "output_type": "stream",
     "text": [
      "N: [0, 1, 2, 3, 4, 5, 6, 7, 8, 9]\n",
      "M: [0, 1, 2, 3, 5, 6, 7, 8, 9, 10, 11, 12, 13]\n",
      "O: [0, 1, 2, 3, 5, 6, 7, 8, 9, 10, 11, 12, 13]\n"
     ]
    }
   ],
   "source": [
    "# Solution\n",
    "import numpy as np\n",
    "listN = list(np.arange(10))\n",
    "listM = listN[:]\n",
    "temp = np.arange(4) + 10\n",
    "listM = list(np.append(listM, temp))\n",
    "listO = listM\n",
    "listO.remove(4)\n",
    "print('N:',listN)\n",
    "print('M:',listM)\n",
    "print('O:',listO)"
   ]
  },
  {
   "cell_type": "markdown",
   "metadata": {},
   "source": [
    "***\n",
    "\n",
    "__Question 2:__ (3.0 points) Each row in the file \"careerXskills.txt\" (available in NYU Classes) contains a pair  _career_ and _skill_. A particular career can be associate to several different skills. For instances, a 'computer_scientist' can have the set of skills 'programming', 'math', 'statistic', 'data_base'. Therefore, a single career can show up multiple times in the file \"careerXskills.txt\", each associate to a particular skill.\n",
    "\n",
    "- Build a dictionary from the file \"careerXskills.txt\", using the career name as the _keys_ and setting the list of skills associate to each career as the _value_ associated to the key. In other words, each _key_ has a list associate to it.\n",
    "- The list of skills associated to a key should not have duplicate entries, that is, a particular skill should not appear multiple times in the list of skills associated to a key.\n",
    "- Your code should print the list of careers and associate skills in the following format:\n",
    "\n",
    "-> computer_scientist: <br>\n",
    "&nbsp; &nbsp; programming, math, statistic, data_base\n",
    "\n",
    "-> engineer: <br>\n",
    "&nbsp; &nbsp; math, design, structural_calculus"
   ]
  },
  {
   "cell_type": "code",
   "execution_count": 85,
   "metadata": {
    "collapsed": false
   },
   "outputs": [],
   "source": [
    "# solution\n",
    "f = open('careerXskills.txt', 'r')\n",
    "skilldict = {}\n",
    "for line in f:\n",
    "    line = line.split()\n",
    "    #print(line[0])\n",
    "    if line[0] in skilldict:\n",
    "        skilldict[line[0]].append(line[1])\n",
    "    else:\n",
    "        skilldict[line[0]] = [line[1]]\n",
    "    "
   ]
  },
  {
   "cell_type": "code",
   "execution_count": 93,
   "metadata": {
    "collapsed": false
   },
   "outputs": [],
   "source": [
    "def prt(dictionary):\n",
    "    for career, skill in dictionary.items():\n",
    "        print('->',career)\n",
    "        printlist(skill)\n",
    "def printlist(l):\n",
    "    res = ''\n",
    "    for ele in l:\n",
    "        res = res + ',' + ele\n",
    "    print(res[1:])\n",
    "        "
   ]
  },
  {
   "cell_type": "code",
   "execution_count": 94,
   "metadata": {
    "collapsed": false
   },
   "outputs": [
    {
     "name": "stdout",
     "output_type": "stream",
     "text": [
      "-> Medical_physicist\n",
      "physical_fitness,work_under_pressure,resilience,communication,resilience,physical_fitness,physical_fitness,communication,resilience,communication,intuitive_reasoning,physical_fitness,resilience,communication,intuitive_reasoning,physical_fitness,physical_fitness,work_under_pressure,teamworking,physical_fitness,communication,physical_fitness,teamworking,communication,work_under_pressure,communication\n",
      "-> Computer_scientist\n",
      "project_management,accurate_communication,math,innovative_thinking,accurate_communication,statistic,accurate_communication,innovative_thinking,programming,project_management,innovative_thinking,statistic,technologial_knowledge,programming,project_management,accurate_communication,resilience,technologial_knowledge\n",
      "-> Aeronautical_engineer\n",
      "accurate_communication,project_management,statistic,innovative_thinking,project_management,accurate_communication,statistic,technologial_knowledge,programming,project_management,programming,math,innovative_thinking,technologial_knowledge,project_management,accurate_communication,project_management,technologial_knowledge\n",
      "-> Accountant\n",
      "teamworking,innovative_thinking,innovative_thinking,business_acumen,project_management,teamworking,business_acumen,technologial_knowledge,innovative_thinking,IT,manage_deadlines,manage_deadlines,teamworking,business_acumen,numeracy,project_management,manage_deadlines,technologial_knowledge,numeracy,project_management,innovative_thinking,technologial_knowledge,teamworking\n",
      "-> Sports_coach\n",
      "resilience,accurate_communication,statistic,teamworking,programming,communication,communication,intuitive_reasoning,numeracy,project_management,intuitive_reasoning,project_management,resilience,communication,technologial_knowledge\n"
     ]
    }
   ],
   "source": [
    "prt(skilldict)"
   ]
  },
  {
   "cell_type": "markdown",
   "metadata": {},
   "source": [
    "***\n",
    "\n",
    "__Question 3:__ (2.0 points) Write a function called <font color='blue'> format_person_info</font> that receives the two mandatory parameters <font color='blue'>_name_</font> and <font color='blue'>_age_</font> and returns a string containing the first and last name (disregarding middle names) followed by the the phrase \"is <font color='blue'>_age_</font> years old\". For instance, \n",
    "\n",
    "```python\n",
    "print(format_person_info('Luis Gustavo Nonato',48))\n",
    "```\n",
    "should result in:\n",
    "\n",
    "Luis Nonato is 48 years old\n",
    "\n",
    "A third, optional parameter, can also be provided, which specify the job position. For instance,  \n",
    "\n",
    "```python\n",
    "print(format_person_info('Luis Gustavo Nonato',48,'Data Scientist'))\n",
    "```\n",
    "should result in:\n",
    "\n",
    "Luis Nonato, Data Scientis, is 48 years old\n",
    " "
   ]
  },
  {
   "cell_type": "code",
   "execution_count": 97,
   "metadata": {
    "collapsed": false
   },
   "outputs": [
    {
     "name": "stdout",
     "output_type": "stream",
     "text": [
      "Luis Nonato, Data Scientist, is 48 years old\n",
      "Luis Nonato is 48 years old\n"
     ]
    }
   ],
   "source": [
    "# Solution\n",
    "\n",
    "def format_person_info(name, age, posi = None):\n",
    "    namesplit = name.split()\n",
    "    firstname = namesplit[0]\n",
    "    lastname = namesplit[-1]\n",
    "    if posi == None:\n",
    "        res = '{f} {l} is {a} years old'.format(f = firstname, l = lastname, a = age)\n",
    "    else:\n",
    "        res = '{f} {l}, {p}, is {a} years old'.format(f = firstname, l = lastname, a = age, p = posi)\n",
    "    return res\n",
    "\n",
    "print(format_person_info('Luis Gustavo Nonato',48,'Data Scientist'))\n",
    "print(format_person_info('Luis Gustavo Nonato',48))"
   ]
  },
  {
   "cell_type": "markdown",
   "metadata": {},
   "source": [
    "***\n",
    "\n",
    "__Question 4:__ (2.0 points) Write a unit test for the function <font color='blue'> format_person_info</font> you implemented in question 3. Your unit test should assert the function correctness when two or three parameters are provided."
   ]
  },
  {
   "cell_type": "code",
   "execution_count": 102,
   "metadata": {
    "collapsed": false
   },
   "outputs": [
    {
     "name": "stderr",
     "output_type": "stream",
     "text": [
      ".\n",
      "----------------------------------------------------------------------\n",
      "Ran 1 test in 0.007s\n",
      "\n",
      "OK\n"
     ]
    },
    {
     "data": {
      "text/plain": [
       "<unittest.runner.TextTestResult run=1 errors=0 failures=0>"
      ]
     },
     "execution_count": 102,
     "metadata": {},
     "output_type": "execute_result"
    }
   ],
   "source": [
    "# Solution\n",
    "import unittest\n",
    "\n",
    "class NameAgeJob_Test_Class(unittest.TestCase):\n",
    "    def test(self):\n",
    "        self.assertEqual(format_person_info('Luis Gustavo Nonato',48,'Data Scientist'), 'Luis Nonato, Data Scientist, is 48 years old', msg = 'passed')\n",
    "        self.assertEqual(format_person_info('Luis Gustavo Nonato',48),'Luis Nonato is 48 years old','passed')\n",
    "\n",
    "# the code below run the unit test\n",
    "t = NameAgeJob_Test_Class()\n",
    "suite = unittest.TestLoader().loadTestsFromModule(t)\n",
    "unittest.TextTestRunner().run(suite)"
   ]
  },
  {
   "cell_type": "markdown",
   "metadata": {},
   "source": [
    "***\n",
    "\n",
    "__Question 5:__ (2.0 points) Write a python code the does exactly the same as \n",
    "\n",
    "```python\n",
    "import random\n",
    "print([x for x in list(map(lambda i: random.randint(-i,i),10*[10])) if x>0])\n",
    "```\n",
    "\n",
    "but without using comprehension."
   ]
  },
  {
   "cell_type": "code",
   "execution_count": 111,
   "metadata": {
    "collapsed": false
   },
   "outputs": [
    {
     "name": "stdout",
     "output_type": "stream",
     "text": [
      "[8, 5, 4, 5, 10, 2]\n",
      "[8, 5, 4, 5, 10, 2]\n"
     ]
    }
   ],
   "source": [
    "# solution\n",
    "import random\n",
    "random.seed(a=1) # this is only necessary to make sure both codes will produce the same set of random numbers\n",
    "l = 10*[10]\n",
    "#l2 = list(map(lambda i: random.randint(-i,i),10*[10]))\n",
    "for i, ele in enumerate(l):\n",
    "    l[i] = random.randint(-10,10)\n",
    "res = list()\n",
    "for ele in l:\n",
    "    if ele > 0:\n",
    "        res.append(ele)\n",
    "print(res)\n",
    "\n",
    "random.seed(a=1) # this is only necessary to make sure both codes will produce the same set of random numbers\n",
    "print([x for x in list(map(lambda i: random.randint(-i,i),10*[10])) if x>0])\n"
   ]
  },
  {
   "cell_type": "code",
   "execution_count": null,
   "metadata": {
    "collapsed": true
   },
   "outputs": [],
   "source": []
  }
 ],
 "metadata": {
  "kernelspec": {
   "display_name": "Python 3",
   "language": "python",
   "name": "python3"
  },
  "language_info": {
   "codemirror_mode": {
    "name": "ipython",
    "version": 3
   },
   "file_extension": ".py",
   "mimetype": "text/x-python",
   "name": "python",
   "nbconvert_exporter": "python",
   "pygments_lexer": "ipython3",
   "version": "3.6.0"
  }
 },
 "nbformat": 4,
 "nbformat_minor": 2
}
