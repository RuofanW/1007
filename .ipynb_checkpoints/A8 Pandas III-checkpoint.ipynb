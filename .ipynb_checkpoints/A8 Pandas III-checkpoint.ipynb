{
 "cells": [
  {
   "cell_type": "markdown",
   "metadata": {},
   "source": [
    "# Assignment 8 - Pandas III"
   ]
  },
  {
   "cell_type": "markdown",
   "metadata": {},
   "source": [
    "This assignment will require the database of restaurane grades that can be downloaded from:\n",
    "\n",
    "https://data.cityofnewyork.us/Health/DOHMH-New-York-City-Restaurant-Inspection-Results/xx67-kt59"
   ]
  },
  {
   "cell_type": "markdown",
   "metadata": {},
   "source": [
    "__Question 1.__ (1.5 points) Import the dataset into a pandas DataFrame. You will need to clean up the data, for example, by removing all entries that have invalid grades (in the ‘GRADE’ column). Print the number of rows that was removed by the cleaning process."
   ]
  },
  {
   "cell_type": "code",
   "execution_count": 29,
   "metadata": {
    "collapsed": false
   },
   "outputs": [
    {
     "data": {
      "text/plain": [
       "A                 154720\n",
       "B                  27479\n",
       "C                   6924\n",
       "Z                   4101\n",
       "Not Yet Graded      2135\n",
       "P                   1584\n",
       "Name: GRADE, dtype: int64"
      ]
     },
     "execution_count": 29,
     "metadata": {},
     "output_type": "execute_result"
    }
   ],
   "source": [
    "# Solution\n",
    "import pandas as pd\n",
    "import numpy as np\n",
    "import matplotlib.pyplot as plt\n",
    "data = pd.read_csv(\"nycdt.csv\")\n",
    "data.GRADE.value_counts()"
   ]
  },
  {
   "cell_type": "code",
   "execution_count": 30,
   "metadata": {
    "collapsed": false
   },
   "outputs": [
    {
     "name": "stdout",
     "output_type": "stream",
     "text": [
      "the number of rows that was removed: 200624\n"
     ]
    }
   ],
   "source": [
    "filt = pd.isnull(data[\"GRADE\"])\n",
    "print(\"the number of rows that was removed:\", sum(filt))"
   ]
  },
  {
   "cell_type": "code",
   "execution_count": 31,
   "metadata": {
    "collapsed": false
   },
   "outputs": [],
   "source": [
    "data = data[-filt]"
   ]
  },
  {
   "cell_type": "code",
   "execution_count": 32,
   "metadata": {
    "collapsed": false
   },
   "outputs": [
    {
     "name": "stdout",
     "output_type": "stream",
     "text": [
      "the number of rows left: 196943\n"
     ]
    }
   ],
   "source": [
    "print(\"the number of rows left:\",data.shape[0])"
   ]
  },
  {
   "cell_type": "markdown",
   "metadata": {},
   "source": [
    "__Question 2.__ (3.0 points) Write a function called <font color=blue>Group_Years</font> which receives the cleaned dataframe as a parameter and returns an object with restaurantes grouped by years according to the column 'GRADE DATE'. Print the names of the groups (which correspond to the years).<br><br>\n",
    "__Hint:__ Use the <font color=blue>dateutil</font> package to parser the column 'GRADE DATE' as a date type and the method <font color=blue>dt</font> available in the DataFrame class to get the year."
   ]
  },
  {
   "cell_type": "code",
   "execution_count": 33,
   "metadata": {
    "collapsed": false
   },
   "outputs": [
    {
     "name": "stdout",
     "output_type": "stream",
     "text": [
      "2012\n",
      "2013\n",
      "2014\n",
      "2015\n",
      "2016\n",
      "2017\n"
     ]
    }
   ],
   "source": [
    "# Solution\n",
    "import dateutil\n",
    "\n",
    "def Group_Years(data):\n",
    "    data[\"GRADE DATE\"] = pd.to_datetime(data['GRADE DATE'])\n",
    "    data.loc[:, 'year'] = data['GRADE DATE'].dt.year\n",
    "    for name, group in data.groupby('year'):  \n",
    "        print(int(name))\n",
    "    return data.groupby(\"year\")\n",
    "datagb = Group_Years(data)\n"
   ]
  },
  {
   "cell_type": "markdown",
   "metadata": {},
   "source": [
    "__Question 3.__ (3.0 points) Write a function called <font color=blue>Restaurant_Grades</font> which receives a given a year as a parameter and returns the number of restaurants graded as 'A', 'B', and 'C' in that particular year. Print out the number of restaurants in each grade for all years in the dataset. Format your print as below:\n",
    "```\n",
    "2014\n",
    "A :  23005\n",
    "B :  5171\n",
    "C :  1380\n",
    "2015\n",
    "A :  43943\n",
    "B :  8803\n",
    "C :  1983\n",
    "```\n"
   ]
  },
  {
   "cell_type": "code",
   "execution_count": 34,
   "metadata": {
    "collapsed": false
   },
   "outputs": [
    {
     "data": {
      "text/html": [
       "<div>\n",
       "<table border=\"1\" class=\"dataframe\">\n",
       "  <thead>\n",
       "    <tr style=\"text-align: right;\">\n",
       "      <th></th>\n",
       "      <th>GRADE</th>\n",
       "    </tr>\n",
       "    <tr>\n",
       "      <th>GRADE</th>\n",
       "      <th></th>\n",
       "    </tr>\n",
       "  </thead>\n",
       "  <tbody>\n",
       "    <tr>\n",
       "      <th>A</th>\n",
       "      <td>44158</td>\n",
       "    </tr>\n",
       "    <tr>\n",
       "      <th>B</th>\n",
       "      <td>8795</td>\n",
       "    </tr>\n",
       "    <tr>\n",
       "      <th>C</th>\n",
       "      <td>1990</td>\n",
       "    </tr>\n",
       "    <tr>\n",
       "      <th>P</th>\n",
       "      <td>424</td>\n",
       "    </tr>\n",
       "    <tr>\n",
       "      <th>Z</th>\n",
       "      <td>4</td>\n",
       "    </tr>\n",
       "  </tbody>\n",
       "</table>\n",
       "</div>"
      ],
      "text/plain": [
       "       GRADE\n",
       "GRADE       \n",
       "A      44158\n",
       "B       8795\n",
       "C       1990\n",
       "P        424\n",
       "Z          4"
      ]
     },
     "execution_count": 34,
     "metadata": {},
     "output_type": "execute_result"
    }
   ],
   "source": [
    "subd = data[data.year == 2015]\n",
    "gd = pd.DataFrame(subd.groupby('GRADE')['GRADE'].count())\n",
    "gd"
   ]
  },
  {
   "cell_type": "code",
   "execution_count": 35,
   "metadata": {
    "collapsed": false
   },
   "outputs": [
    {
     "name": "stdout",
     "output_type": "stream",
     "text": [
      "2014\n",
      "A  :  22458\n",
      "B  :  4958\n",
      "C  :  1319\n",
      "2015\n",
      "A  :  44158\n",
      "B  :  8795\n",
      "C  :  1990\n"
     ]
    }
   ],
   "source": [
    "def Restaurant_Grades(yg,year):\n",
    "    subd = yg[yg.year == year]\n",
    "    gd = pd.DataFrame(subd.groupby('GRADE')['GRADE'].count())\n",
    "    print(year)\n",
    "    for i in range(3):\n",
    "        print(gd.index[i],\" : \",gd.GRADE[i])\n",
    "\n",
    "Restaurant_Grades(data,2014)\n",
    "Restaurant_Grades(data,2015)"
   ]
  },
  {
   "cell_type": "markdown",
   "metadata": {},
   "source": [
    "__Question 4.__ (2.5 points) Generate the following plots:\n",
    "1. NYC: bar plot comparing the grades, over time, for all the instances in the dataset.\n",
    "2. Brooklyn: bar plot comparing the grades of Brooklyn's restaurants over time.\n",
    "3. Manhattan: bar plot comparing the grades of Manhattan's restaurants over time.<br>\n",
    "\n",
    "Based on the plots, can you claim the quality of the restaurants are improving over years?"
   ]
  },
  {
   "cell_type": "code",
   "execution_count": 69,
   "metadata": {
    "collapsed": false
   },
   "outputs": [],
   "source": [
    "# Solution\n",
    "# import matplotlib.pyplot as plt\n",
    "subA = pd.DataFrame(data.loc[data.GRADE == \"A\"].groupby(\"year\")[\"GRADE\"].count())\n",
    "subB = pd.DataFrame(data.loc[data.GRADE == \"B\"].groupby(\"year\")[\"GRADE\"].count())\n",
    "subC = pd.DataFrame(data.loc[data.GRADE == \"C\"].groupby(\"year\")[\"GRADE\"].count())"
   ]
  },
  {
   "cell_type": "code",
   "execution_count": 70,
   "metadata": {
    "collapsed": false
   },
   "outputs": [],
   "source": [
    "subAB = pd.merge(subA, subB, right_index=True, left_index=True, how = \"outer\")"
   ]
  },
  {
   "cell_type": "code",
   "execution_count": 71,
   "metadata": {
    "collapsed": false
   },
   "outputs": [],
   "source": [
    "subABC = pd.merge(subAB, subC, right_index=True, left_index=True, how = \"outer\")"
   ]
  },
  {
   "cell_type": "code",
   "execution_count": 72,
   "metadata": {
    "collapsed": false
   },
   "outputs": [],
   "source": [
    "subABC.rename(columns={'GRADE_x': 'A', 'GRADE_y': 'B', 'GRADE':'C'}, inplace=True)"
   ]
  },
  {
   "cell_type": "code",
   "execution_count": 73,
   "metadata": {
    "collapsed": false
   },
   "outputs": [],
   "source": [
    "subABC = subABC.fillna(0)"
   ]
  },
  {
   "cell_type": "code",
   "execution_count": 74,
   "metadata": {
    "collapsed": false
   },
   "outputs": [
    {
     "data": {
      "text/html": [
       "<div>\n",
       "<table border=\"1\" class=\"dataframe\">\n",
       "  <thead>\n",
       "    <tr style=\"text-align: right;\">\n",
       "      <th></th>\n",
       "      <th>A</th>\n",
       "      <th>B</th>\n",
       "      <th>C</th>\n",
       "    </tr>\n",
       "    <tr>\n",
       "      <th>year</th>\n",
       "      <th></th>\n",
       "      <th></th>\n",
       "      <th></th>\n",
       "    </tr>\n",
       "  </thead>\n",
       "  <tbody>\n",
       "    <tr>\n",
       "      <th>2012.0</th>\n",
       "      <td>3</td>\n",
       "      <td>0.0</td>\n",
       "      <td>0.0</td>\n",
       "    </tr>\n",
       "    <tr>\n",
       "      <th>2013.0</th>\n",
       "      <td>1110</td>\n",
       "      <td>241.0</td>\n",
       "      <td>51.0</td>\n",
       "    </tr>\n",
       "    <tr>\n",
       "      <th>2014.0</th>\n",
       "      <td>22458</td>\n",
       "      <td>4958.0</td>\n",
       "      <td>1319.0</td>\n",
       "    </tr>\n",
       "    <tr>\n",
       "      <th>2015.0</th>\n",
       "      <td>44158</td>\n",
       "      <td>8795.0</td>\n",
       "      <td>1990.0</td>\n",
       "    </tr>\n",
       "    <tr>\n",
       "      <th>2016.0</th>\n",
       "      <td>46586</td>\n",
       "      <td>7991.0</td>\n",
       "      <td>2065.0</td>\n",
       "    </tr>\n",
       "    <tr>\n",
       "      <th>2017.0</th>\n",
       "      <td>40404</td>\n",
       "      <td>5494.0</td>\n",
       "      <td>1499.0</td>\n",
       "    </tr>\n",
       "  </tbody>\n",
       "</table>\n",
       "</div>"
      ],
      "text/plain": [
       "            A       B       C\n",
       "year                         \n",
       "2012.0      3     0.0     0.0\n",
       "2013.0   1110   241.0    51.0\n",
       "2014.0  22458  4958.0  1319.0\n",
       "2015.0  44158  8795.0  1990.0\n",
       "2016.0  46586  7991.0  2065.0\n",
       "2017.0  40404  5494.0  1499.0"
      ]
     },
     "execution_count": 74,
     "metadata": {},
     "output_type": "execute_result"
    }
   ],
   "source": [
    "subABC"
   ]
  },
  {
   "cell_type": "code",
   "execution_count": 81,
   "metadata": {
    "collapsed": false
   },
   "outputs": [
    {
     "data": {
      "image/png": "[encoded data removed]",
      "text/plain": [
       "<matplotlib.figure.Figure at 0x116924be0>"
      ]
     },
     "metadata": {},
     "output_type": "display_data"
    }
   ],
   "source": [
    "n_groups = 6\n",
    "# means_frank = (90, 55, 40, 65)\n",
    "# means_guido = (85, 62, 54, 20)\n",
    " \n",
    "# create plot\n",
    "fig, ax = plt.subplots()\n",
    "index = np.arange(n_groups)\n",
    "bar_width = 0.15\n",
    "opacity = 0.8\n",
    " \n",
    "rects1 = plt.bar(index, subABC.A, bar_width,\n",
    "                 alpha=opacity,\n",
    "                 color='b',\n",
    "                 label='A')\n",
    " \n",
    "rects2 = plt.bar(index + bar_width, subABC.B, bar_width,\n",
    "                 alpha=opacity,\n",
    "                 color='g',\n",
    "                 label='B')\n",
    "rects3 = plt.bar(index + bar_width * 2, subABC.C, bar_width,\n",
    "                 alpha=opacity,\n",
    "                 color='r',\n",
    "                 label='C')\n",
    " \n",
    "plt.xlabel('year')\n",
    "plt.ylabel('counts')\n",
    "plt.title('grades by year')\n",
    "plt.xticks((index + bar_width), (2012,2013,2014,2015,2016,2017))\n",
    "plt.legend()\n",
    " \n",
    "plt.tight_layout()\n",
    "plt.show()"
   ]
  },
  {
   "cell_type": "code",
   "execution_count": 91,
   "metadata": {
    "collapsed": false
   },
   "outputs": [
    {
     "data": {
      "image/png": "[encoded data removed]",
      "text/plain": [
       "<matplotlib.figure.Figure at 0x113f0e1d0>"
      ]
     },
     "metadata": {},
     "output_type": "display_data"
    }
   ],
   "source": [
    "bkdata = data.loc[data.BORO == \"BROOKLYN\"]\n",
    "subA = pd.DataFrame(bkdata.loc[bkdata.GRADE == \"A\"].groupby(\"year\")[\"GRADE\"].count())\n",
    "subB = pd.DataFrame(bkdata.loc[bkdata.GRADE == \"B\"].groupby(\"year\")[\"GRADE\"].count())\n",
    "subC = pd.DataFrame(bkdata.loc[bkdata.GRADE == \"C\"].groupby(\"year\")[\"GRADE\"].count())\n",
    "subAB = pd.merge(subA, subB, right_index=True, left_index=True, how = \"outer\")\n",
    "subABC = pd.merge(subAB, subC, right_index=True, left_index=True, how = \"outer\")\n",
    "subABC.rename(columns={'GRADE_x': 'A', 'GRADE_y': 'B', 'GRADE':'C'}, inplace=True)\n",
    "subABC = subABC.fillna(0)\n",
    "n_groups = 5\n",
    "\n",
    "# create plot\n",
    "fig2, ax2 = plt.subplots()\n",
    "index = np.arange(n_groups)\n",
    "bar_width = 0.15\n",
    "opacity = 0.8\n",
    " \n",
    "rects1 = plt.bar(index, subABC.A, bar_width,\n",
    "                 alpha=opacity,\n",
    "                 color='b',\n",
    "                 label='A')\n",
    " \n",
    "rects2 = plt.bar(index + bar_width, subABC.B, bar_width,\n",
    "                 alpha=opacity,\n",
    "                 color='g',\n",
    "                 label='B')\n",
    "rects3 = plt.bar(index + bar_width * 2, subABC.C, bar_width,\n",
    "                 alpha=opacity,\n",
    "                 color='r',\n",
    "                 label='C')\n",
    " \n",
    "plt.xlabel('year')\n",
    "plt.ylabel('counts')\n",
    "plt.title('BROOKLYN grades by year')\n",
    "plt.xticks((index + bar_width), (2013,2014,2015,2016,2017))\n",
    "plt.legend()\n",
    " \n",
    "plt.tight_layout()\n",
    "plt.show()"
   ]
  },
  {
   "cell_type": "code",
   "execution_count": 90,
   "metadata": {
    "collapsed": false
   },
   "outputs": [
    {
     "data": {
      "image/png": "[encoded data removed]",
      "text/plain": [
       "<matplotlib.figure.Figure at 0x11e10d5c0>"
      ]
     },
     "metadata": {},
     "output_type": "display_data"
    }
   ],
   "source": [
    "mhdata = data.loc[data.BORO == \"MANHATTAN\"]\n",
    "subA = pd.DataFrame(mhdata.loc[mhdata.GRADE == \"A\"].groupby(\"year\")[\"GRADE\"].count())\n",
    "subB = pd.DataFrame(mhdata.loc[mhdata.GRADE == \"B\"].groupby(\"year\")[\"GRADE\"].count())\n",
    "subC = pd.DataFrame(mhdata.loc[mhdata.GRADE == \"C\"].groupby(\"year\")[\"GRADE\"].count())\n",
    "subAB = pd.merge(subA, subB, right_index=True, left_index=True, how = \"outer\")\n",
    "subABC = pd.merge(subAB, subC, right_index=True, left_index=True, how = \"outer\")\n",
    "subABC.rename(columns={'GRADE_x': 'A', 'GRADE_y': 'B', 'GRADE':'C'}, inplace=True)\n",
    "subABC = subABC.fillna(0)\n",
    "n_groups = 5\n",
    "\n",
    "# create plot\n",
    "fig3, ax3 = plt.subplots()\n",
    "index = np.arange(n_groups)\n",
    "bar_width = 0.15\n",
    "opacity = 0.8\n",
    " \n",
    "rects1 = plt.bar(index, subABC.A, bar_width,\n",
    "                 alpha=opacity,\n",
    "                 color='b',\n",
    "                 label='A')\n",
    " \n",
    "rects2 = plt.bar(index + bar_width, subABC.B, bar_width,\n",
    "                 alpha=opacity,\n",
    "                 color='g',\n",
    "                 label='B')\n",
    "rects3 = plt.bar(index + bar_width * 2, subABC.C, bar_width,\n",
    "                 alpha=opacity,\n",
    "                 color='r',\n",
    "                 label='C')\n",
    " \n",
    "plt.xlabel('year')\n",
    "plt.ylabel('counts')\n",
    "plt.title('MANHATTAN grades by year')\n",
    "plt.xticks((index + bar_width), (2013,2014,2015,2016,2017))\n",
    "plt.legend()\n",
    " \n",
    "plt.tight_layout()\n",
    "plt.show()"
   ]
  },
  {
   "cell_type": "code",
   "execution_count": null,
   "metadata": {
    "collapsed": true
   },
   "outputs": [],
   "source": []
  }
 ],
 "metadata": {
  "kernelspec": {
   "display_name": "Python 3",
   "language": "python",
   "name": "python3"
  },
  "language_info": {
   "codemirror_mode": {
    "name": "ipython",
    "version": 3
   },
   "file_extension": ".py",
   "mimetype": "text/x-python",
   "name": "python",
   "nbconvert_exporter": "python",
   "pygments_lexer": "ipython3",
   "version": "3.6.0"
  }
 },
 "nbformat": 4,
 "nbformat_minor": 2
}
