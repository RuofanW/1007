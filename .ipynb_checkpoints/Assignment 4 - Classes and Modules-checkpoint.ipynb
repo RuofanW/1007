{
 "cells": [
  {
   "cell_type": "markdown",
   "metadata": {},
   "source": [
    "## Assigment 4: Playing with Classes and Modules\n",
    "\n",
    "__Question 1.__ (2.0 point) Consider de Class ``student'' as stated below:"
   ]
  },
  {
   "cell_type": "code",
   "execution_count": 8,
   "metadata": {
    "collapsed": false
   },
   "outputs": [],
   "source": [
    "class student():\n",
    "    def __init__(self,s=None):\n",
    "        if (s != None):\n",
    "           self.name = s[0]\n",
    "           self.age = s[1]\n",
    "           self.level = s[2]\n",
    "        else:\n",
    "           self.name = ''\n",
    "           self.age = -1\n",
    "           self.level = -1\n",
    "    def add_name(self, s):\n",
    "        self.name = s\n",
    "    def add_age(self, a):\n",
    "        self.age = a\n",
    "    def add_level(self, l):\n",
    "        self.level = l\n",
    "    def __repr__(self):\n",
    "        return 'Name: %s \\nAge: %d \\nLevel: %d'%(self.name,self.age, self.level)"
   ]
  },
  {
   "cell_type": "markdown",
   "metadata": {},
   "source": [
    "Complete the class <font color='blue'>student</font> by implementing methods so as to make the code: "
   ]
  },
  {
   "cell_type": "markdown",
   "metadata": {},
   "source": [
    "```python\n",
    "x = student()\n",
    "x.add_name('Gustavo')\n",
    "x.add_age(48)\n",
    "x.add_level(1)\n",
    "print(x)\n",
    "```"
   ]
  },
  {
   "cell_type": "code",
   "execution_count": 9,
   "metadata": {
    "collapsed": false
   },
   "outputs": [
    {
     "name": "stdout",
     "output_type": "stream",
     "text": [
      "Name: G \n",
      "Age: 48 \n",
      "Level: 1\n"
     ]
    }
   ],
   "source": [
    "x = student()\n",
    "x.add_name('G')\n",
    "x.add_age(48)\n",
    "x.add_level(1)\n",
    "print(x)"
   ]
  },
  {
   "cell_type": "markdown",
   "metadata": {},
   "source": [
    "output the following result:\n",
    "\n",
    "Name: Gustavo <br>\n",
    "Age: 48 <br>\n",
    "Level: 1"
   ]
  },
  {
   "cell_type": "markdown",
   "metadata": {
    "collapsed": true
   },
   "source": [
    "***\n",
    "***\n",
    "__Question 2.__ (2.0 point) Suppose we want to create a subclass called <font color='blue'>studentCDS</font> from the class <font color='blue'>student</font> .<br>\n",
    "This subclass should contain two new attributes called <font color='blue'>programming_skill</font>, which has as possible values LOW, MEDIAN, or HIGH, and <font color='blue'>math_background</font>, which may assume values YES or NO.<br>\n",
    "\n",
    "Write the subclass <font color='blue'>studentCDS</font> inheriting the attributes from class <font color='blue'>student</font>. Extend the constructor to handle the new attributes <font color='blue'>programming_skill</font> and <font color='blue'>math_background</font>, overwriting the print function to include the content of the new attributes in the output. <br><br>\n",
    "The code \n",
    "```python\n",
    "x_cds = studentCDS(['Gustavo',48,1,'HIGH','YES'])\n",
    "print(x_cds)\n",
    "```\n",
    "should result in:\n",
    "\n",
    "Name: Gustavo <br>\n",
    "Age: 48 <br>\n",
    "Level: 1<br>\n",
    "Programming Skill: HIGH<br>\n",
    "Math Backgroud: YES"
   ]
  },
  {
   "cell_type": "code",
   "execution_count": 10,
   "metadata": {
    "collapsed": true
   },
   "outputs": [],
   "source": [
    "class studentCDS(student):\n",
    "    def __init__(self,s):\n",
    "        student.__init__(self, s)\n",
    "        self.programming_skill = s[3]\n",
    "        self.math_background = s[4]\n",
    "    def __repr__(self):\n",
    "        return 'Name: %s \\nAge: %d \\nLevel: %d \\nProgramming Skill: %s \\nMath Backgroud: %s'%(self.name,self.age, self.level, self.programming_skill, self.math_background)"
   ]
  },
  {
   "cell_type": "code",
   "execution_count": 11,
   "metadata": {
    "collapsed": false
   },
   "outputs": [],
   "source": [
    "x_cds = studentCDS(['Gustavo',48,1,'HIGH','YES'])"
   ]
  },
  {
   "cell_type": "code",
   "execution_count": 12,
   "metadata": {
    "collapsed": false
   },
   "outputs": [
    {
     "name": "stdout",
     "output_type": "stream",
     "text": [
      "Name: Gustavo \n",
      "Age: 48 \n",
      "Level: 1 \n",
      "Programming Skill: HIGH \n",
      "Math Backgroud: YES\n"
     ]
    }
   ],
   "source": [
    "print(x_cds)"
   ]
  },
  {
   "cell_type": "markdown",
   "metadata": {},
   "source": [
    "***\n",
    "***\n",
    "__Question 3.__ (2.0 points) The code below plays with the scope of the variables __X__. Explain how the statements <font color='blue'>nonlocal</font> and <font color='blue'>global</font> affects __X__. More precisely, how many distinct variables __X__ does the code have? Why is the value of __X__ different in the print '3' and '6' while it remains the same in '2' and '7'? Why are the values different in the print '1' and '8'?"
   ]
  },
  {
   "cell_type": "markdown",
   "metadata": {},
   "source": [
    "The nonlocal statement causes the listed identifiers to refer to previously bound variables in the nearest enclosing scope excluding globals.$$ $$\n",
    "The global statement is a declaration which holds for the entire current code block. It means that the listed identifiers are to be interpreted as globals.$$ $$\n",
    "In this case, there are 3 distinct values of X. The first one is the global one, which is initialized as 0, then changed to 4. The second one is initialized in outerf as 1. The third one is initialized in innerf1 as 2, then changed to 3 $$ $$\n",
    "The value of X is different in the print '3' and '6' because the value is changed in the innerf2 function, in which X is stated nonlocal.$$ $$\n",
    "It remains the same in '2' and '7' because in the outerf function, the value of X = 1 is not changed.\n",
    "The values are different in the print '1' and '8' because in innerf3, X is stated global, and then its valued is changed to 4.$$ $$\n",
    "\n"
   ]
  },
  {
   "cell_type": "code",
   "execution_count": 13,
   "metadata": {
    "collapsed": false
   },
   "outputs": [
    {
     "name": "stdout",
     "output_type": "stream",
     "text": [
      "1. 0\n",
      "2. 1\n",
      "3. 2\n",
      "4. 3\n",
      "5. 4\n",
      "6. 3\n",
      "7. 1\n",
      "8. 4\n"
     ]
    }
   ],
   "source": [
    "X = 0 \n",
    "\n",
    "def outerf():\n",
    "    X = 1  \n",
    "    def innerf1():\n",
    "        X = 2\n",
    "        def innerf2():\n",
    "            nonlocal X \n",
    "            X = 3\n",
    "            print('4.',X)\n",
    "        \n",
    "        def innerf3():\n",
    "            global X\n",
    "            X = 4\n",
    "            print('5.',X)\n",
    "            \n",
    "        print('3.',X)\n",
    "        innerf2()\n",
    "        innerf3()\n",
    "        print('6.',X)\n",
    "        \n",
    "    print('2.',X)\n",
    "    innerf1()\n",
    "    print('7.',X)\n",
    "    \n",
    "print('1.',X)\n",
    "outerf()\n",
    "print('8.',X)\n",
    "    "
   ]
  },
  {
   "cell_type": "markdown",
   "metadata": {},
   "source": [
    "***\n",
    "***\n",
    "__Question 4.__ (2.0 points) Consider the code below:"
   ]
  },
  {
   "cell_type": "code",
   "execution_count": 17,
   "metadata": {
    "collapsed": true
   },
   "outputs": [],
   "source": [
    "class student2():\n",
    "    def __init__(self,s=None):\n",
    "        if (s != None):\n",
    "            try:\n",
    "                self.name = str(s[0])\n",
    "                self.age = int(s[1])\n",
    "                self.level = int(s[2])\n",
    "            except ValueError:\n",
    "                print('Invalid value for student info.')\n",
    "            else:\n",
    "                print('Info properly assigned to the student!!')\n",
    "                print('Name: '+self.name+'\\n'+'Age: '+str(self.age)+'\\n'+'Level: '+str(self.level))\n",
    "        else:\n",
    "            self.name = ''\n",
    "            self.age = -1\n",
    "            self.level = -1\n",
    "            "
   ]
  },
  {
   "cell_type": "markdown",
   "metadata": {},
   "source": [
    "Which of the statements will raise an exception? Pinpoint what is triggering the exception and what is not.  \n",
    "\n",
    "Ans: a and d will raise an exception, whose reasons are listed below."
   ]
  },
  {
   "cell_type": "markdown",
   "metadata": {},
   "source": [
    "```python\n",
    "a) x = student2(['gustavo','4f:',1]) # ValueError: because '4f:' cannot be converted to an int.\n",
    "b) x = student2(['gustavo','48',1])  # No exception\n",
    "c) x = student2([5,48,1])            # No exception\n",
    "d) x = student2(['gustavo',48,'h'])  # ValueError: because 'h' cannot be converted to an int.\n",
    "```"
   ]
  },
  {
   "cell_type": "markdown",
   "metadata": {},
   "source": [
    "***\n",
    "***\n",
    "__Question 5.__ (2.0 points) Consider the file called <font color='red'>moduleij.py</font> (you will need to create this file to make the code below work properly), whose content is:\n",
    "\n",
    "```python\n",
    "# moduleij.py\n",
    "\n",
    "i = 1\n",
    "j = 2\n",
    "\n",
    "def print_ij():\n",
    "    print(i,j)\n",
    "```\n",
    "\n",
    "Run the code_1 and code-2 and explain why the outputs are different. \n",
    "\n",
    "Can you explain what is happening with the variable i?\n",
    "\n",
    "<font color=Olive> \n",
    "In code_1, the output is [1 2; 1 2], because in the first print function, it uses i, j from moduleij, which is 1 and 2 respectively. In the second function, it uses the print_ij function from the moduleij, which prints 1 and 2.\n",
    "In code_2, the output is [-2 2; -2 2], because in the first print function, it will use local variables first, i is -2. But for j there is not a local j, so it will use the j from module, which is 2. Then the moduleij.i is changed to -2, the print_ij function will print -2 and 2.\n",
    "</font>\n",
    "\n",
    "What happen when you run the code_1 and code-2 again? Explain what you are observing and why that is happening.\n",
    "\n",
    "<font color=Olive> Both codes will output[-2 2; -2 2]. Because both the local i and the i from moduleij are -2.</font>"
   ]
  },
  {
   "cell_type": "code",
   "execution_count": 22,
   "metadata": {
    "collapsed": false
   },
   "outputs": [
    {
     "name": "stdout",
     "output_type": "stream",
     "text": [
      "-2 2\n",
      "-2 2\n"
     ]
    }
   ],
   "source": [
    "# code 1\n",
    "\n",
    "from moduleij import print_ij, i, j\n",
    "\n",
    "print(i,j)\n",
    "\n",
    "i = -2\n",
    "\n",
    "print_ij()"
   ]
  },
  {
   "cell_type": "code",
   "execution_count": null,
   "metadata": {
    "collapsed": true
   },
   "outputs": [],
   "source": [
    "# code 2\n",
    "\n",
    "import moduleij as mdij\n",
    "\n",
    "print(i,j)\n",
    "\n",
    "mdij.i = -2\n",
    "\n",
    "mdij.print_ij()"
   ]
  }
 ],
 "metadata": {
  "kernelspec": {
   "display_name": "Python 3",
   "language": "python",
   "name": "python3"
  },
  "language_info": {
   "codemirror_mode": {
    "name": "ipython",
    "version": 3
   },
   "file_extension": ".py",
   "mimetype": "text/x-python",
   "name": "python",
   "nbconvert_exporter": "python",
   "pygments_lexer": "ipython3",
   "version": "3.6.0"
  }
 },
 "nbformat": 4,
 "nbformat_minor": 2
}
