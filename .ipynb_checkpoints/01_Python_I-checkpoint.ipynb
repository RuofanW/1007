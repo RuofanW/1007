{
 "cells": [
  {
   "cell_type": "markdown",
   "metadata": {
    "nbgrader": {
     "grade": false,
     "locked": false,
     "solution": false
    },
    "slideshow": {
     "slide_type": "-"
    }
   },
   "source": [
    "# Assignment 1"
   ]
  },
  {
   "cell_type": "code",
   "execution_count": 19,
   "metadata": {
    "collapsed": true
   },
   "outputs": [],
   "source": [
    "import numpy as np"
   ]
  },
  {
   "cell_type": "markdown",
   "metadata": {},
   "source": [
    "## 1. (1.0 point) Function return value\n",
    "\n",
    "This exercise is to show you how function return values work. Run the code below to see what happens."
   ]
  },
  {
   "cell_type": "code",
   "execution_count": 2,
   "metadata": {
    "collapsed": false,
    "nbgrader": {
     "grade": false,
     "grade_id": "Q1A",
     "locked": true,
     "solution": false
    }
   },
   "outputs": [
    {
     "name": "stdout",
     "output_type": "stream",
     "text": [
      "5\n"
     ]
    },
    {
     "data": {
      "text/plain": [
       "5"
      ]
     },
     "execution_count": 2,
     "metadata": {},
     "output_type": "execute_result"
    }
   ],
   "source": [
    "def f1(x):\n",
    "    print(x + 1)\n",
    "\n",
    "def f2(x):\n",
    "    return(x + 1)\n",
    "\n",
    "f1(4)\n",
    "f2(4)"
   ]
  },
  {
   "cell_type": "markdown",
   "metadata": {},
   "source": [
    "Each function should produce the same output. Now run the following code."
   ]
  },
  {
   "cell_type": "code",
   "execution_count": 4,
   "metadata": {
    "collapsed": false
   },
   "outputs": [
    {
     "name": "stdout",
     "output_type": "stream",
     "text": [
      "5\n"
     ]
    },
    {
     "ename": "TypeError",
     "evalue": "unsupported operand type(s) for +: 'NoneType' and 'int'",
     "output_type": "error",
     "traceback": [
      "\u001b[0;31m---------------------------------------------------------------------------\u001b[0m",
      "\u001b[0;31mTypeError\u001b[0m                                 Traceback (most recent call last)",
      "\u001b[0;32m<ipython-input-4-02362f8b3abb>\u001b[0m in \u001b[0;36m<module>\u001b[0;34m()\u001b[0m\n\u001b[0;32m----> 1\u001b[0;31m \u001b[0mf1\u001b[0m\u001b[0;34m(\u001b[0m\u001b[0;36m4\u001b[0m\u001b[0;34m)\u001b[0m \u001b[0;34m+\u001b[0m \u001b[0;36m1\u001b[0m\u001b[0;34m\u001b[0m\u001b[0m\n\u001b[0m\u001b[1;32m      2\u001b[0m \u001b[0mf2\u001b[0m\u001b[0;34m(\u001b[0m\u001b[0;36m4\u001b[0m\u001b[0;34m)\u001b[0m \u001b[0;34m+\u001b[0m \u001b[0;36m1\u001b[0m\u001b[0;34m\u001b[0m\u001b[0m\n",
      "\u001b[0;31mTypeError\u001b[0m: unsupported operand type(s) for +: 'NoneType' and 'int'"
     ]
    }
   ],
   "source": [
    "f1(4) + 1\n",
    "f2(4) + 1"
   ]
  },
  {
   "cell_type": "markdown",
   "metadata": {},
   "source": [
    "Explain what is happening and why you get this result.\n",
    "\n",
    "Ans: The type of f1(4) is None, so there will be an error when adding it with an integer.\n",
    "     But the type of f2(4) is int, so there will be no error."
   ]
  },
  {
   "cell_type": "markdown",
   "metadata": {},
   "source": [
    "## 2. (1.0 point) Function operation"
   ]
  },
  {
   "cell_type": "markdown",
   "metadata": {},
   "source": [
    "Consider the following piece of code:\n",
    "\n",
    "```python\n",
    "def f(x):\n",
    "    if x == 0 or x == 1:\n",
    "        return x\n",
    "    return f(x - 1) + f(x - 2)\n",
    "```"
   ]
  },
  {
   "cell_type": "markdown",
   "metadata": {},
   "source": [
    "Describe, in words, what this code does, and how it does it.\n",
    "\n",
    "Ans:\n",
    "$$f(0) = 0$$\n",
    "$$f(1) = 1$$     \n",
    "\\begin{align}f(n) = f(n - 1) + f(n - 2),\\ for\\ all\\ integers\\ larger\\ than\\ 1\\end{align}"
   ]
  },
  {
   "cell_type": "markdown",
   "metadata": {},
   "source": [
    "For what inputs will this function not behave as expected? What will happen?"
   ]
  },
  {
   "cell_type": "code",
   "execution_count": 6,
   "metadata": {
    "collapsed": false
   },
   "outputs": [
    {
     "ename": "RecursionError",
     "evalue": "maximum recursion depth exceeded in comparison",
     "output_type": "error",
     "traceback": [
      "\u001b[0;31m---------------------------------------------------------------------------\u001b[0m",
      "\u001b[0;31mRecursionError\u001b[0m                            Traceback (most recent call last)",
      "\u001b[0;32m<ipython-input-6-89ca98867d3f>\u001b[0m in \u001b[0;36m<module>\u001b[0;34m()\u001b[0m\n\u001b[1;32m      3\u001b[0m         \u001b[0;32mreturn\u001b[0m \u001b[0mx\u001b[0m\u001b[0;34m\u001b[0m\u001b[0m\n\u001b[1;32m      4\u001b[0m     \u001b[0;32mreturn\u001b[0m \u001b[0mf\u001b[0m\u001b[0;34m(\u001b[0m\u001b[0mx\u001b[0m \u001b[0;34m-\u001b[0m \u001b[0;36m1\u001b[0m\u001b[0;34m)\u001b[0m \u001b[0;34m+\u001b[0m \u001b[0mf\u001b[0m\u001b[0;34m(\u001b[0m\u001b[0mx\u001b[0m \u001b[0;34m-\u001b[0m \u001b[0;36m2\u001b[0m\u001b[0;34m)\u001b[0m\u001b[0;34m\u001b[0m\u001b[0m\n\u001b[0;32m----> 5\u001b[0;31m \u001b[0mf\u001b[0m\u001b[0;34m(\u001b[0m\u001b[0;36m1.4\u001b[0m\u001b[0;34m)\u001b[0m\u001b[0;34m\u001b[0m\u001b[0m\n\u001b[0m",
      "\u001b[0;32m<ipython-input-6-89ca98867d3f>\u001b[0m in \u001b[0;36mf\u001b[0;34m(x)\u001b[0m\n\u001b[1;32m      2\u001b[0m     \u001b[0;32mif\u001b[0m \u001b[0mx\u001b[0m \u001b[0;34m==\u001b[0m \u001b[0;36m0\u001b[0m \u001b[0;32mor\u001b[0m \u001b[0mx\u001b[0m \u001b[0;34m==\u001b[0m \u001b[0;36m1\u001b[0m\u001b[0;34m:\u001b[0m\u001b[0;34m\u001b[0m\u001b[0m\n\u001b[1;32m      3\u001b[0m         \u001b[0;32mreturn\u001b[0m \u001b[0mx\u001b[0m\u001b[0;34m\u001b[0m\u001b[0m\n\u001b[0;32m----> 4\u001b[0;31m     \u001b[0;32mreturn\u001b[0m \u001b[0mf\u001b[0m\u001b[0;34m(\u001b[0m\u001b[0mx\u001b[0m \u001b[0;34m-\u001b[0m \u001b[0;36m1\u001b[0m\u001b[0;34m)\u001b[0m \u001b[0;34m+\u001b[0m \u001b[0mf\u001b[0m\u001b[0;34m(\u001b[0m\u001b[0mx\u001b[0m \u001b[0;34m-\u001b[0m \u001b[0;36m2\u001b[0m\u001b[0;34m)\u001b[0m\u001b[0;34m\u001b[0m\u001b[0m\n\u001b[0m\u001b[1;32m      5\u001b[0m \u001b[0mf\u001b[0m\u001b[0;34m(\u001b[0m\u001b[0;36m1.4\u001b[0m\u001b[0;34m)\u001b[0m\u001b[0;34m\u001b[0m\u001b[0m\n",
      "... last 1 frames repeated, from the frame below ...\n",
      "\u001b[0;32m<ipython-input-6-89ca98867d3f>\u001b[0m in \u001b[0;36mf\u001b[0;34m(x)\u001b[0m\n\u001b[1;32m      2\u001b[0m     \u001b[0;32mif\u001b[0m \u001b[0mx\u001b[0m \u001b[0;34m==\u001b[0m \u001b[0;36m0\u001b[0m \u001b[0;32mor\u001b[0m \u001b[0mx\u001b[0m \u001b[0;34m==\u001b[0m \u001b[0;36m1\u001b[0m\u001b[0;34m:\u001b[0m\u001b[0;34m\u001b[0m\u001b[0m\n\u001b[1;32m      3\u001b[0m         \u001b[0;32mreturn\u001b[0m \u001b[0mx\u001b[0m\u001b[0;34m\u001b[0m\u001b[0m\n\u001b[0;32m----> 4\u001b[0;31m     \u001b[0;32mreturn\u001b[0m \u001b[0mf\u001b[0m\u001b[0;34m(\u001b[0m\u001b[0mx\u001b[0m \u001b[0;34m-\u001b[0m \u001b[0;36m1\u001b[0m\u001b[0;34m)\u001b[0m \u001b[0;34m+\u001b[0m \u001b[0mf\u001b[0m\u001b[0;34m(\u001b[0m\u001b[0mx\u001b[0m \u001b[0;34m-\u001b[0m \u001b[0;36m2\u001b[0m\u001b[0;34m)\u001b[0m\u001b[0;34m\u001b[0m\u001b[0m\n\u001b[0m\u001b[1;32m      5\u001b[0m \u001b[0mf\u001b[0m\u001b[0;34m(\u001b[0m\u001b[0;36m1.4\u001b[0m\u001b[0;34m)\u001b[0m\u001b[0;34m\u001b[0m\u001b[0m\n",
      "\u001b[0;31mRecursionError\u001b[0m: maximum recursion depth exceeded in comparison"
     ]
    }
   ],
   "source": [
    "def f(x):\n",
    "    if x == 0 or x == 1:\n",
    "        return x\n",
    "    return f(x - 1) + f(x - 2)\n",
    "f(-1) # type 1 error: negative input\n",
    "f(3.4) # type 2 error: the input is not an int"
   ]
  },
  {
   "cell_type": "markdown",
   "metadata": {
    "slideshow": {
     "slide_type": "-"
    }
   },
   "source": [
    "## 3. (1.0 point) Defining a function\n",
    "\n",
    "The following program plays the game of \"Rock, Paper, and Scissors\". Familiarize yourself with how it works. Try running the program."
   ]
  },
  {
   "cell_type": "code",
   "execution_count": 62,
   "metadata": {
    "collapsed": false,
    "nbgrader": {
     "grade": false,
     "grade_id": "Q3A",
     "locked": true,
     "solution": false
    },
    "slideshow": {
     "slide_type": "-"
    }
   },
   "outputs": [
    {
     "name": "stdout",
     "output_type": "stream",
     "text": [
      "You are playing a Rock, Paper, Scissors simulation.\n",
      "Select R for rock, P for Paper, S for scissors, Q to quit\n",
      "> r\n",
      "Computer chooses S\n",
      "You win!\n",
      "Select R for rock, P for Paper, S for scissors, Q to quit\n",
      "> d\n",
      "Error: invalid input -- D\n"
     ]
    }
   ],
   "source": [
    "from random import randint\n",
    "valid_input = [\"R\", \"P\", \"S\"]\n",
    "winners = [[\"R\", \"S\"], [\"S\", \"P\"], [\"P\", \"R\"]]\n",
    "\n",
    "print(\"You are playing a Rock, Paper, Scissors simulation.\")\n",
    "user_choice = input(\"Select R for rock, P for Paper, S for scissors, Q to quit\\n> \")\n",
    "user_choice = user_choice.upper()\n",
    "\n",
    "while user_choice != 'Q':\n",
    "    if user_choice not in valid_input:\n",
    "        print(\"Error: invalid input -- \" + user_choice)\n",
    "        break\n",
    "    \n",
    "    computer_choice = valid_input[randint(0, len(valid_input)-1)]\n",
    "    print(\"Computer chooses \" + computer_choice)\n",
    "\n",
    "    if user_choice == computer_choice:\n",
    "        print(\"Tie Game\")\n",
    "    elif [user_choice, computer_choice] in winners:\n",
    "        print(\"You win!\")\n",
    "    else:\n",
    "        print(\"Computer wins!\")\n",
    "    \n",
    "    user_choice = input(\"Select R for rock, P for Paper, S for scissors, Q to quit\\n> \")\n",
    "    user_choice = user_choice.upper()"
   ]
  },
  {
   "cell_type": "markdown",
   "metadata": {
    "slideshow": {
     "slide_type": "-"
    }
   },
   "source": [
    "Recall how we define a function using `def`, and how we pass in parameters. Transform the code into a function called `rps` that takes two parameters: `user_choice` and `computer_choice`, with valid inputs `'R'`, `'P'`, and `'S'`. Your function should return `'D'` for a draw, `'W'` if `user_choice` wins, and `'L'` if `user_choice` loses."
   ]
  },
  {
   "cell_type": "code",
   "execution_count": 10,
   "metadata": {
    "collapsed": false
   },
   "outputs": [],
   "source": [
    "### BEGIN SOLUTION\n",
    "valid_input = [\"R\", \"P\", \"S\"]\n",
    "winners = [[\"R\", \"S\"], [\"S\", \"P\"], [\"P\", \"R\"]]\n",
    "def rps(user_choice, computer_choice):\n",
    "    if user_choice not in valid_input:\n",
    "        print(\"Error: invalid input -- \" + user_choice)\n",
    "        return\n",
    "    if computer_choice not in valid_input:\n",
    "        print(\"Error: invalid input -- \" + computer_choice)\n",
    "        return\n",
    "    if user_choice == computer_choice:\n",
    "        return 'D'\n",
    "    elif [user_choice, computer_choice] in winners:\n",
    "        return 'W'\n",
    "    else:\n",
    "        return 'L'\n",
    "### END SOLUTION"
   ]
  },
  {
   "cell_type": "code",
   "execution_count": 11,
   "metadata": {
    "collapsed": false,
    "nbgrader": {
     "grade": true,
     "grade_id": "Q3C",
     "locked": true,
     "points": 1,
     "solution": false
    }
   },
   "outputs": [],
   "source": [
    "from nose.tools import assert_equal\n",
    "assert_equal(rps('R', 'R'), 'D')\n",
    "assert_equal(rps('R', 'P'), 'L')\n",
    "assert_equal(rps('R', 'S'), 'W')\n",
    "assert_equal(rps('P', 'R'), 'W')\n",
    "assert_equal(rps('P', 'P'), 'D')\n",
    "assert_equal(rps('P', 'S'), 'L')\n",
    "assert_equal(rps('S', 'R'), 'L')\n",
    "assert_equal(rps('S', 'P'), 'W')\n",
    "assert_equal(rps('S', 'S'), 'D')"
   ]
  },
  {
   "cell_type": "markdown",
   "metadata": {},
   "source": [
    "## 4. (1.0 point) List function"
   ]
  },
  {
   "cell_type": "markdown",
   "metadata": {},
   "source": [
    "Given a list of non-empty tuples, return a list sorted in increasing order by the last element in each tuple. \n",
    "\n",
    "For example: `[(1, 7), (1, 3), (3, 4, 5), (2, 2)]` yields `[(2, 2), (1, 3), (3, 4, 5), (1, 7)]`"
   ]
  },
  {
   "cell_type": "code",
   "execution_count": 24,
   "metadata": {
    "collapsed": true,
    "nbgrader": {
     "grade": false,
     "grade_id": "Q4A",
     "locked": false,
     "solution": true
    }
   },
   "outputs": [],
   "source": [
    "def sort_tuple_list(tuple_list):\n",
    "    '''Function to sort a list of non-empty tuples in increasing order by the last element in each tuple'''\n",
    "    ### BEGIN SOLUTION\n",
    "    lastele = list()\n",
    "    result = list()\n",
    "    for i in range(len(tuple_list)):\n",
    "        lastele.append(tuple_list[i][-1])\n",
    "    index = np.argsort(lastele)\n",
    "    for i in range(len(tuple_list)):\n",
    "        result.append(tuple_list[index[i]])\n",
    "    return result\n",
    "    ### END SOLUTION"
   ]
  },
  {
   "cell_type": "code",
   "execution_count": 25,
   "metadata": {
    "collapsed": false
   },
   "outputs": [
    {
     "data": {
      "text/plain": [
       "array([3, 0, 1, 2])"
      ]
     },
     "execution_count": 25,
     "metadata": {},
     "output_type": "execute_result"
    }
   ],
   "source": [
    "d = [2, 4, 5, 1]\n",
    "np.argsort(d)\n"
   ]
  },
  {
   "cell_type": "code",
   "execution_count": 26,
   "metadata": {
    "collapsed": false,
    "nbgrader": {
     "grade": true,
     "grade_id": "Q4B",
     "locked": true,
     "points": 1,
     "solution": false
    }
   },
   "outputs": [],
   "source": [
    "from nose.tools import assert_equal\n",
    "assert_equal(sort_tuple_list([(1, 3), (3, 2), (2, 1)]), [(2, 1), (3, 2), (1, 3)])\n",
    "assert_equal(sort_tuple_list([(2, 3), (1, 2), (3, 1)]), [(3, 1), (1, 2), (2, 3)])\n",
    "assert_equal(sort_tuple_list([(1, 7), (1, 3), (3, 4, 5), (2, 2)]), [(2, 2), (1, 3), (3, 4, 5), (1, 7)])"
   ]
  },
  {
   "cell_type": "markdown",
   "metadata": {},
   "source": [
    "# 5. (1.0 point) List sort"
   ]
  },
  {
   "cell_type": "markdown",
   "metadata": {},
   "source": [
    "Given two lists sorted in increasing order, create and return a merged list of all the elements in sorted order. You may modify the passed in lists. Ideally, the solution should work in \"linear\" time, making a single pass of both lists."
   ]
  },
  {
   "cell_type": "code",
   "execution_count": 32,
   "metadata": {
    "collapsed": false,
    "nbgrader": {
     "grade": false,
     "grade_id": "Q5A",
     "locked": false,
     "solution": true
    }
   },
   "outputs": [],
   "source": [
    "def list_merge(list1, list2):\n",
    "    '''Given two lists sorted in increasing order, create and \n",
    "       return a merged list of all the elements in sorted order\n",
    "    '''\n",
    "    ### BEGIN SOLUTION\n",
    "    len1 = len(list1)\n",
    "    len2 = len(list2)\n",
    "    result = list()\n",
    "    while (len1 > 0) and (len2 > 0):\n",
    "        if list1[0] < list2[0]:\n",
    "            result.append(list1.pop(0))\n",
    "            len1 = len1 - 1\n",
    "        else:\n",
    "            result.append(list2.pop(0))\n",
    "            len2 = len2 - 1\n",
    "    if len1 == 0:\n",
    "        result.extend(list2)\n",
    "    if len2 == 0:\n",
    "        result.extend(list1)\n",
    "    return result\n",
    "    ### END SOLUTION"
   ]
  },
  {
   "cell_type": "code",
   "execution_count": 33,
   "metadata": {
    "collapsed": false,
    "nbgrader": {
     "grade": true,
     "grade_id": "Q5B",
     "locked": true,
     "points": 1,
     "solution": false
    }
   },
   "outputs": [],
   "source": [
    "from nose.tools import assert_equal\n",
    "assert_equal(list_merge(['aa', 'xx', 'zz'], ['bb', 'cc']), ['aa', 'bb', 'cc', 'xx', 'zz'])\n",
    "assert_equal(list_merge(['aa', 'xx'], ['bb', 'cc', 'zz']), ['aa', 'bb', 'cc', 'xx', 'zz'])\n",
    "assert_equal(list_merge(['aa', 'aa'], ['aa', 'bb', 'bb']), ['aa', 'aa', 'aa', 'bb', 'bb'])"
   ]
  },
  {
   "cell_type": "markdown",
   "metadata": {},
   "source": [
    "# 6. (1.0 point) Built-in Operator"
   ]
  },
  {
   "cell_type": "markdown",
   "metadata": {},
   "source": [
    "Imagine that Python doesn’t have the `!=` operator built in. Write a function that takes two parameters and gives the same result as the `!=` operator. Obviously, you cannot use `!=` within your function! Test if your code works by thinking of examples and making sure the output is the same for your new method as `!=` gives you."
   ]
  },
  {
   "cell_type": "code",
   "execution_count": 41,
   "metadata": {
    "collapsed": true,
    "nbgrader": {
     "grade": false,
     "grade_id": "Q6A",
     "locked": false,
     "solution": true
    }
   },
   "outputs": [],
   "source": [
    "def not_equal(val1, val2):\n",
    "    ''' User supplied version of the != operator, implemeted without using !='''\n",
    "    ### BEGIN SOLUTION\n",
    "    if val1 == val2:\n",
    "        return False\n",
    "    else:\n",
    "        return True\n",
    "    ### END SOLUTION"
   ]
  },
  {
   "cell_type": "code",
   "execution_count": 42,
   "metadata": {
    "collapsed": false,
    "nbgrader": {
     "grade": true,
     "grade_id": "Q6B",
     "locked": true,
     "points": 1,
     "solution": false
    }
   },
   "outputs": [],
   "source": [
    "from nose.tools import assert_true, assert_false\n",
    "assert_true(not_equal(2,3))\n",
    "assert_false(not_equal(3,3))\n",
    "assert_true(not_equal('3',3))\n",
    "assert_true(not_equal((1,2),[1,2]))\n",
    "assert_false(not_equal((3,4),(3,4)))"
   ]
  },
  {
   "cell_type": "markdown",
   "metadata": {},
   "source": [
    "## 7. (1.5 point) Quadratic Formula"
   ]
  },
  {
   "cell_type": "markdown",
   "metadata": {},
   "source": [
    "A quadratic equation is a second order polynomial with three coefficients a, b, and c. It is given by:\n",
    "\n",
    "$$ax^2 + bx + c = 0$$\n",
    "\n",
    "The solutions to the equation are given by the formulas:\n",
    "\n",
    "$$x_1 = \\frac{-b + \\sqrt{b^2 - 4ac}}{2a}$$\n",
    "\n",
    "and\n",
    "\n",
    "$$x_2 = \\frac{-b - \\sqrt{b^2 - 4ac}}{2a}$$\n",
    "\n"
   ]
  },
  {
   "cell_type": "markdown",
   "metadata": {},
   "source": [
    "Write a function that computes the roots of a quadratic equation and returns them as a tuple. Your function should take three parameters, a, b, and c. Note that if\n",
    "\n",
    "$$b^2 - 4ac < 0$$ \n",
    "\n",
    "then the roots will be complex. Hint: remember that Python has a built-in complex data type."
   ]
  },
  {
   "cell_type": "code",
   "execution_count": 59,
   "metadata": {
    "collapsed": false,
    "nbgrader": {
     "grade": false,
     "grade_id": "Q7A",
     "locked": false,
     "solution": true
    }
   },
   "outputs": [],
   "source": [
    "def roots(a, b, c):\n",
    "    ''' Computes the roots of the quadratic equation with coefficients a, b, c, and returns\n",
    "        them as the tuple (x1, x2)\n",
    "    '''\n",
    "    ### BEGIN SOLUTION\n",
    "    res = tuple()\n",
    "    if a == 0 and b != 0:\n",
    "        res = res +(-c/b,-c/b)\n",
    "    if a == 0 and b == 0:\n",
    "        res = res + (complex(0,0), complex(0,0))\n",
    "    if a != 0:\n",
    "        deltasqr = b ** 2 - 4 * a * c\n",
    "        if deltasqr >= 0:\n",
    "            res = res + ((-b + np.sqrt(deltasqr)) / (2 * a), (-b - np.sqrt(deltasqr)) / (2 * a))\n",
    "        else:\n",
    "            res = res + (complex(-b/(2*a), np.sqrt(-deltasqr)/(2 * a)), complex(-b/(2*a), -np.sqrt(-deltasqr)/(2 * a)))\n",
    "    return res\n",
    "    ### END SOLUTION"
   ]
  },
  {
   "cell_type": "code",
   "execution_count": 60,
   "metadata": {
    "collapsed": false,
    "nbgrader": {
     "grade": true,
     "grade_id": "Q7B",
     "locked": true,
     "points": 2,
     "solution": false
    }
   },
   "outputs": [],
   "source": [
    "from nose.tools import assert_equal\n",
    "assert_equal(roots(1,2,3), ((-1+1.4142135623730951j), (-1-1.4142135623730951j)))\n",
    "assert_equal(roots(0,0,4), (0j, 0j))\n",
    "assert_equal(roots(-4,3,2), (-0.42539052967910607, 1.175390529679106))"
   ]
  },
  {
   "cell_type": "markdown",
   "metadata": {},
   "source": [
    "## 8. (2.5 points) The Game of Nims"
   ]
  },
  {
   "cell_type": "markdown",
   "metadata": {
    "collapsed": true,
    "nbgrader": {
     "grade": false,
     "grade_id": "import_5",
     "locked": false,
     "points": 1,
     "solution": false
    }
   },
   "source": [
    "In this game, two players sit in front of a pile of 100 stones. They take turns, each removing between 1 and 5 stones (assuming there are at least 5 stones left in the pile). The person who removes the last stone(s) wins.\n",
    "\n",
    "In this problem, you’ll write a function to play this game. It may seem tricky, so break it down into parts. Like many programs, we have to use nested loops (one loop inside another). In the outermost loop, we want to keep playing until we are out of stones. Inside that, we want to keep alternating players. You have the option of either writing two blocks of code, or keeping a variable that tracks the current player.\n",
    "\n",
    "We are going to use the `input` function to obtain the user's move. We might want to have an innermost loop that checks if the user’s input is valid. Is it a number? Is it a valid number (e.g. between 1 and 5)? Are there enough stones in the pile to take off this many? If any of these answers are no, we should tell the user and re-ask them the question.\n",
    "\n",
    "If you choose to write two blocks of code, the basic outline of the program should be something like this:\n",
    "\n",
    "    while [pile is not empty]:\n",
    "       while [player 1’s answer is not valid]:\n",
    "          [ask player 1]\n",
    "       [execute player 1’s move]\n",
    "       [same as above for player 2]\n",
    "       \n",
    "Be careful with the validity checks. Specifically, we want to keep asking player 1 for their choice as long as their answer is not valid, BUT we want to make sure we ask them at least ONCE. So, for example, we will want to keep a variable that tracks whether their answer is valid, and set it to `False` initially.\n",
    "\n",
    "There is no need to limit yourself to only one function! Use as many functions as you want in order to make the code more readable and modular.\n",
    "\n",
    "When you're finished, test each other's programs by playing them!"
   ]
  },
  {
   "cell_type": "code",
   "execution_count": 7,
   "metadata": {
    "collapsed": false,
    "nbgrader": {
     "grade": true,
     "grade_id": "Q8A",
     "locked": false,
     "points": 4,
     "solution": true
    }
   },
   "outputs": [],
   "source": [
    "\n",
    "def play_nims(pile, max_stones):\n",
    "    '''\n",
    "    An interactive two-person game; also known as Stones.\n",
    "    @param pile: the number of stones in the pile to start\n",
    "    @param max_stones: the maximum number of stones you can take in one turn\n",
    "    '''\n",
    "\n",
    "## Basic structure of program (feel free to alter as you please):\n",
    "\n",
    "#    while [pile is not empty]:\n",
    "#        while [player 1's answer is not valid]:\n",
    "#            [ask player 1]\n",
    "#            [execute player 1's move]\n",
    "#       \n",
    "#        while [player 2's answer is not valid]:\n",
    "#            [ask player 2]\n",
    "#            [execute player 2's move]\n",
    "#\n",
    "#    print \"Game over\"\n",
    "### BEGIN SOLUTION\n",
    "    endflag = False\n",
    "    while endflag != True:\n",
    "        p1 = ask(pile, max_stones)\n",
    "        pile = pile - p1\n",
    "        endflag = (pile <= 0)\n",
    "        if endflag == True:\n",
    "            print('player 1 wins!')\n",
    "            break\n",
    "        p2 = ask(pile, max_stones)\n",
    "        pile = pile - p2\n",
    "        endflag = (pile <= 0)\n",
    "        if endflag == True:\n",
    "            print('player 2 wins!')\n",
    "            break\n",
    "        \n",
    "            \n",
    "        \n",
    "### END SOLUTION"
   ]
  },
  {
   "cell_type": "code",
   "execution_count": 10,
   "metadata": {
    "collapsed": false
   },
   "outputs": [],
   "source": [
    "def ask(pile, max_stones):\n",
    "    isvalid = False\n",
    "    while isvalid != True:\n",
    "        currmax = min(pile, max_stones)\n",
    "        validans = list(range(currmax + 1))[1:]\n",
    "        print('valid inputs:')\n",
    "        print(validans)\n",
    "        print('current total number of rocks:', pile)\n",
    "        inp1 = input(\"Select the number of rocks you want to take\\n> \")\n",
    "        if('.' in inp1):\n",
    "            print('error, it should be an integer!')\n",
    "            continue\n",
    "        if int(inp1) in validans:\n",
    "            isvalid = True\n",
    "            return int(inp1)\n",
    "\n",
    "      "
   ]
  },
  {
   "cell_type": "code",
   "execution_count": 12,
   "metadata": {
    "collapsed": false
   },
   "outputs": [
    {
     "name": "stdout",
     "output_type": "stream",
     "text": [
      "valid inputs:\n",
      "[1, 2, 3, 4, 5]\n",
      "current total number of rocks: 30\n",
      "Select the number of rocks you want to take\n",
      "> 10\n",
      "valid inputs:\n",
      "[1, 2, 3, 4, 5]\n",
      "current total number of rocks: 30\n",
      "Select the number of rocks you want to take\n",
      "> 4\n",
      "valid inputs:\n",
      "[1, 2, 3, 4, 5]\n",
      "current total number of rocks: 26\n",
      "Select the number of rocks you want to take\n",
      "> 3\n",
      "valid inputs:\n",
      "[1, 2, 3, 4, 5]\n",
      "current total number of rocks: 23\n",
      "Select the number of rocks you want to take\n",
      "> 5\n",
      "valid inputs:\n",
      "[1, 2, 3, 4, 5]\n",
      "current total number of rocks: 18\n",
      "Select the number of rocks you want to take\n",
      "> 4\n",
      "valid inputs:\n",
      "[1, 2, 3, 4, 5]\n",
      "current total number of rocks: 14\n",
      "Select the number of rocks you want to take\n",
      "> 4\n",
      "valid inputs:\n",
      "[1, 2, 3, 4, 5]\n",
      "current total number of rocks: 10\n",
      "Select the number of rocks you want to take\n",
      "> 3\n",
      "valid inputs:\n",
      "[1, 2, 3, 4, 5]\n",
      "current total number of rocks: 7\n",
      "Select the number of rocks you want to take\n",
      "> 4\n",
      "valid inputs:\n",
      "[1, 2, 3]\n",
      "current total number of rocks: 3\n",
      "Select the number of rocks you want to take\n",
      "> 4\n",
      "valid inputs:\n",
      "[1, 2, 3]\n",
      "current total number of rocks: 3\n",
      "Select the number of rocks you want to take\n",
      "> 2\n",
      "valid inputs:\n",
      "[1]\n",
      "current total number of rocks: 1\n",
      "Select the number of rocks you want to take\n",
      "> 1\n",
      "player 1 wins!\n"
     ]
    }
   ],
   "source": [
    "play_nims(30, 5)"
   ]
  },
  {
   "cell_type": "code",
   "execution_count": null,
   "metadata": {
    "collapsed": true
   },
   "outputs": [],
   "source": []
  }
 ],
 "metadata": {
  "anaconda-cloud": {},
  "celltoolbar": "Create Assignment",
  "kernelspec": {
   "display_name": "Python 3",
   "language": "python",
   "name": "python3"
  },
  "language_info": {
   "codemirror_mode": {
    "name": "ipython",
    "version": 3
   },
   "file_extension": ".py",
   "mimetype": "text/x-python",
   "name": "python",
   "nbconvert_exporter": "python",
   "pygments_lexer": "ipython3",
   "version": "3.6.0"
  }
 },
 "nbformat": 4,
 "nbformat_minor": 1
}
